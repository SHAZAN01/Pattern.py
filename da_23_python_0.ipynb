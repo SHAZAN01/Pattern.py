{
  "nbformat": 4,
  "nbformat_minor": 0,
  "metadata": {
    "colab": {
      "provenance": [],
      "include_colab_link": true
    },
    "kernelspec": {
      "name": "python3",
      "display_name": "Python 3"
    },
    "language_info": {
      "name": "python"
    }
  },
  "cells": [
    {
      "cell_type": "markdown",
      "metadata": {
        "id": "view-in-github",
        "colab_type": "text"
      },
      "source": [
        "<a href=\"https://colab.research.google.com/github/SHAZAN01/Python/blob/main/da_23_python_0.ipynb\" target=\"_parent\"><img src=\"https://colab.research.google.com/assets/colab-badge.svg\" alt=\"Open In Colab\"/></a>"
      ]
    },
    {
      "cell_type": "markdown",
      "source": [
        "# Python Introduction"
      ],
      "metadata": {
        "id": "750Skx7JUkMu"
      }
    },
    {
      "cell_type": "code",
      "source": [
        "print(2+3)\n",
        "print('Hello  Python')\n",
        "#Ctrl+Enter"
      ],
      "metadata": {
        "colab": {
          "base_uri": "https://localhost:8080/"
        },
        "id": "xre6OMl6Uas5",
        "outputId": "8d2f8dde-cc53-4a04-becc-0ffca6061b44"
      },
      "execution_count": null,
      "outputs": [
        {
          "output_type": "stream",
          "name": "stdout",
          "text": [
            "5\n",
            "Hello  Python\n"
          ]
        }
      ]
    },
    {
      "cell_type": "markdown",
      "source": [
        "### Comments"
      ],
      "metadata": {
        "id": "_IEUXhXMWJul"
      }
    },
    {
      "cell_type": "code",
      "source": [
        "#  Single Line comment\n",
        "\n",
        "\n",
        "# print('Hello')\n",
        "# print('hi')\n",
        "# Ctrl + /\n",
        "\n",
        "# Docstrings\n",
        "'''\n",
        "Hi\n",
        "I am a\n",
        "multiline\n",
        "guy\n",
        "'''\n",
        "\n",
        "\n",
        "\"\"\"\n",
        "hi i\n",
        "am also a\n",
        "multiline guy\n",
        "\"\"\"\n",
        "\n",
        "print('hi there')\n"
      ],
      "metadata": {
        "colab": {
          "base_uri": "https://localhost:8080/"
        },
        "id": "NlUulyhBWK6U",
        "outputId": "386bcf0b-f5e4-4201-fc21-2f770bd080fe"
      },
      "execution_count": null,
      "outputs": [
        {
          "output_type": "stream",
          "name": "stdout",
          "text": [
            "hi there\n"
          ]
        }
      ]
    },
    {
      "cell_type": "markdown",
      "source": [
        "### Basics of Python"
      ],
      "metadata": {
        "id": "JUPIEVn3Za9n"
      }
    },
    {
      "cell_type": "markdown",
      "source": [
        "### Indentation"
      ],
      "metadata": {
        "id": "NFelEPngZ0H7"
      }
    },
    {
      "cell_type": "code",
      "source": [
        "                               print('hi')\n"
      ],
      "metadata": {
        "colab": {
          "base_uri": "https://localhost:8080/"
        },
        "id": "F-71dUtOYm02",
        "outputId": "c881ed31-7cfb-4a63-b4bd-727d80df1f48"
      },
      "execution_count": null,
      "outputs": [
        {
          "output_type": "stream",
          "name": "stdout",
          "text": [
            "hi\n"
          ]
        }
      ]
    },
    {
      "cell_type": "code",
      "source": [
        "print('hi')\n",
        "    print('hello')"
      ],
      "metadata": {
        "colab": {
          "base_uri": "https://localhost:8080/",
          "height": 130
        },
        "id": "tIu46ZXDZ7rX",
        "outputId": "d3c71204-f618-4d0a-a30d-223a6da5e888"
      },
      "execution_count": null,
      "outputs": [
        {
          "output_type": "error",
          "ename": "IndentationError",
          "evalue": "ignored",
          "traceback": [
            "\u001b[0;36m  File \u001b[0;32m\"<ipython-input-15-72bebf690b99>\"\u001b[0;36m, line \u001b[0;32m2\u001b[0m\n\u001b[0;31m    print('hello')\u001b[0m\n\u001b[0m    ^\u001b[0m\n\u001b[0;31mIndentationError\u001b[0m\u001b[0;31m:\u001b[0m unexpected indent\n"
          ]
        }
      ]
    },
    {
      "cell_type": "code",
      "source": [
        "print('hi') print('hello')\n",
        "print('hi2')"
      ],
      "metadata": {
        "colab": {
          "base_uri": "https://localhost:8080/",
          "height": 130
        },
        "id": "snRuTcxcaifd",
        "outputId": "162acba4-91d4-4950-b231-eea26da5829f"
      },
      "execution_count": null,
      "outputs": [
        {
          "output_type": "error",
          "ename": "SyntaxError",
          "evalue": "ignored",
          "traceback": [
            "\u001b[0;36m  File \u001b[0;32m\"<ipython-input-16-8da43fb2a0cf>\"\u001b[0;36m, line \u001b[0;32m1\u001b[0m\n\u001b[0;31m    print('hi') print('hello')\u001b[0m\n\u001b[0m                ^\u001b[0m\n\u001b[0;31mSyntaxError\u001b[0m\u001b[0;31m:\u001b[0m invalid syntax\n"
          ]
        }
      ]
    },
    {
      "cell_type": "code",
      "source": [
        "print('hi')\n",
        "\n",
        "print('hello')\n",
        "\n",
        "\n",
        " print('hi2')\n",
        "  print('hi2')"
      ],
      "metadata": {
        "colab": {
          "base_uri": "https://localhost:8080/",
          "height": 130
        },
        "id": "ttUpIYZZa2nP",
        "outputId": "888c0b9c-ff2a-4da8-e86b-c8356d6c7b31"
      },
      "execution_count": null,
      "outputs": [
        {
          "output_type": "error",
          "ename": "IndentationError",
          "evalue": "ignored",
          "traceback": [
            "\u001b[0;36m  File \u001b[0;32m\"<ipython-input-20-e3b2a93f0f73>\"\u001b[0;36m, line \u001b[0;32m5\u001b[0m\n\u001b[0;31m    print('hi2')\u001b[0m\n\u001b[0m    ^\u001b[0m\n\u001b[0;31mIndentationError\u001b[0m\u001b[0;31m:\u001b[0m unexpected indent\n"
          ]
        }
      ]
    },
    {
      "cell_type": "code",
      "source": [
        "print('hi2')\n",
        "print('hi3')\n",
        "print('hi4')\n"
      ],
      "metadata": {
        "colab": {
          "base_uri": "https://localhost:8080/"
        },
        "id": "8gwqwzQCbjwz",
        "outputId": "2739de08-cff2-4feb-f024-2a60a0809da7"
      },
      "execution_count": null,
      "outputs": [
        {
          "output_type": "stream",
          "name": "stdout",
          "text": [
            "hi2\n",
            "hi3\n",
            "hi4\n"
          ]
        }
      ]
    },
    {
      "cell_type": "code",
      "source": [
        "if True:\n",
        "  print('hi')\n",
        "\n",
        "print(123)\n",
        "\n"
      ],
      "metadata": {
        "colab": {
          "base_uri": "https://localhost:8080/"
        },
        "id": "mnusjrYhcRas",
        "outputId": "f577f90c-112f-4b85-a72b-c4c0daa0209f"
      },
      "execution_count": null,
      "outputs": [
        {
          "output_type": "stream",
          "name": "stdout",
          "text": [
            "hi\n",
            "123\n"
          ]
        }
      ]
    },
    {
      "cell_type": "code",
      "source": [
        "print(12 + 12)\n",
        "print(12+12)\n",
        "print   (      12              +                  12)"
      ],
      "metadata": {
        "colab": {
          "base_uri": "https://localhost:8080/"
        },
        "id": "Noa1dzcyZ1_W",
        "outputId": "cc509cca-df3e-411b-a76c-079d647d4593"
      },
      "execution_count": null,
      "outputs": [
        {
          "output_type": "stream",
          "name": "stdout",
          "text": [
            "24\n",
            "24\n",
            "24\n"
          ]
        }
      ]
    },
    {
      "cell_type": "markdown",
      "source": [
        "### Variables"
      ],
      "metadata": {
        "id": "v3iSb7bDdHKz"
      }
    },
    {
      "cell_type": "code",
      "source": [
        " a = 2\n",
        "#  a=2\n",
        "# a     =    2\n",
        "# print(id(a))\n",
        "id(a)"
      ],
      "metadata": {
        "colab": {
          "base_uri": "https://localhost:8080/"
        },
        "id": "tGib25-UdJAR",
        "outputId": "f8c4b84e-4a07-4dfb-c6dd-0b168402833d"
      },
      "execution_count": null,
      "outputs": [
        {
          "output_type": "execute_result",
          "data": {
            "text/plain": [
              "140445726779728"
            ]
          },
          "metadata": {},
          "execution_count": 33
        }
      ]
    },
    {
      "cell_type": "code",
      "source": [
        " a = 2;\n",
        "#  a=2\n",
        "# a     =    2\n",
        "\n",
        "print(id(a))\n",
        "id(a)"
      ],
      "metadata": {
        "colab": {
          "base_uri": "https://localhost:8080/"
        },
        "id": "rh8KyTBSeKH_",
        "outputId": "bf500d04-ed96-4c7c-f196-d74f3cfd3f4b"
      },
      "execution_count": null,
      "outputs": [
        {
          "output_type": "stream",
          "name": "stdout",
          "text": [
            "140445726779728\n"
          ]
        },
        {
          "output_type": "execute_result",
          "data": {
            "text/plain": [
              "140445726779728"
            ]
          },
          "metadata": {},
          "execution_count": 36
        }
      ]
    },
    {
      "cell_type": "markdown",
      "source": [
        "Rules to declare a variable-\n",
        "\n",
        "Valid Variables-\n",
        "1. lowercase alphabets (a-z)\n",
        "2. Uppercase alphabets (A-Z)\n",
        "3. Numbers\n",
        "4. _ Underscore\n",
        "\n",
        "Invalid varaibles-\n",
        "1. Symbols\n",
        "2. Whitespace\n",
        "3. Never start with a number\n",
        "4. Keywords / Reserved words\n"
      ],
      "metadata": {
        "id": "g2scoCrefijp"
      }
    },
    {
      "cell_type": "code",
      "source": [
        "# 6am = 2\n",
        "# my_variable\n",
        "____  = 3\n",
        "____"
      ],
      "metadata": {
        "colab": {
          "base_uri": "https://localhost:8080/"
        },
        "id": "9Ftg_0l7eueL",
        "outputId": "032341bf-d4be-4368-bda3-ab3263201144"
      },
      "execution_count": null,
      "outputs": [
        {
          "output_type": "execute_result",
          "data": {
            "text/plain": [
              "3"
            ]
          },
          "metadata": {},
          "execution_count": 37
        }
      ]
    },
    {
      "cell_type": "code",
      "source": [
        "# %HELLO\n",
        "# Hello@\n",
        "\n",
        "# hi123\n",
        "# O00000\n",
        "\n",
        "# 000000\n"
      ],
      "metadata": {
        "id": "BYp4v1eSg7eU"
      },
      "execution_count": null,
      "outputs": []
    },
    {
      "cell_type": "code",
      "source": [
        "# if  #keywords"
      ],
      "metadata": {
        "id": "VRZzCgOahTpz"
      },
      "execution_count": null,
      "outputs": []
    },
    {
      "cell_type": "code",
      "source": [
        "# CASES\n",
        "\n",
        "# myvariable #LOWERCASE\n",
        "# MYVARIABLE #UPPERCASE\n",
        "# Myvaraible #CAPITALCASE\n",
        "# MyVariable #TITLE\n",
        "# myVariable #CAMLE\n",
        "# My_Variable #SNAKE\n",
        "# my_variable #SNAKE"
      ],
      "metadata": {
        "id": "LUu9w-YOibfG"
      },
      "execution_count": null,
      "outputs": []
    },
    {
      "cell_type": "code",
      "source": [
        "a = 2\n",
        "b = 3\n",
        "c = 4\n",
        "print(a,',',b,c)\n",
        "# print(b)\n",
        "# print(c)"
      ],
      "metadata": {
        "colab": {
          "base_uri": "https://localhost:8080/"
        },
        "id": "HRNbUOqYlDxn",
        "outputId": "d21770d7-cb60-4b4e-f89c-47419abf5f1a"
      },
      "execution_count": null,
      "outputs": [
        {
          "output_type": "stream",
          "name": "stdout",
          "text": [
            "2 , 3 4\n"
          ]
        }
      ]
    },
    {
      "cell_type": "code",
      "source": [
        "a,b,c = 2,3,4\n",
        "print(a,b,c)"
      ],
      "metadata": {
        "colab": {
          "base_uri": "https://localhost:8080/"
        },
        "id": "f7V-E08Clq_T",
        "outputId": "5aeaca85-3587-4ea0-a812-dac04f18549c"
      },
      "execution_count": null,
      "outputs": [
        {
          "output_type": "stream",
          "name": "stdout",
          "text": [
            "2 3 4\n"
          ]
        }
      ]
    },
    {
      "cell_type": "code",
      "source": [
        "a,b,c = 5,7,6\n",
        "print(c,a,b)"
      ],
      "metadata": {
        "colab": {
          "base_uri": "https://localhost:8080/"
        },
        "id": "L8SLeCLcl5EU",
        "outputId": "bf31ec38-b6d1-4df1-980e-06ceac1dd8c5"
      },
      "execution_count": null,
      "outputs": [
        {
          "output_type": "stream",
          "name": "stdout",
          "text": [
            "6 5 7\n"
          ]
        }
      ]
    },
    {
      "cell_type": "code",
      "source": [
        "a,b,c = 5.6,7.5,6\n",
        "print(c,a,b)"
      ],
      "metadata": {
        "colab": {
          "base_uri": "https://localhost:8080/"
        },
        "id": "Uxkst3azmJ3s",
        "outputId": "b620218a-604f-428a-aa1d-217174067280"
      },
      "execution_count": null,
      "outputs": [
        {
          "output_type": "stream",
          "name": "stdout",
          "text": [
            "6 5.6 7.5\n"
          ]
        }
      ]
    },
    {
      "cell_type": "code",
      "source": [
        "a = 2\n",
        "a = 4\n",
        "print(a)"
      ],
      "metadata": {
        "colab": {
          "base_uri": "https://localhost:8080/"
        },
        "id": "2OLiMgBxmr7-",
        "outputId": "87e68dd9-fe78-4827-eee3-0b2d4e7c89f5"
      },
      "execution_count": null,
      "outputs": [
        {
          "output_type": "stream",
          "name": "stdout",
          "text": [
            "4\n"
          ]
        }
      ]
    },
    {
      "cell_type": "markdown",
      "source": [
        "###DataTypes Introduction\n",
        "\n",
        "1. Numeric\n",
        "  *   int\n",
        "  *   float\n",
        "  *   complex\n",
        "2. Boolean\n",
        "3. Sequence\n",
        "  *   String\n",
        "  *   List\n",
        "  *   Tuple\n",
        "4. Set\n",
        "5. Frozen Set\n",
        "6. Dictionary\n",
        "7. Range\n",
        "\n",
        "\n",
        "\n",
        "\n",
        "\n",
        "\n",
        "\n"
      ],
      "metadata": {
        "id": "u4R3uSFzmeKJ"
      }
    },
    {
      "cell_type": "code",
      "source": [
        "# INTEGER\n",
        "a = 2\n",
        "type(a)\n",
        "# print(type(a))"
      ],
      "metadata": {
        "colab": {
          "base_uri": "https://localhost:8080/"
        },
        "id": "VUXy1Agasv2c",
        "outputId": "6307971a-b9c2-4e92-e334-eed6c554933c"
      },
      "execution_count": null,
      "outputs": [
        {
          "output_type": "execute_result",
          "data": {
            "text/plain": [
              "int"
            ]
          },
          "metadata": {},
          "execution_count": 4
        }
      ]
    },
    {
      "cell_type": "code",
      "source": [
        "# FLOAT\n",
        "a = 2.4\n",
        "type(a)\n",
        "# print(type(a))"
      ],
      "metadata": {
        "colab": {
          "base_uri": "https://localhost:8080/"
        },
        "id": "DeciA3HDtvlb",
        "outputId": "a8f2f91c-537c-4d79-d946-112cfe8b240a"
      },
      "execution_count": null,
      "outputs": [
        {
          "output_type": "execute_result",
          "data": {
            "text/plain": [
              "float"
            ]
          },
          "metadata": {},
          "execution_count": 5
        }
      ]
    },
    {
      "cell_type": "code",
      "source": [
        "# COMPLEX\n",
        "# a = real+imag(j)\n",
        "# a = 2+3j\n",
        "# a = 2+j3, i3, 3i #errors\n",
        "\n",
        "# a=3,b=4\n",
        "a,b = 3,4\n",
        "# c = a+bj\n",
        "c = a+4j\n",
        "type(c)\n",
        "# print(type(a))\n",
        "# c\n",
        "print(c.real, c.imag)"
      ],
      "metadata": {
        "colab": {
          "base_uri": "https://localhost:8080/"
        },
        "id": "RskSMaRQt0m2",
        "outputId": "d7f665da-8ba7-4f23-e84e-254dd41ad5b2"
      },
      "execution_count": null,
      "outputs": [
        {
          "output_type": "stream",
          "name": "stdout",
          "text": [
            "3.0 4.0\n"
          ]
        }
      ]
    },
    {
      "cell_type": "markdown",
      "source": [
        "Boolean"
      ],
      "metadata": {
        "id": "NdAmhWeEvPbl"
      }
    },
    {
      "cell_type": "code",
      "source": [
        "# a = True\n",
        "a = False\n",
        "type(a)"
      ],
      "metadata": {
        "colab": {
          "base_uri": "https://localhost:8080/"
        },
        "id": "QAsxHs5TvQ30",
        "outputId": "fc8f3792-bbe0-48c1-b96c-cd62a423eee6"
      },
      "execution_count": null,
      "outputs": [
        {
          "output_type": "execute_result",
          "data": {
            "text/plain": [
              "bool"
            ]
          },
          "metadata": {},
          "execution_count": 14
        }
      ]
    },
    {
      "cell_type": "markdown",
      "source": [
        "String"
      ],
      "metadata": {
        "id": "ypPjYmNnvfcC"
      }
    },
    {
      "cell_type": "code",
      "source": [
        "# a = 'hello'\n",
        "# a = \"hello\"\n",
        "\n",
        "# a = \"123\"\n",
        "# a =' Abc 123'\n",
        "a = '21#$%!#$%#$%$#$HHETYH@%^&^&**(&     rehyeryhe'\n",
        "type(a)"
      ],
      "metadata": {
        "colab": {
          "base_uri": "https://localhost:8080/"
        },
        "id": "MBJkAPZqvMyn",
        "outputId": "05f96553-00fc-4ea5-b69c-86ab0f59ff31"
      },
      "execution_count": null,
      "outputs": [
        {
          "output_type": "execute_result",
          "data": {
            "text/plain": [
              "str"
            ]
          },
          "metadata": {},
          "execution_count": 19
        }
      ]
    },
    {
      "cell_type": "code",
      "source": [
        "a = f'hi there'\n",
        "type(a)"
      ],
      "metadata": {
        "id": "96ssdY8FmgPG",
        "colab": {
          "base_uri": "https://localhost:8080/"
        },
        "outputId": "59fc2171-a008-4485-8fbc-d5875acbe7a2"
      },
      "execution_count": null,
      "outputs": [
        {
          "output_type": "execute_result",
          "data": {
            "text/plain": [
              "str"
            ]
          },
          "metadata": {},
          "execution_count": 21
        }
      ]
    },
    {
      "cell_type": "markdown",
      "source": [
        "List"
      ],
      "metadata": {
        "id": "Zw7tPxwKwuOh"
      }
    },
    {
      "cell_type": "code",
      "source": [
        "a = [1,2,'3','4',5]\n",
        "type(a)"
      ],
      "metadata": {
        "colab": {
          "base_uri": "https://localhost:8080/"
        },
        "id": "87vD4bnLwwI7",
        "outputId": "1d9538f4-3462-418a-d967-1c9071a39a70"
      },
      "execution_count": null,
      "outputs": [
        {
          "output_type": "execute_result",
          "data": {
            "text/plain": [
              "list"
            ]
          },
          "metadata": {},
          "execution_count": 24
        }
      ]
    },
    {
      "cell_type": "markdown",
      "source": [
        "Tuple"
      ],
      "metadata": {
        "id": "vKB7MMBJxnaz"
      }
    },
    {
      "cell_type": "code",
      "source": [
        "a = (1,2,3,4,5)\n",
        "type(a)"
      ],
      "metadata": {
        "colab": {
          "base_uri": "https://localhost:8080/"
        },
        "id": "LpgQ8hzVxokd",
        "outputId": "aefbf3ac-fd8b-4899-a8e3-b9214837236c"
      },
      "execution_count": null,
      "outputs": [
        {
          "output_type": "execute_result",
          "data": {
            "text/plain": [
              "tuple"
            ]
          },
          "metadata": {},
          "execution_count": 25
        }
      ]
    },
    {
      "cell_type": "markdown",
      "source": [
        "Set"
      ],
      "metadata": {
        "id": "Qwtla1hwyARd"
      }
    },
    {
      "cell_type": "code",
      "source": [
        "a = {1,2,3,4}\n",
        "type(a)"
      ],
      "metadata": {
        "colab": {
          "base_uri": "https://localhost:8080/"
        },
        "id": "-PycZ85HyCVh",
        "outputId": "2f272594-5aae-49ba-a089-b4c2d752d87e"
      },
      "execution_count": null,
      "outputs": [
        {
          "output_type": "execute_result",
          "data": {
            "text/plain": [
              "set"
            ]
          },
          "metadata": {},
          "execution_count": 26
        }
      ]
    },
    {
      "cell_type": "markdown",
      "source": [
        "Frozenset"
      ],
      "metadata": {
        "id": "rAZdjWIay2E3"
      }
    },
    {
      "cell_type": "code",
      "source": [
        "a = frozenset({1,2,32,4})\n",
        "type(a)"
      ],
      "metadata": {
        "colab": {
          "base_uri": "https://localhost:8080/"
        },
        "id": "k7utAtTBy3kx",
        "outputId": "1bc84718-9590-4416-a1dc-88a056a6d5e1"
      },
      "execution_count": null,
      "outputs": [
        {
          "output_type": "execute_result",
          "data": {
            "text/plain": [
              "frozenset"
            ]
          },
          "metadata": {},
          "execution_count": 29
        }
      ]
    },
    {
      "cell_type": "markdown",
      "source": [
        "Dictionary"
      ],
      "metadata": {
        "id": "A9ZbRH5IyUNa"
      }
    },
    {
      "cell_type": "code",
      "source": [
        "# a = {key:value}\n",
        "a = {1:2, \"hi\":'hello'}\n",
        "type(a)"
      ],
      "metadata": {
        "colab": {
          "base_uri": "https://localhost:8080/"
        },
        "id": "K8R89fLSyVcm",
        "outputId": "88dd8283-1e17-49e2-88b7-6f8022ad812b"
      },
      "execution_count": null,
      "outputs": [
        {
          "output_type": "execute_result",
          "data": {
            "text/plain": [
              "dict"
            ]
          },
          "metadata": {},
          "execution_count": 31
        }
      ]
    },
    {
      "cell_type": "markdown",
      "source": [
        "range"
      ],
      "metadata": {
        "id": "p8j2OyQsyzp2"
      }
    },
    {
      "cell_type": "code",
      "source": [
        "a = range(1,10)\n",
        "type(a)"
      ],
      "metadata": {
        "colab": {
          "base_uri": "https://localhost:8080/"
        },
        "id": "_kE-_BWyxmsE",
        "outputId": "50472175-c339-4f39-8338-1216ede5bbe8"
      },
      "execution_count": null,
      "outputs": [
        {
          "output_type": "execute_result",
          "data": {
            "text/plain": [
              "range"
            ]
          },
          "metadata": {},
          "execution_count": 30
        }
      ]
    }
  ]
}
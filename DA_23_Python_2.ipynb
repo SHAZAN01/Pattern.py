{
  "nbformat": 4,
  "nbformat_minor": 0,
  "metadata": {
    "colab": {
      "provenance": [],
      "include_colab_link": true
    },
    "kernelspec": {
      "name": "python3",
      "display_name": "Python 3"
    },
    "language_info": {
      "name": "python"
    }
  },
  "cells": [
    {
      "cell_type": "markdown",
      "metadata": {
        "id": "view-in-github",
        "colab_type": "text"
      },
      "source": [
        "<a href=\"https://colab.research.google.com/github/SHAZAN01/Python/blob/main/DA_23_Python_2.ipynb\" target=\"_parent\"><img src=\"https://colab.research.google.com/assets/colab-badge.svg\" alt=\"Open In Colab\"/></a>"
      ]
    },
    {
      "cell_type": "markdown",
      "source": [
        "###Detailed Datatypes"
      ],
      "metadata": {
        "id": "0RIZRe3F78I6"
      }
    },
    {
      "cell_type": "markdown",
      "source": [
        "**Strings**"
      ],
      "metadata": {
        "id": "3k8b4OfU7-Rw"
      }
    },
    {
      "cell_type": "code",
      "execution_count": null,
      "metadata": {
        "colab": {
          "base_uri": "https://localhost:8080/"
        },
        "id": "knFJnJ0p71Er",
        "outputId": "b5d422cc-934a-4744-c829-19cde5467501"
      },
      "outputs": [
        {
          "output_type": "execute_result",
          "data": {
            "text/plain": [
              "str"
            ]
          },
          "metadata": {},
          "execution_count": 4
        }
      ],
      "source": [
        "# a = 'Python'\n",
        "# a = \"Python\"\n",
        "a = str(\"python\")\n",
        "type(a)"
      ]
    },
    {
      "cell_type": "code",
      "source": [
        "# hi\n",
        "# hello\n",
        "# there\n",
        "print('hi')"
      ],
      "metadata": {
        "colab": {
          "base_uri": "https://localhost:8080/"
        },
        "id": "k4XkR7rB8iRk",
        "outputId": "31f2a89f-e8e6-413a-c3f0-b6b77527d610"
      },
      "execution_count": null,
      "outputs": [
        {
          "output_type": "stream",
          "name": "stdout",
          "text": [
            "hi\n"
          ]
        }
      ]
    },
    {
      "cell_type": "code",
      "source": [
        "''' hi\n",
        "hello\n",
        "there\n",
        "'''\n",
        "print('hi')"
      ],
      "metadata": {
        "colab": {
          "base_uri": "https://localhost:8080/"
        },
        "id": "GFt40jIv8S42",
        "outputId": "7841eb8a-be72-48f1-cc57-530029e117b9"
      },
      "execution_count": null,
      "outputs": [
        {
          "output_type": "stream",
          "name": "stdout",
          "text": [
            "hi\n"
          ]
        }
      ]
    },
    {
      "cell_type": "code",
      "source": [
        "# a = 'Shazan'\n",
        "# b = \"200\"\n",
        "# c = 'young'\n",
        "\n",
        "a,b,c = 'Shazan',\"200\", 'young'\n",
        "# print(\"My name is\",a)\n",
        "# print('My name is ',a,\" I am \",c, \" and worth of \",b,\" crores.\")\n",
        "\n",
        "# String concatenation\n",
        "# print('My name is '+a+\" I am \"+c+ \" and worth of \"+b+\" crores.\")\n",
        "\n",
        "# print(f\"My name is {a} I am {c} and worth of {b} crores.\")\n",
        "\n",
        "# print(\"My name is {} I am {} and worth of {} crores.\".format(a,c,b))\n",
        "\n",
        "print(\"My name is {0} I am {2} and worth of {1} crores.\".format(a,b,c))"
      ],
      "metadata": {
        "colab": {
          "base_uri": "https://localhost:8080/"
        },
        "id": "mVJu9ev6873V",
        "outputId": "b54a2032-1f64-4ae3-9fd2-f0ae4571e047"
      },
      "execution_count": null,
      "outputs": [
        {
          "output_type": "stream",
          "name": "stdout",
          "text": [
            "My name is Shazan I am young and worth of 200 crores.\n"
          ]
        }
      ]
    },
    {
      "cell_type": "markdown",
      "source": [
        "Indexing"
      ],
      "metadata": {
        "id": "2pw8bP_zEiv7"
      }
    },
    {
      "cell_type": "code",
      "source": [
        "a = 'Python'\n",
        "# Positive indexing\n",
        "# a[0]\n",
        "# a[1]\n",
        "# a[5]\n",
        "\n",
        "# Negative indexing\n",
        "# a[-3]\n",
        "# a[-6]"
      ],
      "metadata": {
        "colab": {
          "base_uri": "https://localhost:8080/",
          "height": 35
        },
        "id": "_t-HPotKBS67",
        "outputId": "5d212c86-ddf5-4c97-e77b-8d07bc4cc978"
      },
      "execution_count": null,
      "outputs": [
        {
          "output_type": "execute_result",
          "data": {
            "text/plain": [
              "'P'"
            ],
            "application/vnd.google.colaboratory.intrinsic+json": {
              "type": "string"
            }
          },
          "metadata": {},
          "execution_count": 17
        }
      ]
    },
    {
      "cell_type": "markdown",
      "source": [
        "Slicing"
      ],
      "metadata": {
        "id": "kRQvnjHCEdQZ"
      }
    },
    {
      "cell_type": "code",
      "source": [
        "a = 'Python'\n",
        "# a[ start : end(excluded) : step]\n",
        "# a[ start : end+1 : step]\n",
        "\n",
        "# tho\n",
        "# a[2:5]\n",
        "# a[2:5:1]\n",
        "# a[-4:-1]\n",
        "# a[-4:-1:1]\n",
        "# a[-4:5]\n",
        "# a[-4:5:1]\n",
        "# a[-4:5:]\n",
        "# a[2:-1:1]\n",
        "# a[2:-1:]\n",
        "\n",
        "# ytho\n",
        "# a[1:5]\n",
        "# a[-5:]\n",
        "\n",
        "# pyt\n",
        "# a[0:3]\n",
        "# a[0:3:1]\n",
        "# a[:3]\n",
        "\n",
        "# hon\n",
        "# a[3:6]\n",
        "# a[3:]\n",
        "\n",
        "# a\n",
        "# a[:]\n",
        "# a[::]\n",
        "# a[0:]\n",
        "# a[0:6]\n",
        "# a[0:6:1]\n"
      ],
      "metadata": {
        "colab": {
          "base_uri": "https://localhost:8080/",
          "height": 35
        },
        "id": "Zz1YbnefElt2",
        "outputId": "bf5d2615-dd64-41ae-a888-68466ef6632a"
      },
      "execution_count": null,
      "outputs": [
        {
          "output_type": "execute_result",
          "data": {
            "text/plain": [
              "'tho'"
            ],
            "application/vnd.google.colaboratory.intrinsic+json": {
              "type": "string"
            }
          },
          "metadata": {},
          "execution_count": 42
        }
      ]
    },
    {
      "cell_type": "code",
      "source": [
        "a = 'python'\n",
        "# pto\n",
        "# a[0:5:2]\n",
        "# a[::2]\n",
        "# a[1::2]\n",
        "# a[-6:-1:2]\n",
        "# a[-6::2]\n",
        "\n",
        "# yo\n",
        "# a[1::3]\n",
        "# a[1:5:3]\n",
        "# a[-5::3]\n",
        "# a[-5:-1:3]\n"
      ],
      "metadata": {
        "colab": {
          "base_uri": "https://localhost:8080/",
          "height": 35
        },
        "id": "A-3655uDHSXG",
        "outputId": "24be24ec-e475-4634-843a-54640b9274bc"
      },
      "execution_count": null,
      "outputs": [
        {
          "output_type": "execute_result",
          "data": {
            "text/plain": [
              "'yo'"
            ],
            "application/vnd.google.colaboratory.intrinsic+json": {
              "type": "string"
            }
          },
          "metadata": {},
          "execution_count": 53
        }
      ]
    },
    {
      "cell_type": "code",
      "source": [
        "a = 'python'\n",
        "# pn\n",
        "# a[::5]\n",
        "\n",
        "# nohtyp\n",
        "# a[::-1]\n",
        "\n",
        "# oy\n",
        "# a[-2::-3]\n",
        "# a[4:-6:-3]\n",
        "\n",
        "# otp\n",
        "a[0]+a[5]"
      ],
      "metadata": {
        "colab": {
          "base_uri": "https://localhost:8080/",
          "height": 35
        },
        "id": "HZCP7JUkJE54",
        "outputId": "0bccfdd3-2ae7-4151-c0a3-f73d443f52df"
      },
      "execution_count": null,
      "outputs": [
        {
          "output_type": "execute_result",
          "data": {
            "text/plain": [
              "'pn'"
            ],
            "application/vnd.google.colaboratory.intrinsic+json": {
              "type": "string"
            }
          },
          "metadata": {},
          "execution_count": 60
        }
      ]
    },
    {
      "cell_type": "code",
      "source": [
        "a = 'Python Programming is the best one in the world'\n",
        "# nnn\n",
        "# a.index('n') #5\n",
        "# a.index('n',10) #16\n",
        "# a.index('n',17) #32\n",
        "a[5]+a[16]+a[32]\n",
        "\n",
        "# a = 'python'\n",
        "# len(a)\n",
        "\n",
        "# a.count('n')"
      ],
      "metadata": {
        "colab": {
          "base_uri": "https://localhost:8080/"
        },
        "id": "09gWLNPOMGTI",
        "outputId": "ec2f00cc-9733-488e-dc2a-914d97918198"
      },
      "execution_count": null,
      "outputs": [
        {
          "output_type": "execute_result",
          "data": {
            "text/plain": [
              "4"
            ]
          },
          "metadata": {},
          "execution_count": 71
        }
      ]
    },
    {
      "cell_type": "code",
      "source": [
        "# a = 'PYthon Programming'\n",
        "a = 'Python'\n",
        "# a.capitalize()\n",
        "# a.casefold() #lower\n",
        "# a.lower()\n",
        "# a.upper()\n",
        "# a.title()\n",
        "# a.islower()\n",
        "# a.isupper()\n"
      ],
      "metadata": {
        "colab": {
          "base_uri": "https://localhost:8080/"
        },
        "id": "sfKC0ZZbP3ZP",
        "outputId": "46345fac-4d3e-4209-d678-6e09d4e81c92"
      },
      "execution_count": null,
      "outputs": [
        {
          "output_type": "execute_result",
          "data": {
            "text/plain": [
              "False"
            ]
          },
          "metadata": {},
          "execution_count": 84
        }
      ]
    },
    {
      "cell_type": "code",
      "source": [
        "a = '123'\n",
        "# a.isalpha()\n",
        "a.isalnum()\n"
      ],
      "metadata": {
        "colab": {
          "base_uri": "https://localhost:8080/"
        },
        "id": "ZMiUJCG6SwRz",
        "outputId": "6e4714ac-fc20-4797-ad91-365f7630c92a"
      },
      "execution_count": null,
      "outputs": [
        {
          "output_type": "execute_result",
          "data": {
            "text/plain": [
              "True"
            ]
          },
          "metadata": {},
          "execution_count": 87
        }
      ]
    },
    {
      "cell_type": "code",
      "source": [
        "# a.isnumeric()\n",
        "# a.isdigit()\n",
        "# a.isdecimal()"
      ],
      "metadata": {
        "id": "j0wkOZLtU7M3"
      },
      "execution_count": null,
      "outputs": []
    },
    {
      "cell_type": "code",
      "source": [
        "a = 'python'\n",
        "# a.index('P')\n",
        "# a.find('P')"
      ],
      "metadata": {
        "colab": {
          "base_uri": "https://localhost:8080/"
        },
        "id": "29IyUgalU84n",
        "outputId": "6e2cd7dd-abc1-4a35-b035-ea234dfc7bfa"
      },
      "execution_count": null,
      "outputs": [
        {
          "output_type": "execute_result",
          "data": {
            "text/plain": [
              "-1"
            ]
          },
          "metadata": {},
          "execution_count": 93
        }
      ]
    },
    {
      "cell_type": "code",
      "source": [
        "a = 'Python'\n",
        "# a.replace('h','H')\n",
        "\n",
        "a = ' ☠️😷'\n",
        "# print(a)\n",
        "type(a)"
      ],
      "metadata": {
        "id": "SS_7JiKfV5pL"
      },
      "execution_count": null,
      "outputs": []
    },
    {
      "cell_type": "code",
      "source": [
        "a = 60\n",
        "# bin(a)\n",
        "# oct(a)\n",
        "# hex(a)"
      ],
      "metadata": {
        "colab": {
          "base_uri": "https://localhost:8080/",
          "height": 35
        },
        "id": "HX7VzcY5XibP",
        "outputId": "39d875e1-08b6-4bf3-b6c1-e56aa51abb87"
      },
      "execution_count": null,
      "outputs": [
        {
          "output_type": "execute_result",
          "data": {
            "text/plain": [
              "'0x3c'"
            ],
            "application/vnd.google.colaboratory.intrinsic+json": {
              "type": "string"
            }
          },
          "metadata": {},
          "execution_count": 101
        }
      ]
    },
    {
      "cell_type": "code",
      "source": [
        "# a = 0o74\n",
        "a = 0x3c\n",
        "# hex(a)\n",
        "oct(a)"
      ],
      "metadata": {
        "colab": {
          "base_uri": "https://localhost:8080/",
          "height": 35
        },
        "id": "FSVz_sE9YND6",
        "outputId": "f6926540-7a08-4a5b-f2be-c6be6efee5ee"
      },
      "execution_count": null,
      "outputs": [
        {
          "output_type": "execute_result",
          "data": {
            "text/plain": [
              "'0o74'"
            ],
            "application/vnd.google.colaboratory.intrinsic+json": {
              "type": "string"
            }
          },
          "metadata": {},
          "execution_count": 103
        }
      ]
    },
    {
      "cell_type": "code",
      "source": [
        "a = 'python'\n",
        "a = 'python program'\n",
        "\n",
        "# a.split()\n",
        "# a.split('t')\n",
        "b = a.split(' ')\n",
        "' '.join(b)"
      ],
      "metadata": {
        "colab": {
          "base_uri": "https://localhost:8080/",
          "height": 35
        },
        "id": "oWvLX-E1Y9dc",
        "outputId": "99682363-6ac6-4a64-88db-256ce110b569"
      },
      "execution_count": null,
      "outputs": [
        {
          "output_type": "execute_result",
          "data": {
            "text/plain": [
              "'python program'"
            ],
            "application/vnd.google.colaboratory.intrinsic+json": {
              "type": "string"
            }
          },
          "metadata": {},
          "execution_count": 112
        }
      ]
    },
    {
      "cell_type": "code",
      "source": [
        "a = ['1', '2', '3']\n",
        "'  @  '.join(a)"
      ],
      "metadata": {
        "colab": {
          "base_uri": "https://localhost:8080/",
          "height": 35
        },
        "id": "IDKojXwtbA8l",
        "outputId": "c2d3a8ee-955c-4c66-d4af-05c38e438dd3"
      },
      "execution_count": null,
      "outputs": [
        {
          "output_type": "execute_result",
          "data": {
            "text/plain": [
              "'1  @  2  @  3'"
            ],
            "application/vnd.google.colaboratory.intrinsic+json": {
              "type": "string"
            }
          },
          "metadata": {},
          "execution_count": 115
        }
      ]
    },
    {
      "cell_type": "code",
      "source": [
        "a = '   python    '\n",
        "# a.strip()\n",
        "a.strip(' apbc')"
      ],
      "metadata": {
        "colab": {
          "base_uri": "https://localhost:8080/",
          "height": 35
        },
        "id": "TdHQBgvUbYkk",
        "outputId": "4ac90953-0e17-4cf5-ee55-f0f5b5f8b380"
      },
      "execution_count": null,
      "outputs": [
        {
          "output_type": "execute_result",
          "data": {
            "text/plain": [
              "'ython'"
            ],
            "application/vnd.google.colaboratory.intrinsic+json": {
              "type": "string"
            }
          },
          "metadata": {},
          "execution_count": 125
        }
      ]
    },
    {
      "cell_type": "code",
      "source": [
        "a\n",
        "a.replace('h','')"
      ],
      "metadata": {
        "colab": {
          "base_uri": "https://localhost:8080/",
          "height": 35
        },
        "id": "lu3ntjG5bWn2",
        "outputId": "113a304f-e3ac-4e50-ef1e-617dc83ee9c8"
      },
      "execution_count": null,
      "outputs": [
        {
          "output_type": "execute_result",
          "data": {
            "text/plain": [
              "'   pyton    '"
            ],
            "application/vnd.google.colaboratory.intrinsic+json": {
              "type": "string"
            }
          },
          "metadata": {},
          "execution_count": 127
        }
      ]
    },
    {
      "cell_type": "code",
      "source": [
        "a = 'python'\n",
        "a."
      ],
      "metadata": {
        "colab": {
          "base_uri": "https://localhost:8080/",
          "height": 35
        },
        "id": "be4McP5rdEXy",
        "outputId": "fbac4a00-4b5f-4b35-d90e-2519670baebb"
      },
      "execution_count": null,
      "outputs": [
        {
          "output_type": "execute_result",
          "data": {
            "text/plain": [
              "'python'"
            ],
            "application/vnd.google.colaboratory.intrinsic+json": {
              "type": "string"
            }
          },
          "metadata": {},
          "execution_count": 130
        }
      ]
    },
    {
      "cell_type": "code",
      "source": [
        "#  \"Tasneem\" is a great child, I'm too.\n",
        "# a = 'hi \\n hello'\n",
        "a"
      ],
      "metadata": {
        "colab": {
          "base_uri": "https://localhost:8080/",
          "height": 35
        },
        "id": "8nXGN-6AdruO",
        "outputId": "d37f8c4e-8b78-4c97-d783-6ceb7473b751"
      },
      "execution_count": null,
      "outputs": [
        {
          "output_type": "execute_result",
          "data": {
            "text/plain": [
              "'hi \\n hello'"
            ],
            "application/vnd.google.colaboratory.intrinsic+json": {
              "type": "string"
            }
          },
          "metadata": {},
          "execution_count": 132
        }
      ]
    },
    {
      "cell_type": "markdown",
      "source": [
        "Escape characters"
      ],
      "metadata": {
        "id": "jdmkwBKQFe_v"
      }
    },
    {
      "cell_type": "code",
      "source": [
        "# ' \"Tasneem\" is a great child, I\\'m too. '\n",
        "# \" \\\"Tasneem\\\" is a great child, I'm too. \"\n"
      ],
      "metadata": {
        "id": "Er5YFRCFFhGX"
      },
      "execution_count": null,
      "outputs": []
    },
    {
      "cell_type": "code",
      "source": [
        "a = 'hi '\n",
        "a * 10"
      ],
      "metadata": {
        "colab": {
          "base_uri": "https://localhost:8080/",
          "height": 35
        },
        "id": "UZqTzWbpIIbe",
        "outputId": "f5713329-e984-4262-b2cb-d4916f3f5566"
      },
      "execution_count": null,
      "outputs": [
        {
          "output_type": "execute_result",
          "data": {
            "text/plain": [
              "'hi hi hi hi hi hi hi hi hi hi '"
            ],
            "application/vnd.google.colaboratory.intrinsic+json": {
              "type": "string"
            }
          },
          "metadata": {},
          "execution_count": 16
        }
      ]
    },
    {
      "cell_type": "markdown",
      "source": [
        "List\n",
        "\n",
        "1. Allows all datatypes as items\n",
        "2. Allows duplicates\n",
        "3. Allows indexing, slicing\n",
        "4. allows addition of elements,removal of items, modifying of items\n"
      ],
      "metadata": {
        "id": "Q26tC0ZsGbww"
      }
    },
    {
      "cell_type": "code",
      "source": [
        "# a = [1,2,3,4,5]\n",
        "a = list([1,2,3,4,5])\n",
        "a"
      ],
      "metadata": {
        "colab": {
          "base_uri": "https://localhost:8080/"
        },
        "id": "A97jvDHiGc-r",
        "outputId": "9d6981c9-733c-47fd-ff89-727f26a603b4"
      },
      "execution_count": null,
      "outputs": [
        {
          "output_type": "execute_result",
          "data": {
            "text/plain": [
              "[1, 2, 3, 4, 5]"
            ]
          },
          "metadata": {},
          "execution_count": 2
        }
      ]
    },
    {
      "cell_type": "code",
      "source": [
        "a = [1,2.9,3+6j,'hey',[1,2],(2,3),{2,3},{1:2}]\n",
        "a"
      ],
      "metadata": {
        "colab": {
          "base_uri": "https://localhost:8080/"
        },
        "id": "poLfsEp9GG1f",
        "outputId": "f08eed29-9248-49c9-e766-7f9ddc11132f"
      },
      "execution_count": null,
      "outputs": [
        {
          "output_type": "execute_result",
          "data": {
            "text/plain": [
              "[1, 2.9, (3+6j), 'hey', [1, 2], (2, 3), {2, 3}, {1: 2}]"
            ]
          },
          "metadata": {},
          "execution_count": 12
        }
      ]
    },
    {
      "cell_type": "code",
      "source": [
        "a = [1,2,2,2,3,3,4]\n",
        "a"
      ],
      "metadata": {
        "colab": {
          "base_uri": "https://localhost:8080/"
        },
        "id": "e9nU3itJHZBm",
        "outputId": "8b06e282-0029-460a-e967-fa74ee13e625"
      },
      "execution_count": null,
      "outputs": [
        {
          "output_type": "execute_result",
          "data": {
            "text/plain": [
              "[1, 2, 2, 2, 3, 3, 4]"
            ]
          },
          "metadata": {},
          "execution_count": 14
        }
      ]
    },
    {
      "cell_type": "code",
      "source": [
        "a = [1,2]\n",
        "a*3"
      ],
      "metadata": {
        "colab": {
          "base_uri": "https://localhost:8080/"
        },
        "id": "47nSnD5DIAH-",
        "outputId": "41c80c51-1662-4cb2-a1d8-6eccdf056c6b"
      },
      "execution_count": null,
      "outputs": [
        {
          "output_type": "execute_result",
          "data": {
            "text/plain": [
              "[1, 2, 1, 2, 1, 2]"
            ]
          },
          "metadata": {},
          "execution_count": 17
        }
      ]
    },
    {
      "cell_type": "markdown",
      "source": [
        "Indexing"
      ],
      "metadata": {
        "id": "ZsZC4TRZI_9E"
      }
    },
    {
      "cell_type": "code",
      "source": [
        "a = [1,2,3,4,5]\n",
        "# positive indexing\n",
        "a[2]\n",
        "# negative indexing\n",
        "a[-2]\n",
        "\n",
        "# slicing\n",
        "a[::2]"
      ],
      "metadata": {
        "colab": {
          "base_uri": "https://localhost:8080/"
        },
        "id": "YAWYrXNkI0LE",
        "outputId": "3d1ced9c-4e25-4970-836e-85485a8da381"
      },
      "execution_count": null,
      "outputs": [
        {
          "output_type": "execute_result",
          "data": {
            "text/plain": [
              "[1, 3, 5]"
            ]
          },
          "metadata": {},
          "execution_count": 21
        }
      ]
    },
    {
      "cell_type": "markdown",
      "source": [
        "Adding an element"
      ],
      "metadata": {
        "id": "QUU-oHDWLv_K"
      }
    },
    {
      "cell_type": "code",
      "source": [
        "a = [1,2,3,4,5]\n",
        "a.append(6) #adds 6 to the list at the end"
      ],
      "metadata": {
        "id": "FNhoTIEQLzt0"
      },
      "execution_count": null,
      "outputs": []
    },
    {
      "cell_type": "code",
      "source": [
        "a"
      ],
      "metadata": {
        "colab": {
          "base_uri": "https://localhost:8080/"
        },
        "id": "ZLb_jTFLLiFj",
        "outputId": "b442f793-558c-4da4-a345-be7b7915d6d8"
      },
      "execution_count": null,
      "outputs": [
        {
          "output_type": "execute_result",
          "data": {
            "text/plain": [
              "[1, 2, 3, 4, 5, 6]"
            ]
          },
          "metadata": {},
          "execution_count": 24
        }
      ]
    },
    {
      "cell_type": "code",
      "source": [
        "a.append([7,8,9])"
      ],
      "metadata": {
        "id": "Nla16Mm9MDav"
      },
      "execution_count": null,
      "outputs": []
    },
    {
      "cell_type": "code",
      "source": [
        "a"
      ],
      "metadata": {
        "colab": {
          "base_uri": "https://localhost:8080/"
        },
        "id": "Du_xLOBJMOsn",
        "outputId": "444372bb-69c7-4fbe-e97a-bdc52e89f486"
      },
      "execution_count": null,
      "outputs": [
        {
          "output_type": "execute_result",
          "data": {
            "text/plain": [
              "[1, 2, 3, 4, 5, 6, [7, 8, 9]]"
            ]
          },
          "metadata": {},
          "execution_count": 27
        }
      ]
    },
    {
      "cell_type": "code",
      "source": [
        "a.extend([10,11,12,13])\n",
        "a"
      ],
      "metadata": {
        "colab": {
          "base_uri": "https://localhost:8080/"
        },
        "id": "4F__NF5XMUGV",
        "outputId": "bc04d8e5-2f97-456a-a74d-177bfc8fd8e3"
      },
      "execution_count": null,
      "outputs": [
        {
          "output_type": "execute_result",
          "data": {
            "text/plain": [
              "[1, 2, 3, 4, 5, 6, [7, 8, 9], 10, 10, 11, 12, 13]"
            ]
          },
          "metadata": {},
          "execution_count": 30
        }
      ]
    },
    {
      "cell_type": "code",
      "source": [
        "a.insert(7,9)"
      ],
      "metadata": {
        "id": "taoTnAsDMqoV"
      },
      "execution_count": null,
      "outputs": []
    },
    {
      "cell_type": "code",
      "source": [
        "a.insert(10,[1,2,3,4,5])\n",
        "a"
      ],
      "metadata": {
        "colab": {
          "base_uri": "https://localhost:8080/"
        },
        "id": "52Rx6GRNM7fb",
        "outputId": "7a842ede-4447-48de-b2ca-ef919fbdab64"
      },
      "execution_count": null,
      "outputs": [
        {
          "output_type": "execute_result",
          "data": {
            "text/plain": [
              "[1, 2, 3, 4, 5, 6, [7, 8, 9], 9, 10, 10, [1, 2, 3, 4, 5], 11, 12, 13]"
            ]
          },
          "metadata": {},
          "execution_count": 33
        }
      ]
    },
    {
      "cell_type": "code",
      "source": [
        "a = [1,2]\n",
        "# a + a\n",
        "a * 3"
      ],
      "metadata": {
        "colab": {
          "base_uri": "https://localhost:8080/"
        },
        "id": "ROxpHygQNOVs",
        "outputId": "7a8a055a-7aa1-456a-de31-8024aeebfbbf"
      },
      "execution_count": null,
      "outputs": [
        {
          "output_type": "execute_result",
          "data": {
            "text/plain": [
              "[1, 2, 1, 2, 1, 2]"
            ]
          },
          "metadata": {},
          "execution_count": 38
        }
      ]
    },
    {
      "cell_type": "code",
      "source": [
        "a = [1,2]\n",
        "b = [3,4]\n",
        "c = a+b\n",
        "c"
      ],
      "metadata": {
        "colab": {
          "base_uri": "https://localhost:8080/"
        },
        "id": "fkuMLpgBNsMT",
        "outputId": "e64e90ca-14c0-468c-fa47-8021e86f7897"
      },
      "execution_count": null,
      "outputs": [
        {
          "output_type": "execute_result",
          "data": {
            "text/plain": [
              "[1, 2, 3, 4]"
            ]
          },
          "metadata": {},
          "execution_count": 39
        }
      ]
    },
    {
      "cell_type": "code",
      "source": [
        "a = [1,2,3,4,5]\n",
        "a.clear()\n",
        "a"
      ],
      "metadata": {
        "colab": {
          "base_uri": "https://localhost:8080/"
        },
        "id": "Xm4PtuTGN9i8",
        "outputId": "0d3a3ac1-55d1-4558-c5d8-d00cee91af9a"
      },
      "execution_count": null,
      "outputs": [
        {
          "output_type": "execute_result",
          "data": {
            "text/plain": [
              "[]"
            ]
          },
          "metadata": {},
          "execution_count": 41
        }
      ]
    },
    {
      "cell_type": "code",
      "source": [
        "del a\n",
        "a"
      ],
      "metadata": {
        "id": "K5g67YGUOedU"
      },
      "execution_count": null,
      "outputs": []
    },
    {
      "cell_type": "code",
      "source": [
        "a = [1,2,3,4,5,6]\n",
        "# a.pop(1)\n",
        "# removes position value\n",
        "# a.pop()\n",
        "a"
      ],
      "metadata": {
        "colab": {
          "base_uri": "https://localhost:8080/"
        },
        "id": "Bw4-Z50kOr8w",
        "outputId": "e7b2a4cd-7b81-4f09-e7bf-081712bcdc17"
      },
      "execution_count": null,
      "outputs": [
        {
          "output_type": "execute_result",
          "data": {
            "text/plain": [
              "[1, 2, 3, 4, 5]"
            ]
          },
          "metadata": {},
          "execution_count": 45
        }
      ]
    },
    {
      "cell_type": "code",
      "source": [
        "a = [1,2,3,4,5,6]\n",
        "a.remove(2)\n",
        "# removes value\n",
        "a"
      ],
      "metadata": {
        "colab": {
          "base_uri": "https://localhost:8080/"
        },
        "id": "h_rHXQewPUSz",
        "outputId": "2a4dc79e-f0a6-49e6-b4dc-fc4e43b05f1a"
      },
      "execution_count": null,
      "outputs": [
        {
          "output_type": "execute_result",
          "data": {
            "text/plain": [
              "[1, 3, 4, 5, 6]"
            ]
          },
          "metadata": {},
          "execution_count": 47
        }
      ]
    },
    {
      "cell_type": "markdown",
      "source": [
        "replacing"
      ],
      "metadata": {
        "id": "nlWVm0tCPumO"
      }
    },
    {
      "cell_type": "code",
      "source": [
        "a = [1,2,3,4,5,6]\n",
        "a[2] = 30\n",
        "a"
      ],
      "metadata": {
        "colab": {
          "base_uri": "https://localhost:8080/"
        },
        "id": "ZRVdNCcNPKJc",
        "outputId": "d2f6620d-e40a-43c8-e9a5-e61d3d20e217"
      },
      "execution_count": null,
      "outputs": [
        {
          "output_type": "execute_result",
          "data": {
            "text/plain": [
              "[1, 2, 30, 4, 5, 6]"
            ]
          },
          "metadata": {},
          "execution_count": 49
        }
      ]
    },
    {
      "cell_type": "markdown",
      "source": [
        "other methods"
      ],
      "metadata": {
        "id": "7pGdxjA3RcfM"
      }
    },
    {
      "cell_type": "code",
      "source": [
        "a = [1,2,3,4,5]\n",
        "b = a.copy()\n",
        "print(id(a))\n",
        "print(id(b))\n",
        "a.append(6)\n",
        "# b\n",
        "print(a,b)"
      ],
      "metadata": {
        "colab": {
          "base_uri": "https://localhost:8080/"
        },
        "id": "js0UeFYPPrjR",
        "outputId": "f2b0d70b-1ddf-420e-d119-abf5c0cccc8c"
      },
      "execution_count": null,
      "outputs": [
        {
          "output_type": "stream",
          "name": "stdout",
          "text": [
            "139969326239680\n",
            "139969327563136\n",
            "[1, 2, 3, 4, 5, 6] [1, 2, 3, 4, 5]\n"
          ]
        }
      ]
    },
    {
      "cell_type": "code",
      "source": [
        "a = [1,2,3,4,5]\n",
        "b = a\n",
        "print(id(a))\n",
        "print(id(b))\n",
        "a.append(6)\n",
        "# b\n",
        "print(a,b)"
      ],
      "metadata": {
        "colab": {
          "base_uri": "https://localhost:8080/"
        },
        "id": "I1vRY-3nRxOj",
        "outputId": "476674ff-ddd9-450a-f3dc-4b41082aa725"
      },
      "execution_count": null,
      "outputs": [
        {
          "output_type": "stream",
          "name": "stdout",
          "text": [
            "139969326470528\n",
            "139969326470528\n",
            "[1, 2, 3, 4, 5, 6] [1, 2, 3, 4, 5, 6]\n"
          ]
        }
      ]
    },
    {
      "cell_type": "code",
      "source": [
        "a = [1,1,2,2,3,3,4,4,4]\n",
        "a.count(4)"
      ],
      "metadata": {
        "colab": {
          "base_uri": "https://localhost:8080/"
        },
        "id": "6qA_HHLNSumv",
        "outputId": "cf2d4e27-64eb-48dd-990b-2cc648f2678b"
      },
      "execution_count": null,
      "outputs": [
        {
          "output_type": "execute_result",
          "data": {
            "text/plain": [
              "3"
            ]
          },
          "metadata": {},
          "execution_count": 57
        }
      ]
    },
    {
      "cell_type": "code",
      "source": [
        "a = [1, 2, 3, 4, 5, 6]\n",
        "# a[::-1]\n",
        "a.reverse()\n",
        "a"
      ],
      "metadata": {
        "colab": {
          "base_uri": "https://localhost:8080/"
        },
        "id": "j7bugAUqS8JL",
        "outputId": "fdba698d-ec78-4490-bac7-1ab46ad6b9f8"
      },
      "execution_count": null,
      "outputs": [
        {
          "output_type": "execute_result",
          "data": {
            "text/plain": [
              "[6, 5, 4, 3, 2, 1]"
            ]
          },
          "metadata": {},
          "execution_count": 60
        }
      ]
    },
    {
      "cell_type": "code",
      "source": [
        "a = [2,7,4,3,1,0]\n",
        "# a.sort()  #ascending\n",
        "# a.sort(reverse=True) #descending\n",
        "a"
      ],
      "metadata": {
        "colab": {
          "base_uri": "https://localhost:8080/"
        },
        "id": "iC_rqM8wTeKY",
        "outputId": "812d73ab-8c43-4325-dc6a-a7d0ab3e6b3f"
      },
      "execution_count": null,
      "outputs": [
        {
          "output_type": "execute_result",
          "data": {
            "text/plain": [
              "[2, 7, 4, 3, 1, 0]"
            ]
          },
          "metadata": {},
          "execution_count": 64
        }
      ]
    },
    {
      "cell_type": "code",
      "source": [
        "a = ['1','21','43','41','05']\n",
        "a.sort()\n",
        "a"
      ],
      "metadata": {
        "colab": {
          "base_uri": "https://localhost:8080/"
        },
        "id": "RYOR3aNhUFpF",
        "outputId": "64d14f7d-ca8a-40c6-ead2-371583bad8b3"
      },
      "execution_count": null,
      "outputs": [
        {
          "output_type": "execute_result",
          "data": {
            "text/plain": [
              "['05', '1', '21', '41', '43']"
            ]
          },
          "metadata": {},
          "execution_count": 69
        }
      ]
    },
    {
      "cell_type": "code",
      "source": [
        "a = ['hi', 'akhil', 'shazan']\n",
        "a.sort()\n",
        "a"
      ],
      "metadata": {
        "colab": {
          "base_uri": "https://localhost:8080/"
        },
        "id": "dCWVNxNqTtXm",
        "outputId": "88d26249-82e3-4ef6-d724-e74846845587"
      },
      "execution_count": null,
      "outputs": [
        {
          "output_type": "execute_result",
          "data": {
            "text/plain": [
              "['akhil', 'hi', 'shazan']"
            ]
          },
          "metadata": {},
          "execution_count": 70
        }
      ]
    },
    {
      "cell_type": "code",
      "source": [
        "a = ['1','2', 'ak','hi']\n",
        "a.sort()\n",
        "a"
      ],
      "metadata": {
        "colab": {
          "base_uri": "https://localhost:8080/"
        },
        "id": "5GFoEZ4OUvrL",
        "outputId": "3154704c-fa23-4293-a216-0e370d6b3945"
      },
      "execution_count": null,
      "outputs": [
        {
          "output_type": "execute_result",
          "data": {
            "text/plain": [
              "['1', '2', 'ak', 'hi']"
            ]
          },
          "metadata": {},
          "execution_count": 73
        }
      ]
    },
    {
      "cell_type": "code",
      "source": [
        "a = ['hiiiiiiiii', 'akhil', 'shazan']\n",
        "a.sort(key=len)\n",
        "a"
      ],
      "metadata": {
        "colab": {
          "base_uri": "https://localhost:8080/"
        },
        "id": "iIK9covBVJLS",
        "outputId": "8b11926b-1702-4d0d-e2c7-20021fd55477"
      },
      "execution_count": null,
      "outputs": [
        {
          "output_type": "execute_result",
          "data": {
            "text/plain": [
              "['akhil', 'shazan', 'hiiiiiiiii']"
            ]
          },
          "metadata": {},
          "execution_count": 75
        }
      ]
    },
    {
      "cell_type": "code",
      "source": [
        "\n",
        "a = [22,33,5,6,7,9,11]\n",
        "# min(a)\n",
        "# max(a)\n",
        "sum(a)"
      ],
      "metadata": {
        "colab": {
          "base_uri": "https://localhost:8080/"
        },
        "id": "6ecLwb6QVa6J",
        "outputId": "3d1bf6e9-2dcf-4c3c-b43e-fa133f8d3e14"
      },
      "execution_count": null,
      "outputs": [
        {
          "output_type": "execute_result",
          "data": {
            "text/plain": [
              "93"
            ]
          },
          "metadata": {},
          "execution_count": 78
        }
      ]
    },
    {
      "cell_type": "code",
      "source": [
        "a = []\n",
        "max(a,default='It is empty')\n",
        "a"
      ],
      "metadata": {
        "colab": {
          "base_uri": "https://localhost:8080/"
        },
        "id": "vbWQc1sqWvXV",
        "outputId": "604c74bb-4c79-4c53-c551-34f262d50c45"
      },
      "execution_count": null,
      "outputs": [
        {
          "output_type": "execute_result",
          "data": {
            "text/plain": [
              "[]"
            ]
          },
          "metadata": {},
          "execution_count": 81
        }
      ]
    },
    {
      "cell_type": "code",
      "source": [
        "a = [22,33,5,6,7,9,11]\n",
        "# list(enumerate(a))\n",
        "list(enumerate(a,10))"
      ],
      "metadata": {
        "colab": {
          "base_uri": "https://localhost:8080/"
        },
        "id": "QIDVFckDXO7v",
        "outputId": "5e6cde30-aa6e-4960-f218-c6d0f4e05fd9"
      },
      "execution_count": null,
      "outputs": [
        {
          "output_type": "execute_result",
          "data": {
            "text/plain": [
              "[(10, 22), (11, 33), (12, 5), (13, 6), (14, 7), (15, 9), (16, 11)]"
            ]
          },
          "metadata": {},
          "execution_count": 84
        }
      ]
    },
    {
      "cell_type": "code",
      "source": [
        "a = [1,2,3,[4,5,6]]\n",
        "# a[1]\n",
        "\n",
        "# b = a[3]\n",
        "# b[3]\n",
        "\n",
        "a[3][1]"
      ],
      "metadata": {
        "colab": {
          "base_uri": "https://localhost:8080/"
        },
        "id": "MItcCpNSXv-o",
        "outputId": "c125d73f-1f6a-4ee2-cd84-1743a8a1c6eb"
      },
      "execution_count": null,
      "outputs": [
        {
          "output_type": "execute_result",
          "data": {
            "text/plain": [
              "5"
            ]
          },
          "metadata": {},
          "execution_count": 89
        }
      ]
    },
    {
      "cell_type": "code",
      "source": [
        "a=[1,2,['a','b',['e','f',['k']],'g',['i','j']]]\n",
        "# k ?\n",
        "a[2][2][2][0]"
      ],
      "metadata": {
        "colab": {
          "base_uri": "https://localhost:8080/",
          "height": 35
        },
        "id": "lD9BQC6AYrqB",
        "outputId": "b3d468d8-0acf-48db-b00d-ac1fe29e530b"
      },
      "execution_count": null,
      "outputs": [
        {
          "output_type": "execute_result",
          "data": {
            "text/plain": [
              "'k'"
            ],
            "application/vnd.google.colaboratory.intrinsic+json": {
              "type": "string"
            }
          },
          "metadata": {},
          "execution_count": 94
        }
      ]
    },
    {
      "cell_type": "markdown",
      "source": [
        "Tuple\n",
        "\n",
        "1. Allows all datatypes as items\n",
        "2. Allows duplicates\n",
        "3. Allows indexng, slicing\n",
        "4. Doesnt allow adding, removal, replace of items."
      ],
      "metadata": {
        "id": "uzJIMVGQaInQ"
      }
    },
    {
      "cell_type": "code",
      "source": [
        "a = (1,2,3,4,5)\n",
        "# type(a)\n",
        "a"
      ],
      "metadata": {
        "colab": {
          "base_uri": "https://localhost:8080/"
        },
        "id": "Qz3yWGJ5d9NO",
        "outputId": "4837bf9d-08a0-4cc1-cb6b-9218eec79e8f"
      },
      "execution_count": null,
      "outputs": [
        {
          "output_type": "execute_result",
          "data": {
            "text/plain": [
              "(1, 2, 3, 4, 5)"
            ]
          },
          "metadata": {},
          "execution_count": 97
        }
      ]
    },
    {
      "cell_type": "code",
      "source": [
        "a = (1,2,3,4,5)"
      ],
      "metadata": {
        "id": "C8TLrp4Ueaed"
      },
      "execution_count": null,
      "outputs": []
    },
    {
      "cell_type": "code",
      "source": [
        "a + a +a + a"
      ],
      "metadata": {
        "colab": {
          "base_uri": "https://localhost:8080/"
        },
        "id": "LMD0bBzmeMUX",
        "outputId": "885f984f-b378-402a-d160-d2a58e4d0341"
      },
      "execution_count": null,
      "outputs": [
        {
          "output_type": "execute_result",
          "data": {
            "text/plain": [
              "(1, 2, 3, 4, 5, 1, 2, 3, 4, 5, 1, 2, 3, 4, 5, 1, 2, 3, 4, 5)"
            ]
          },
          "metadata": {},
          "execution_count": 100
        }
      ]
    },
    {
      "cell_type": "code",
      "source": [
        "4*a"
      ],
      "metadata": {
        "colab": {
          "base_uri": "https://localhost:8080/"
        },
        "id": "Zk0KKJ8Ij78X",
        "outputId": "34bcba87-db91-450a-c69c-d9c83269fd5f"
      },
      "execution_count": null,
      "outputs": [
        {
          "output_type": "execute_result",
          "data": {
            "text/plain": [
              "(1, 2, 3, 4, 5, 1, 2, 3, 4, 5, 1, 2, 3, 4, 5, 1, 2, 3, 4, 5)"
            ]
          },
          "metadata": {},
          "execution_count": 101
        }
      ]
    },
    {
      "cell_type": "markdown",
      "source": [
        "### Set\n",
        "1. Not all datatypes are allowed as items.\n",
        "2. Indexing is not allowed\n",
        "3. Duplication is not allowed\n",
        "4. Adding, removal of item is allowed except replacement.\n"
      ],
      "metadata": {
        "id": "ONVnQUqEkAnM"
      }
    },
    {
      "cell_type": "code",
      "source": [
        "# a = {1,2,3,4,5}\n",
        "a = set({1,2,3,4,5})\n",
        "type(a)"
      ],
      "metadata": {
        "colab": {
          "base_uri": "https://localhost:8080/"
        },
        "id": "GvEdNKPWeMRc",
        "outputId": "b15460eb-49f7-4a1d-f06b-743ddd488b33"
      },
      "execution_count": null,
      "outputs": [
        {
          "output_type": "execute_result",
          "data": {
            "text/plain": [
              "set"
            ]
          },
          "metadata": {},
          "execution_count": 2
        }
      ]
    },
    {
      "cell_type": "code",
      "source": [
        "# allowed: int,float,string,tuple, boolean\n",
        "# not allowed : list,set, dict\n",
        "\n",
        "# a = {1,2.6, '3',(1,2)}\n",
        "a = {1,2.3,'5.6',True,False,0}\n",
        "a"
      ],
      "metadata": {
        "id": "grs7ska8eMOx",
        "colab": {
          "base_uri": "https://localhost:8080/"
        },
        "outputId": "953af224-3eb3-4ac4-e603-e04c5f3f4154"
      },
      "execution_count": null,
      "outputs": [
        {
          "output_type": "execute_result",
          "data": {
            "text/plain": [
              "{1, 2.3, '5.6', False}"
            ]
          },
          "metadata": {},
          "execution_count": 81
        }
      ]
    },
    {
      "cell_type": "code",
      "source": [
        "a = {1,2.6, '3',(1,2)}\n",
        "# indexing is not allowed"
      ],
      "metadata": {
        "id": "DXx5DaJNeMDx"
      },
      "execution_count": null,
      "outputs": []
    },
    {
      "cell_type": "code",
      "source": [
        "a = {1,1,1,2,2,2,3,3,4,5,}\n",
        "a"
      ],
      "metadata": {
        "colab": {
          "base_uri": "https://localhost:8080/"
        },
        "id": "oeBy2n3_hBjo",
        "outputId": "d9e5ca01-0f42-4f47-e435-362dc45a3ac0"
      },
      "execution_count": null,
      "outputs": [
        {
          "output_type": "execute_result",
          "data": {
            "text/plain": [
              "{1, 2, 3, 4, 5}"
            ]
          },
          "metadata": {},
          "execution_count": 13
        }
      ]
    },
    {
      "cell_type": "markdown",
      "source": [
        "Adding"
      ],
      "metadata": {
        "id": "_cMK6zIxhlI8"
      }
    },
    {
      "cell_type": "code",
      "source": [
        "a = {1,1,1,2,2,2,3,3,4,5,}\n",
        "a.add(6)\n",
        "# a"
      ],
      "metadata": {
        "id": "Sqdv0ukjhRF_"
      },
      "execution_count": null,
      "outputs": []
    },
    {
      "cell_type": "code",
      "source": [
        "a = {1,1,1,2,2,2,3,3,4,5,}\n",
        "b= {6,7,8,9}\n",
        "c = a.union(b)\n",
        "c"
      ],
      "metadata": {
        "colab": {
          "base_uri": "https://localhost:8080/"
        },
        "id": "j5ODFBuohrs9",
        "outputId": "25704e01-2c37-4c68-a30c-9d205dfbb458"
      },
      "execution_count": null,
      "outputs": [
        {
          "output_type": "execute_result",
          "data": {
            "text/plain": [
              "{1, 2, 3, 4, 5, 6, 7, 8, 9}"
            ]
          },
          "metadata": {},
          "execution_count": 24
        }
      ]
    },
    {
      "cell_type": "code",
      "source": [
        "a = {1,1,1,2,2,2,3,3,4,5,}\n",
        "b= {6,7,8,9}\n",
        "a.update(b)\n",
        "a"
      ],
      "metadata": {
        "colab": {
          "base_uri": "https://localhost:8080/"
        },
        "id": "gFYH3QHKkRwn",
        "outputId": "65404033-124b-4b73-8a31-7a711865d95a"
      },
      "execution_count": null,
      "outputs": [
        {
          "output_type": "execute_result",
          "data": {
            "text/plain": [
              "{1, 2, 3, 4, 5, 6, 7, 8, 9}"
            ]
          },
          "metadata": {},
          "execution_count": 26
        }
      ]
    },
    {
      "cell_type": "markdown",
      "source": [
        "removal of an item"
      ],
      "metadata": {
        "id": "q-4RO4GHkmYq"
      }
    },
    {
      "cell_type": "code",
      "source": [
        "a = {1,1,1,2,2,2,3,3,4,5,}\n",
        "# b= {6,7,8,9}\n",
        "# a.pop()\n",
        "a.pop()\n",
        "a"
      ],
      "metadata": {
        "colab": {
          "base_uri": "https://localhost:8080/"
        },
        "id": "VbDv1XOjkicM",
        "outputId": "6da28220-a9fe-43a9-9f3f-28bfe453e445"
      },
      "execution_count": null,
      "outputs": [
        {
          "output_type": "execute_result",
          "data": {
            "text/plain": [
              "{2, 3, 4, 5}"
            ]
          },
          "metadata": {},
          "execution_count": 31
        }
      ]
    },
    {
      "cell_type": "code",
      "source": [
        "a = {1,1,1,2,2,2,3,3,4,5,}\n",
        "# b= {6,7,8,9}\n",
        "# a.remove(2)\n",
        "# a.remove(6) # no such element called 6 - hence error\n",
        "a"
      ],
      "metadata": {
        "colab": {
          "base_uri": "https://localhost:8080/"
        },
        "id": "YFpIEBFrlHpm",
        "outputId": "036960ca-8d24-42bd-d1c6-2318b561f1a4"
      },
      "execution_count": null,
      "outputs": [
        {
          "output_type": "execute_result",
          "data": {
            "text/plain": [
              "{1, 2, 3, 4, 5}"
            ]
          },
          "metadata": {},
          "execution_count": 37
        }
      ]
    },
    {
      "cell_type": "code",
      "source": [
        "a = {1,1,1,2,2,2,3,3,4,5,}\n",
        "b= {6,7,8,9}\n",
        "# a.discard(3)\n",
        "a.discard(6)\n",
        "a"
      ],
      "metadata": {
        "colab": {
          "base_uri": "https://localhost:8080/"
        },
        "id": "FBZiNwy0lfQv",
        "outputId": "81f830e6-9077-43a1-cc7a-ba9a8e2ba485"
      },
      "execution_count": null,
      "outputs": [
        {
          "output_type": "execute_result",
          "data": {
            "text/plain": [
              "{1, 2, 3, 4, 5}"
            ]
          },
          "metadata": {},
          "execution_count": 36
        }
      ]
    },
    {
      "cell_type": "code",
      "source": [
        "a = {1,1,1,2,2,2,3,3,4,5,}\n",
        "b= {6,7,8,9}\n",
        "a.clear()\n",
        "a"
      ],
      "metadata": {
        "colab": {
          "base_uri": "https://localhost:8080/"
        },
        "id": "Z8qHuU-Pl7-4",
        "outputId": "11edbe52-01ec-4715-9ec1-ea4d881e05bf"
      },
      "execution_count": null,
      "outputs": [
        {
          "output_type": "execute_result",
          "data": {
            "text/plain": [
              "set()"
            ]
          },
          "metadata": {},
          "execution_count": 39
        }
      ]
    },
    {
      "cell_type": "code",
      "source": [
        "a = {1,1,1,2,2,3,4,5,6,7,8}\n",
        "b= {6,7,8,9}\n",
        "# a = a.difference(b)\n",
        "a.difference_update(b)\n",
        "a"
      ],
      "metadata": {
        "colab": {
          "base_uri": "https://localhost:8080/"
        },
        "id": "d-vxcIr8mHQu",
        "outputId": "b77a1ac8-4c23-4e80-f0b8-7ed1940f394f"
      },
      "execution_count": null,
      "outputs": [
        {
          "output_type": "execute_result",
          "data": {
            "text/plain": [
              "{1, 2, 3, 4, 5}"
            ]
          },
          "metadata": {},
          "execution_count": 43
        }
      ]
    },
    {
      "cell_type": "code",
      "source": [
        "a = {1,1,1,2,2,3,4,5,6,7,8}\n",
        "b= {6,7,8,9}\n",
        "# a = a.intersection(b)\n",
        "a.intersection_update(b)\n",
        "a\n"
      ],
      "metadata": {
        "colab": {
          "base_uri": "https://localhost:8080/"
        },
        "id": "n4tOKkTdo34E",
        "outputId": "fd779ef6-f356-41bc-957a-2e92c79e5f6a"
      },
      "execution_count": null,
      "outputs": [
        {
          "output_type": "execute_result",
          "data": {
            "text/plain": [
              "{6, 7, 8}"
            ]
          },
          "metadata": {},
          "execution_count": 46
        }
      ]
    },
    {
      "cell_type": "code",
      "source": [
        "a = {1,1,1,2,2,3,4,5,6,7,8}\n",
        "b= {6,7,8,9}\n",
        "a.symmetric_difference(b)\n",
        "# a-b => {1,2,3,4,5}\n",
        "# b-a => {9}\n",
        "# (a-b) U (b-a)\n",
        "# Other than common elements\n",
        "a.symmetric_difference_update(b)\n",
        "a"
      ],
      "metadata": {
        "colab": {
          "base_uri": "https://localhost:8080/"
        },
        "id": "IApKVPYipvY2",
        "outputId": "199bfa8a-dee8-40a9-966c-c3ed914f053a"
      },
      "execution_count": null,
      "outputs": [
        {
          "output_type": "execute_result",
          "data": {
            "text/plain": [
              "{1, 2, 3, 4, 5, 9}"
            ]
          },
          "metadata": {},
          "execution_count": 52
        }
      ]
    },
    {
      "cell_type": "code",
      "source": [
        "a = {1,1,1,2,2,3,4,5}\n",
        "b= {9}\n",
        "a.isdisjoint(b)"
      ],
      "metadata": {
        "colab": {
          "base_uri": "https://localhost:8080/"
        },
        "id": "xmH24Vv-qxGt",
        "outputId": "0fffd47d-c244-4f28-a388-29b3c1926979"
      },
      "execution_count": null,
      "outputs": [
        {
          "output_type": "execute_result",
          "data": {
            "text/plain": [
              "True"
            ]
          },
          "metadata": {},
          "execution_count": 55
        }
      ]
    },
    {
      "cell_type": "code",
      "source": [
        "a = {1,1,1,2,2,3,4,5,6,7,8}\n",
        "b= {6,7,8,9,10}\n",
        "# a.issubset(b)\n",
        "# b.issubset(a)\n",
        "\n",
        "# a.issuperset(b)\n",
        "# b.issuperset(a)\n"
      ],
      "metadata": {
        "colab": {
          "base_uri": "https://localhost:8080/"
        },
        "id": "ERrkT_e2rRRx",
        "outputId": "c3e931a2-016e-458d-ed24-3a66e4cefe09"
      },
      "execution_count": null,
      "outputs": [
        {
          "output_type": "execute_result",
          "data": {
            "text/plain": [
              "False"
            ]
          },
          "metadata": {},
          "execution_count": 60
        }
      ]
    },
    {
      "cell_type": "code",
      "source": [
        "a = {1,1,1,2,2,3,4,5,6,7,8}\n",
        "# min(a)\n",
        "# max(a)\n",
        "# set(enumerate(a))\n"
      ],
      "metadata": {
        "id": "h3aV83QIskH8"
      },
      "execution_count": null,
      "outputs": []
    },
    {
      "cell_type": "markdown",
      "source": [
        "### Dictionary\n",
        "1. Not all datatypes are allowed as keys.\n",
        "2. All datatypes are allowed as values.\n",
        "3. Key duplicates are not allowed. value duplicates are allowed. Item duplicates are not allowed.\n"
      ],
      "metadata": {
        "id": "aknp8UzluZ0t"
      }
    },
    {
      "cell_type": "code",
      "source": [
        "# a = { key : value}\n",
        "# a = {1:2}\n",
        "a = dict({1:2})\n",
        "type(a)"
      ],
      "metadata": {
        "colab": {
          "base_uri": "https://localhost:8080/"
        },
        "id": "C8Hj5vhWubvB",
        "outputId": "27bff35c-80d0-44d1-b770-292c1e90426d"
      },
      "execution_count": null,
      "outputs": [
        {
          "output_type": "execute_result",
          "data": {
            "text/plain": [
              "dict"
            ]
          },
          "metadata": {},
          "execution_count": 68
        }
      ]
    },
    {
      "cell_type": "code",
      "source": [
        "# allowed key: int, float, string, tuple, boolean\n",
        "# not allowed key: list, set, dict\n",
        "\n",
        "# allowed value : all\n",
        "\n",
        "a = {1:2, 2.3:3, '3':8, (1,2):9}\n",
        "a"
      ],
      "metadata": {
        "colab": {
          "base_uri": "https://localhost:8080/"
        },
        "id": "SD3OGOmCvKIM",
        "outputId": "8dcd1791-bb0c-41c4-8bab-672344141475"
      },
      "execution_count": null,
      "outputs": [
        {
          "output_type": "execute_result",
          "data": {
            "text/plain": [
              "{1: 0, 2.3: 3, '3': 8, (1, 2): 9}"
            ]
          },
          "metadata": {},
          "execution_count": 82
        }
      ]
    },
    {
      "cell_type": "code",
      "source": [
        "a = {1:2, 2.3:3, '3':8, (1,2):9, 1:3, (1,2):9 }\n",
        "# latest key value is updated\n",
        "a"
      ],
      "metadata": {
        "colab": {
          "base_uri": "https://localhost:8080/"
        },
        "id": "Fp9fKspqyDYn",
        "outputId": "6a87a3f0-b7d4-42cc-fa1b-d34caa65a53c"
      },
      "execution_count": null,
      "outputs": [
        {
          "output_type": "execute_result",
          "data": {
            "text/plain": [
              "{1: 3, 2.3: 3, '3': 8, (1, 2): 9}"
            ]
          },
          "metadata": {},
          "execution_count": 84
        }
      ]
    },
    {
      "cell_type": "code",
      "source": [
        "a = {1:2, 2.3:3, '3':8, (1,2):9, 1:3 }\n",
        "# a[1]\n",
        "# a['3']\n",
        "# a.keys()\n",
        "# a.values()\n",
        "# a.items()\n",
        "\n"
      ],
      "metadata": {
        "colab": {
          "base_uri": "https://localhost:8080/"
        },
        "id": "8CTBLF9RyDII",
        "outputId": "4807695e-c58e-4ef2-ddb3-5f24e3710570"
      },
      "execution_count": null,
      "outputs": [
        {
          "output_type": "execute_result",
          "data": {
            "text/plain": [
              "dict_items([(1, 3), (2.3, 3), ('3', 8), ((1, 2), 9)])"
            ]
          },
          "metadata": {},
          "execution_count": 92
        }
      ]
    },
    {
      "cell_type": "markdown",
      "source": [
        "Adding"
      ],
      "metadata": {
        "id": "1NsNi0nz2GHe"
      }
    },
    {
      "cell_type": "code",
      "source": [
        "a = {1:2, 2.3:3, '3':8, (1,2):9, 1:3 }\n",
        "# a.get(1)\n",
        "# a[6]\n",
        "# a.get(6)\n"
      ],
      "metadata": {
        "id": "nm5J-6ey2EJw"
      },
      "execution_count": null,
      "outputs": []
    },
    {
      "cell_type": "code",
      "source": [
        "# a.update({4:5})\n",
        "\n",
        "a.update({5:6,7:8,9:10})\n",
        "\n",
        "a"
      ],
      "metadata": {
        "colab": {
          "base_uri": "https://localhost:8080/"
        },
        "id": "o7_STFIx27ot",
        "outputId": "049c42be-7ac4-493e-b2c9-1fc0da50fb5b"
      },
      "execution_count": null,
      "outputs": [
        {
          "output_type": "execute_result",
          "data": {
            "text/plain": [
              "{1: 3, 2.3: 3, '3': 8, (1, 2): 9, 4: 5, 5: 6, 7: 8, 9: 10}"
            ]
          },
          "metadata": {},
          "execution_count": 98
        }
      ]
    },
    {
      "cell_type": "code",
      "source": [
        "print(a)\n",
        "len(a)"
      ],
      "metadata": {
        "colab": {
          "base_uri": "https://localhost:8080/"
        },
        "id": "EmhkHo2K3TVy",
        "outputId": "753a6b72-4dad-424a-f96c-5ce05fd212c2"
      },
      "execution_count": null,
      "outputs": [
        {
          "output_type": "stream",
          "name": "stdout",
          "text": [
            "{1: 3, 2.3: 3, '3': 8, (1, 2): 9, 4: 5, 5: 6, 7: 8, 9: 10}\n"
          ]
        },
        {
          "output_type": "execute_result",
          "data": {
            "text/plain": [
              "8"
            ]
          },
          "metadata": {},
          "execution_count": 100
        }
      ]
    },
    {
      "cell_type": "code",
      "source": [
        "a[7] = 11\n",
        "a"
      ],
      "metadata": {
        "colab": {
          "base_uri": "https://localhost:8080/"
        },
        "id": "TMvFuPLl3g_r",
        "outputId": "93d72974-153f-49ff-c6a1-50ea15a8a14a"
      },
      "execution_count": null,
      "outputs": [
        {
          "output_type": "execute_result",
          "data": {
            "text/plain": [
              "{1: 3, 2.3: 3, '3': 8, (1, 2): 9, 4: 5, 5: 6, 7: 11, 9: 10}"
            ]
          },
          "metadata": {},
          "execution_count": 102
        }
      ]
    },
    {
      "cell_type": "code",
      "source": [
        "a[10] = [1,2]\n",
        "a"
      ],
      "metadata": {
        "colab": {
          "base_uri": "https://localhost:8080/"
        },
        "id": "rtz-4Wyj31DK",
        "outputId": "ec5bfd92-8ad5-4d54-a714-b79833c42a90"
      },
      "execution_count": null,
      "outputs": [
        {
          "output_type": "execute_result",
          "data": {
            "text/plain": [
              "{1: 3, 2.3: 3, '3': 8, (1, 2): 9, 4: 5, 5: 6, 7: 11, 9: 10, 10: [1, 2]}"
            ]
          },
          "metadata": {},
          "execution_count": 105
        }
      ]
    },
    {
      "cell_type": "code",
      "source": [
        "# a[10] = [1,2,3]\n",
        "# a.update({10:3})\n",
        "a[10].append(3)\n",
        "a"
      ],
      "metadata": {
        "colab": {
          "base_uri": "https://localhost:8080/"
        },
        "id": "9tWpqGnF4Jux",
        "outputId": "85e610af-d892-4343-a7f5-8c2e4e7e1e51"
      },
      "execution_count": null,
      "outputs": [
        {
          "output_type": "execute_result",
          "data": {
            "text/plain": [
              "{1: 3, 2.3: 3, '3': 8, (1, 2): 9, 4: 5, 5: 6, 7: 11, 9: 10, 10: [1, 2, 3]}"
            ]
          },
          "metadata": {},
          "execution_count": 107
        }
      ]
    },
    {
      "cell_type": "code",
      "source": [
        "print(a)\n",
        "a.setdefault('4',100)\n",
        "a"
      ],
      "metadata": {
        "colab": {
          "base_uri": "https://localhost:8080/"
        },
        "id": "kDO5NTef5OZh",
        "outputId": "df630437-a5ef-4cc5-b264-187285865323"
      },
      "execution_count": null,
      "outputs": [
        {
          "output_type": "stream",
          "name": "stdout",
          "text": [
            "{1: 3, 2.3: 3, '3': 8, (1, 2): 9, 4: 5, 5: 6, 7: 11, 9: 10, 10: [1, 2, 3]}\n"
          ]
        },
        {
          "output_type": "execute_result",
          "data": {
            "text/plain": [
              "{1: 3,\n",
              " 2.3: 3,\n",
              " '3': 8,\n",
              " (1, 2): 9,\n",
              " 4: 5,\n",
              " 5: 6,\n",
              " 7: 11,\n",
              " 9: 10,\n",
              " 10: [1, 2, 3],\n",
              " '4': 100}"
            ]
          },
          "metadata": {},
          "execution_count": 111
        }
      ]
    },
    {
      "cell_type": "code",
      "source": [
        "k = [1,2,3,4]\n",
        "v = 2\n",
        "{}.fromkeys(k,v)"
      ],
      "metadata": {
        "colab": {
          "base_uri": "https://localhost:8080/"
        },
        "id": "S1wBGvOc5OOR",
        "outputId": "31e66d6b-512c-4bde-a63e-54a07fa9cecf"
      },
      "execution_count": null,
      "outputs": [
        {
          "output_type": "execute_result",
          "data": {
            "text/plain": [
              "{1: 2, 2: 2, 3: 2, 4: 2}"
            ]
          },
          "metadata": {},
          "execution_count": 113
        }
      ]
    },
    {
      "cell_type": "code",
      "source": [
        "None\n",
        "type(None)"
      ],
      "metadata": {
        "colab": {
          "base_uri": "https://localhost:8080/"
        },
        "id": "f4NGQ7VC7H3T",
        "outputId": "4392daba-7cff-47ee-f922-2c62a9809ef5"
      },
      "execution_count": null,
      "outputs": [
        {
          "output_type": "execute_result",
          "data": {
            "text/plain": [
              "NoneType"
            ]
          },
          "metadata": {},
          "execution_count": 116
        }
      ]
    },
    {
      "cell_type": "code",
      "source": [
        "a = {1: 2, 2: 2, 3: 2, 4: 2}\n",
        "a.pop(3)\n",
        "a"
      ],
      "metadata": {
        "colab": {
          "base_uri": "https://localhost:8080/"
        },
        "id": "yClgttmM7oSn",
        "outputId": "563e7855-8e09-48ed-d015-633283394534"
      },
      "execution_count": null,
      "outputs": [
        {
          "output_type": "execute_result",
          "data": {
            "text/plain": [
              "{1: 2, 2: 2, 4: 2}"
            ]
          },
          "metadata": {},
          "execution_count": 118
        }
      ]
    },
    {
      "cell_type": "code",
      "source": [
        "a.popitem()\n",
        "a"
      ],
      "metadata": {
        "colab": {
          "base_uri": "https://localhost:8080/"
        },
        "id": "c0gdumj37Ym0",
        "outputId": "a2bcf510-675b-44e2-c13c-170335cb3fab"
      },
      "execution_count": null,
      "outputs": [
        {
          "output_type": "execute_result",
          "data": {
            "text/plain": [
              "{1: 2, 2: 2}"
            ]
          },
          "metadata": {},
          "execution_count": 119
        }
      ]
    },
    {
      "cell_type": "code",
      "source": [
        "# a+a\n",
        "# a-a\n",
        "# a*2"
      ],
      "metadata": {
        "id": "FGKcOAPT8F02"
      },
      "execution_count": null,
      "outputs": []
    },
    {
      "cell_type": "code",
      "source": [
        "a = {1: 2, 2: 2, 3: 2, 4: 2}\n",
        "b = {11: 2, 12: 2, 13: 2, 14: 2}\n",
        "a.update(b)"
      ],
      "metadata": {
        "id": "L0Ha1ypU8S7_"
      },
      "execution_count": null,
      "outputs": []
    },
    {
      "cell_type": "code",
      "source": [
        "a"
      ],
      "metadata": {
        "colab": {
          "base_uri": "https://localhost:8080/"
        },
        "id": "2AldWdT18Zg6",
        "outputId": "03dc9e3d-7bcb-4898-d2c0-438ccb776879"
      },
      "execution_count": null,
      "outputs": [
        {
          "output_type": "execute_result",
          "data": {
            "text/plain": [
              "{1: 2, 2: 2, 3: 2, 4: 2, 11: 2, 12: 2, 13: 2, 14: 2}"
            ]
          },
          "metadata": {},
          "execution_count": 123
        }
      ]
    },
    {
      "cell_type": "markdown",
      "source": [
        "range"
      ],
      "metadata": {
        "id": "JB79Ptsy8kgK"
      }
    },
    {
      "cell_type": "code",
      "source": [
        "range(10)"
      ],
      "metadata": {
        "id": "vGKAepBd8j_r",
        "outputId": "bd825c2a-d6fd-4667-eb68-5eec839538da",
        "colab": {
          "base_uri": "https://localhost:8080/"
        }
      },
      "execution_count": null,
      "outputs": [
        {
          "output_type": "execute_result",
          "data": {
            "text/plain": [
              "range(0, 10)"
            ]
          },
          "metadata": {},
          "execution_count": 124
        }
      ]
    }
  ]
}
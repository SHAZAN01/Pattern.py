{
  "nbformat": 4,
  "nbformat_minor": 0,
  "metadata": {
    "colab": {
      "provenance": [],
      "include_colab_link": true
    },
    "kernelspec": {
      "name": "python3",
      "display_name": "Python 3"
    },
    "language_info": {
      "name": "python"
    }
  },
  "cells": [
    {
      "cell_type": "markdown",
      "metadata": {
        "id": "view-in-github",
        "colab_type": "text"
      },
      "source": [
        "<a href=\"https://colab.research.google.com/github/SHAZAN01/Python/blob/main/DA_23_Python_5.ipynb\" target=\"_parent\"><img src=\"https://colab.research.google.com/assets/colab-badge.svg\" alt=\"Open In Colab\"/></a>"
      ]
    },
    {
      "cell_type": "markdown",
      "source": [
        "### Functions\n",
        "1. Pre-defined/built-in function\n",
        "2. User defined function\n",
        "3. Recursions\n",
        "4. Lambda function"
      ],
      "metadata": {
        "id": "nurGeCFWWdS5"
      }
    },
    {
      "cell_type": "code",
      "execution_count": null,
      "metadata": {
        "id": "Z0Bxly8cWQKJ"
      },
      "outputs": [],
      "source": [
        "# def function_name(parameters):\n",
        "#   statement/Task\n",
        "\n",
        "# function_name(arguments)"
      ]
    },
    {
      "cell_type": "code",
      "source": [
        "def test():\n",
        "  print('hi')"
      ],
      "metadata": {
        "id": "BnUo1JtfYSM2"
      },
      "execution_count": null,
      "outputs": []
    },
    {
      "cell_type": "code",
      "source": [
        "test()"
      ],
      "metadata": {
        "colab": {
          "base_uri": "https://localhost:8080/"
        },
        "id": "bvMF3R5VYgEH",
        "outputId": "05014148-ccd8-4ef9-a7d5-2f6e51b40b9a"
      },
      "execution_count": null,
      "outputs": [
        {
          "output_type": "stream",
          "name": "stdout",
          "text": [
            "hi\n"
          ]
        }
      ]
    },
    {
      "cell_type": "code",
      "source": [
        "def test(name):\n",
        "  # print('hi',name)\n",
        "  print(f'hi {name}')\n",
        "\n",
        "test('akhil')"
      ],
      "metadata": {
        "colab": {
          "base_uri": "https://localhost:8080/"
        },
        "id": "kE2XBIdHZENK",
        "outputId": "f9620c66-0aa5-4f99-9b76-9aa1a682780d"
      },
      "execution_count": null,
      "outputs": [
        {
          "output_type": "stream",
          "name": "stdout",
          "text": [
            "hi akhil\n"
          ]
        }
      ]
    },
    {
      "cell_type": "code",
      "source": [
        "def test1(name):\n",
        "  print(f'hi {name}')\n",
        "  print(f'hello {name}')\n",
        "  print(f'hey {name}')\n",
        "\n",
        "test1('akhil')"
      ],
      "metadata": {
        "colab": {
          "base_uri": "https://localhost:8080/"
        },
        "id": "p-cxRypja2zl",
        "outputId": "691b5529-3530-476f-e763-a8af705c46ad"
      },
      "execution_count": null,
      "outputs": [
        {
          "output_type": "stream",
          "name": "stdout",
          "text": [
            "hi akhil\n",
            "hello akhil\n",
            "hey akhil\n"
          ]
        }
      ]
    },
    {
      "cell_type": "code",
      "source": [
        "def test1(name1,name2,name3):\n",
        "  print(f'hi {name1}')\n",
        "  print(f'hello {name2}')\n",
        "  print(f'hey {name3}')\n",
        "\n",
        "test1('akhil','teja','bm')"
      ],
      "metadata": {
        "colab": {
          "base_uri": "https://localhost:8080/"
        },
        "id": "kZXF4hPMZ-dZ",
        "outputId": "abe0a230-a665-4496-c310-4e77f1769fd6"
      },
      "execution_count": null,
      "outputs": [
        {
          "output_type": "stream",
          "name": "stdout",
          "text": [
            "hi akhil\n",
            "hello teja\n",
            "hey bm\n"
          ]
        }
      ]
    },
    {
      "cell_type": "code",
      "source": [
        "def test1(name2,name3,name1):\n",
        "  print(f'hi {name1}')\n",
        "  print(f'hello {name2}')\n",
        "  print(f'hey {name3}')\n",
        "\n",
        "test1('akhil','teja','bm')"
      ],
      "metadata": {
        "colab": {
          "base_uri": "https://localhost:8080/"
        },
        "id": "KDeRvUtqcFD9",
        "outputId": "defcd8cf-802c-4126-f1ec-97b7760e2c97"
      },
      "execution_count": null,
      "outputs": [
        {
          "output_type": "stream",
          "name": "stdout",
          "text": [
            "hi bm\n",
            "hello akhil\n",
            "hey teja\n"
          ]
        }
      ]
    },
    {
      "cell_type": "code",
      "source": [
        "def test1(name3,name1,name2):\n",
        "  print(f'hi {name1}')\n",
        "  print(f'hello {name3}')\n",
        "  print(f'hey {name2}')\n",
        "\n",
        "test1('teja','akhil','bm')"
      ],
      "metadata": {
        "id": "rE_Bj07Ccn75"
      },
      "execution_count": null,
      "outputs": []
    },
    {
      "cell_type": "markdown",
      "source": [
        "####Parameter / Argument:\n",
        "\n",
        "**Parameter :** Value passed while defining a function.\n",
        "\n",
        "**Argument :** Value passed while calling a function.\n",
        "\n",
        "* Parameters and arguments are ordered by default\n",
        "* No. of Parameters  = No. of Arguments\n",
        "* *args\n",
        "* *kwargs\n",
        "\n",
        "simple param, *args, *kwargs"
      ],
      "metadata": {
        "id": "mhY_wjYkoVK5"
      }
    },
    {
      "cell_type": "code",
      "source": [
        "# Packing / Unpacking\n",
        "a,b = 1,3\n",
        "print(b,a)"
      ],
      "metadata": {
        "id": "xvnhov71dXUF"
      },
      "execution_count": null,
      "outputs": []
    },
    {
      "cell_type": "code",
      "source": [
        "a,b,c = 1,3,2\n",
        "print(b,c,a)"
      ],
      "metadata": {
        "colab": {
          "base_uri": "https://localhost:8080/"
        },
        "id": "dPeRAyo7dwNP",
        "outputId": "008ce440-6ca5-480d-ea70-da325ed353ba"
      },
      "execution_count": null,
      "outputs": [
        {
          "output_type": "stream",
          "name": "stdout",
          "text": [
            "3 2 1\n"
          ]
        }
      ]
    },
    {
      "cell_type": "code",
      "source": [
        "a,b= 1,'3,2'\n",
        "print(b,a)"
      ],
      "metadata": {
        "id": "vU1uea0BeLyp"
      },
      "execution_count": null,
      "outputs": []
    },
    {
      "cell_type": "code",
      "source": [
        "a,*b= 1,3,2\n",
        "print(b,a)"
      ],
      "metadata": {
        "colab": {
          "base_uri": "https://localhost:8080/"
        },
        "id": "raAZRsMddVWw",
        "outputId": "c162e98f-b029-4e5f-f4b5-0cd5eb5abf42"
      },
      "execution_count": null,
      "outputs": [
        {
          "output_type": "stream",
          "name": "stdout",
          "text": [
            "[3, 2] 1\n"
          ]
        }
      ]
    },
    {
      "cell_type": "code",
      "source": [
        "# a = 1,2,3\n",
        "a = (1,2,3)\n",
        "type(a)"
      ],
      "metadata": {
        "colab": {
          "base_uri": "https://localhost:8080/"
        },
        "id": "3INrVKCTcLhS",
        "outputId": "244edff0-770c-4127-c38b-f5db7c8bc91a"
      },
      "execution_count": null,
      "outputs": [
        {
          "output_type": "execute_result",
          "data": {
            "text/plain": [
              "tuple"
            ]
          },
          "metadata": {},
          "execution_count": 21
        }
      ]
    },
    {
      "cell_type": "code",
      "source": [
        "a,*b= 1,3,4,5,6,2\n",
        "print(a,b)"
      ],
      "metadata": {
        "colab": {
          "base_uri": "https://localhost:8080/"
        },
        "id": "lZz57xjmfVqV",
        "outputId": "0c97aa12-c32b-4c5f-d918-6fc813fa054d"
      },
      "execution_count": null,
      "outputs": [
        {
          "output_type": "stream",
          "name": "stdout",
          "text": [
            "1 [3, 4, 5, 6, 2]\n"
          ]
        }
      ]
    },
    {
      "cell_type": "code",
      "source": [
        "a,*b,c= 1,3,4,5,6,2\n",
        "print(b)"
      ],
      "metadata": {
        "colab": {
          "base_uri": "https://localhost:8080/"
        },
        "id": "BEgG53Y5fb3I",
        "outputId": "8262940d-daa7-441d-ec9c-77e3d7f0e19e"
      },
      "execution_count": null,
      "outputs": [
        {
          "output_type": "stream",
          "name": "stdout",
          "text": [
            "[3, 4, 5, 6]\n"
          ]
        }
      ]
    },
    {
      "cell_type": "code",
      "source": [
        "*a,b,c= 1,3,4,5,6,2\n",
        "print(b,c,a)"
      ],
      "metadata": {
        "colab": {
          "base_uri": "https://localhost:8080/"
        },
        "id": "LJtCNZMjfyhV",
        "outputId": "bfaee7da-c81e-4d6f-9157-7e985c10fe79"
      },
      "execution_count": null,
      "outputs": [
        {
          "output_type": "stream",
          "name": "stdout",
          "text": [
            "6 2 [1, 3, 4, 5]\n"
          ]
        }
      ]
    },
    {
      "cell_type": "code",
      "source": [
        "a,*b,c= 1,[3,4],5,[6,2]\n",
        "print(c,a,b)"
      ],
      "metadata": {
        "colab": {
          "base_uri": "https://localhost:8080/"
        },
        "id": "uO7oDJBkgE2t",
        "outputId": "ea1b4255-7201-4ba7-d01a-3301fa9c80a2"
      },
      "execution_count": null,
      "outputs": [
        {
          "output_type": "stream",
          "name": "stdout",
          "text": [
            "[6, 2] 1 [[3, 4], 5]\n"
          ]
        }
      ]
    },
    {
      "cell_type": "code",
      "source": [
        "def test1(name3,*name1,name2):\n",
        "  print(f'hi {name1}')\n",
        "  print(f'hello {name3}')\n",
        "  print(f'hey {name2}')\n",
        "\n",
        "test1('teja','akhil','bm','mujeeb','pencil','aneed')"
      ],
      "metadata": {
        "id": "e0WQ0N_PgL1a"
      },
      "execution_count": null,
      "outputs": []
    },
    {
      "cell_type": "code",
      "source": [
        "def test1(name3,name1='akhil',name2='bm'):\n",
        "  print(f'hi {name1}')\n",
        "  print(f'hello {name3}')\n",
        "  print(f'hey {name2}')\n",
        "\n",
        "test1('teja')"
      ],
      "metadata": {
        "colab": {
          "base_uri": "https://localhost:8080/"
        },
        "id": "raEWdZQwhMg_",
        "outputId": "5c4f42c1-1b8d-4370-d467-bed1f7786509"
      },
      "execution_count": null,
      "outputs": [
        {
          "output_type": "stream",
          "name": "stdout",
          "text": [
            "hi akhil\n",
            "hello teja\n",
            "hey bm\n"
          ]
        }
      ]
    },
    {
      "cell_type": "code",
      "source": [
        "def test1(name3,name1='akhil',name2='bm'):\n",
        "  print(f'hi {name1}')\n",
        "  print(f'hello {name3}')\n",
        "  print(f'hey {name2}')\n",
        "\n",
        "test1('teja','mike','jike')"
      ],
      "metadata": {
        "colab": {
          "base_uri": "https://localhost:8080/"
        },
        "id": "opT9jtATiPg3",
        "outputId": "76e2f82f-e9f9-44d0-9b53-91a11177909f"
      },
      "execution_count": null,
      "outputs": [
        {
          "output_type": "stream",
          "name": "stdout",
          "text": [
            "hi mike\n",
            "hello teja\n",
            "hey jike\n"
          ]
        }
      ]
    },
    {
      "cell_type": "code",
      "source": [
        "def test1(name3,*name1,name2='ferrari'):\n",
        "  print(f'hi {name1}')\n",
        "  print(f'hello {name3}')\n",
        "  print(f'hey {name2}')\n",
        "\n",
        "test1('teja','akhil','bm','mujeeb','pencil','aneed')"
      ],
      "metadata": {
        "colab": {
          "base_uri": "https://localhost:8080/"
        },
        "id": "A2f9-zmEioGa",
        "outputId": "9235eb5f-485c-46b2-d06d-dbb65496db96"
      },
      "execution_count": null,
      "outputs": [
        {
          "output_type": "stream",
          "name": "stdout",
          "text": [
            "hi ('akhil', 'bm', 'mujeeb', 'pencil', 'aneed')\n",
            "hello teja\n",
            "hey ferrari\n"
          ]
        }
      ]
    },
    {
      "cell_type": "code",
      "source": [
        "def test1(name3='kia',*name1):\n",
        "  print(f'hi {name1}')\n",
        "  print(f'hello {name3}')\n",
        "  # print(f'hey {name2}')\n",
        "\n",
        "test1('teja','akhil','bm','mujeeb','pencil','aneed')"
      ],
      "metadata": {
        "colab": {
          "base_uri": "https://localhost:8080/"
        },
        "id": "VWAefsu9jjrS",
        "outputId": "25f5b69b-4e9f-4406-b556-6c0c450d28b2"
      },
      "execution_count": null,
      "outputs": [
        {
          "output_type": "stream",
          "name": "stdout",
          "text": [
            "hi ('akhil', 'bm', 'mujeeb', 'pencil', 'aneed')\n",
            "hello teja\n"
          ]
        }
      ]
    },
    {
      "cell_type": "code",
      "source": [
        "def test1(name1,name3='kia',*name2):\n",
        "  print(f'hi {name1}')\n",
        "  print(f'hello {name3}')\n",
        "  print(f'hey {name2}')\n",
        "\n",
        "test1('teja','akhil','bm','mujeeb','pencil','aneed')"
      ],
      "metadata": {
        "colab": {
          "base_uri": "https://localhost:8080/"
        },
        "id": "pkAMXLZ1knMw",
        "outputId": "59b61798-c55f-4f37-8243-71d223ec4682"
      },
      "execution_count": null,
      "outputs": [
        {
          "output_type": "stream",
          "name": "stdout",
          "text": [
            "hi teja\n",
            "hello akhil\n",
            "hey ('bm', 'mujeeb', 'pencil', 'aneed')\n"
          ]
        }
      ]
    },
    {
      "cell_type": "code",
      "source": [
        "def test1(name1,name3='kia',*name2):\n",
        "  print(f'hi {name1}')\n",
        "  print(f'hello {name3}')\n",
        "  print(f'hey {name2[2]}')\n",
        "\n",
        "test1('teja','akhil','bm','mujeeb','pencil','aneed')"
      ],
      "metadata": {
        "colab": {
          "base_uri": "https://localhost:8080/"
        },
        "id": "D198R_i3nsak",
        "outputId": "875281c8-152a-4c11-a91b-e0e851ab82a1"
      },
      "execution_count": null,
      "outputs": [
        {
          "output_type": "stream",
          "name": "stdout",
          "text": [
            "hi teja\n",
            "hello akhil\n",
            "hey pencil\n"
          ]
        }
      ]
    },
    {
      "cell_type": "code",
      "source": [
        "def greet():\n",
        "  print('hi')\n",
        "\n",
        "greet()"
      ],
      "metadata": {
        "colab": {
          "base_uri": "https://localhost:8080/"
        },
        "id": "zDzaLCxBYR-L",
        "outputId": "2fe62e5c-c686-453b-e93f-1dc1c5207f47"
      },
      "execution_count": null,
      "outputs": [
        {
          "output_type": "stream",
          "name": "stdout",
          "text": [
            "hi\n"
          ]
        }
      ]
    },
    {
      "cell_type": "code",
      "source": [
        "def greet():\n",
        "  return 'hi'\n",
        "\n",
        "greet()\n",
        "# print('hi2')"
      ],
      "metadata": {
        "colab": {
          "base_uri": "https://localhost:8080/",
          "height": 35
        },
        "id": "OaVuSiW7YR7Z",
        "outputId": "99a3f3ec-3237-4646-d07a-8d0333f413e0"
      },
      "execution_count": null,
      "outputs": [
        {
          "output_type": "execute_result",
          "data": {
            "text/plain": [
              "'hi'"
            ],
            "application/vnd.google.colaboratory.intrinsic+json": {
              "type": "string"
            }
          },
          "metadata": {},
          "execution_count": 6
        }
      ]
    },
    {
      "cell_type": "markdown",
      "source": [
        "###Recursions"
      ],
      "metadata": {
        "id": "Cs_y7xf-WbxQ"
      }
    },
    {
      "cell_type": "code",
      "source": [
        "def numbers(start,stop):\n",
        "  if (start <= stop): #1<=5 ; 2<=5; 3<=5; 4<=5; 5<=5; 6<=5\n",
        "    print(start) #1; 2; 3; 4; 5\n",
        "    start+=1 #start=2;3;4; 5; 6\n",
        "    numbers(start,stop) #2,5; 3,5; 4,5; 5,5; 6,5;\n",
        "\n",
        "numbers(1,5)\n"
      ],
      "metadata": {
        "colab": {
          "base_uri": "https://localhost:8080/"
        },
        "id": "fFgtSs90PmLW",
        "outputId": "3953dc71-e11d-4465-f68c-40aedd85d8a6"
      },
      "execution_count": null,
      "outputs": [
        {
          "output_type": "stream",
          "name": "stdout",
          "text": [
            "1\n",
            "2\n",
            "3\n",
            "4\n",
            "5\n"
          ]
        }
      ]
    },
    {
      "cell_type": "code",
      "source": [
        "# 1\n",
        "def numbers(start,stop):\n",
        "  if (start==stop):\n",
        "    return\n",
        "  else:\n",
        "    print(start) #1;\n",
        "    return numbers(start+1,stop)\n",
        "\n",
        "numbers(1,5)\n"
      ],
      "metadata": {
        "id": "zCmSuKRGaPin"
      },
      "execution_count": null,
      "outputs": []
    },
    {
      "cell_type": "code",
      "source": [
        "# 2\n",
        "def fun(x, y) :\n",
        "  if (x == 0) : return y\n",
        "  return fun(x - 1, x + y)\n",
        "\n",
        "fun(4, 3)"
      ],
      "metadata": {
        "colab": {
          "base_uri": "https://localhost:8080/"
        },
        "id": "NPrmus9gb56P",
        "outputId": "f79e9b6f-ad96-490a-cfd8-3c2cc27bc791"
      },
      "execution_count": null,
      "outputs": [
        {
          "output_type": "execute_result",
          "data": {
            "text/plain": [
              "13"
            ]
          },
          "metadata": {},
          "execution_count": 7
        }
      ]
    },
    {
      "cell_type": "code",
      "source": [
        "# 3\n",
        "def fun(n) :\n",
        "  if (n == 0): return\n",
        "  print(n % 2)\n",
        "  fun(n // 2)\n",
        "\n",
        "fun(25)"
      ],
      "metadata": {
        "colab": {
          "base_uri": "https://localhost:8080/"
        },
        "id": "aAmWl1p5cwI8",
        "outputId": "f254af8e-9b9c-48dc-e399-efc0752ca69a"
      },
      "execution_count": null,
      "outputs": [
        {
          "output_type": "stream",
          "name": "stdout",
          "text": [
            "1\n",
            "0\n",
            "0\n",
            "1\n",
            "1\n"
          ]
        }
      ]
    },
    {
      "cell_type": "code",
      "source": [
        "# 4\n",
        "def fun( x, y):\n",
        "  if (y == 0): return 0\n",
        "  return (x + fun(x, y-1))\n",
        "\n",
        "# (A) x+y    (B)x+x*y    (C)x*y    (D) x**y"
      ],
      "metadata": {
        "id": "VWH4MEsMlHRw"
      },
      "execution_count": null,
      "outputs": []
    },
    {
      "cell_type": "code",
      "source": [
        "# 5\n",
        "def fun(x, y) :\n",
        "  if (y == 0) : return 0\n",
        "  return x + fun(x, y - 1)\n",
        "\n",
        "\n",
        "def fun2(a, b) :\n",
        "  if (b == 0): return 1\n",
        "  return fun(a, fun2(a, b - 1))\n",
        "\n",
        "# (A) x+y    (B)x+x*y    (C)x*y    (D) x**y"
      ],
      "metadata": {
        "id": "1GllKU0UqBZp"
      },
      "execution_count": null,
      "outputs": []
    },
    {
      "cell_type": "code",
      "source": [
        "def f(n) :\n",
        "  if (n <= 1) : return 1\n",
        "  if (n % 2 == 0): return f(n // 2)\n",
        "  return f(n // 2) + f(n // 2 + 1)\n",
        "\n",
        "f(11)"
      ],
      "metadata": {
        "id": "E9v5XaywtIDh"
      },
      "execution_count": null,
      "outputs": []
    },
    {
      "cell_type": "code",
      "source": [
        "def foo(n, r) :\n",
        "  if (n > 0):\n",
        "    return (n % r + foo(n // r, r))\n",
        "  else:\n",
        "    return 0\n",
        "\n",
        "foo(513, 2)"
      ],
      "metadata": {
        "colab": {
          "base_uri": "https://localhost:8080/"
        },
        "id": "jaXi9lH8ztuM",
        "outputId": "83837f62-29ec-47fb-fa53-c3beae21b62a"
      },
      "execution_count": null,
      "outputs": [
        {
          "output_type": "execute_result",
          "data": {
            "text/plain": [
              "2"
            ]
          },
          "metadata": {},
          "execution_count": 9
        }
      ]
    },
    {
      "cell_type": "code",
      "source": [
        "# 9\n",
        "def robot(n, a, b) :\n",
        "  if (n <= 0): return\n",
        "  robot(n - 1, a, b + n)\n",
        "  print(n, a, b)\n",
        "  robot(n - 1, b, a + n)\n",
        "\n",
        "robot(2, 5, 2)"
      ],
      "metadata": {
        "id": "E9A9YRox1u0_"
      },
      "execution_count": null,
      "outputs": []
    },
    {
      "cell_type": "code",
      "source": [
        "# 6\n",
        "def fun(n) :\n",
        "  if ((n == 0) or (n == 1)) : return n\n",
        "  if (n % 3 != 0): return 0\n",
        "  return fun(n / 3);\n"
      ],
      "metadata": {
        "id": "DuwQNppG5OGq"
      },
      "execution_count": null,
      "outputs": []
    },
    {
      "cell_type": "code",
      "source": [
        "# 10\n",
        "def f(n) :\n",
        "  i = 1\n",
        "  if (n >= 5): return n;\n",
        "  n = n + i\n",
        "  i+=1\n",
        "  return f(n)\n",
        "\n",
        "f(1)"
      ],
      "metadata": {
        "id": "2qzHvuU05QgP"
      },
      "execution_count": null,
      "outputs": []
    },
    {
      "cell_type": "code",
      "source": [
        "# 11\n",
        "def cfi(n) :\n",
        "  if (n < 1): return\n",
        "  cfi(n - 1)\n",
        "  cfi(n - 3)\n",
        "  print(n)\n",
        "\n",
        "cfi(8)"
      ],
      "metadata": {
        "id": "vSMX9BuS5R68"
      },
      "execution_count": null,
      "outputs": []
    },
    {
      "cell_type": "code",
      "source": [
        "# 12\n",
        "def count(n):\n",
        "  d = 1\n",
        "  print(n)\n",
        "  print(d)\n",
        "  d+=1\n",
        "  if (n > 1): count(n - 1)\n",
        "  print(d)\n",
        "\n",
        "count(3)"
      ],
      "metadata": {
        "id": "iO3DV8zW5T2y"
      },
      "execution_count": null,
      "outputs": []
    },
    {
      "cell_type": "code",
      "source": [
        "# 13\n",
        "def f(n) :\n",
        "  if (n <= 1) :\n",
        "    print(n)\n",
        "  else:\n",
        "    f(n / 2)\n",
        "    print(n % 2);\n",
        "\n",
        "f(1024);"
      ],
      "metadata": {
        "id": "OHB7sevw5VFB"
      },
      "execution_count": null,
      "outputs": []
    },
    {
      "cell_type": "code",
      "source": [
        "# 14\n",
        "def f(n) :\n",
        "  if (n // 2) :\n",
        "    f(n / 2)\n",
        "  print(n % 2);\n",
        "\n",
        "f(1024);"
      ],
      "metadata": {
        "id": "HZBEmrA_5eyZ"
      },
      "execution_count": null,
      "outputs": []
    },
    {
      "cell_type": "code",
      "source": [
        "# Print factorial value of the given number ?\n",
        "num = 5\n",
        "p=1\n",
        "for i in range(num,0,-1):\n",
        "    p*=i\n",
        "print(p)"
      ],
      "metadata": {
        "colab": {
          "base_uri": "https://localhost:8080/"
        },
        "id": "2_3zgEb0Pew0",
        "outputId": "0f6192cf-4e55-4514-aaa0-1d64f74d6f99"
      },
      "execution_count": null,
      "outputs": [
        {
          "output_type": "stream",
          "name": "stdout",
          "text": [
            "120\n"
          ]
        }
      ]
    },
    {
      "cell_type": "code",
      "source": [
        "def factorial(n):\n",
        "  if n==0:\n",
        "    return 1\n",
        "  else:\n",
        "    return n*factorial(n-1) #5*f(4) -> 4*f(3) -> 3*f(2) -> 2*f(1) -> 1*f(0)"
      ],
      "metadata": {
        "id": "6ao49hWXYdbV"
      },
      "execution_count": null,
      "outputs": []
    },
    {
      "cell_type": "code",
      "source": [
        "factorial(5)"
      ],
      "metadata": {
        "colab": {
          "base_uri": "https://localhost:8080/"
        },
        "id": "zQ87PsehQA_K",
        "outputId": "9bb1f18c-4a3b-42cf-fc31-378093fcc8c9"
      },
      "execution_count": null,
      "outputs": [
        {
          "output_type": "execute_result",
          "data": {
            "text/plain": [
              "120"
            ]
          },
          "metadata": {},
          "execution_count": 4
        }
      ]
    },
    {
      "cell_type": "markdown",
      "source": [
        "Print sum of the digits of the given input number?\n",
        "\n",
        "123 = 1+2+3 = 6\n",
        "\n",
        "345 = 3+4+5 = 12"
      ],
      "metadata": {
        "id": "5SOL6JN0ex7L"
      }
    },
    {
      "cell_type": "code",
      "source": [
        "num = 234\n",
        "# (num%10) + (num//10)%10 + (num//10)//10\n",
        "# num = num//10\n",
        "sum=0\n",
        "while (num > 0):\n",
        "  sum+=(num%10)\n",
        "  num //= 10\n",
        "print(sum)"
      ],
      "metadata": {
        "id": "toYr7r_oetS8",
        "colab": {
          "base_uri": "https://localhost:8080/"
        },
        "outputId": "fbd88611-1a5a-4f5c-a096-c0540f444062"
      },
      "execution_count": null,
      "outputs": [
        {
          "output_type": "stream",
          "name": "stdout",
          "text": [
            "9\n"
          ]
        }
      ]
    },
    {
      "cell_type": "code",
      "source": [
        "def summ(n):\n",
        "  if (n == 0):\n",
        "    return 0\n",
        "  else:\n",
        "    return (n%10)+summ(n//10)"
      ],
      "metadata": {
        "id": "A75tSFAvQAMN"
      },
      "execution_count": null,
      "outputs": []
    },
    {
      "cell_type": "code",
      "source": [
        "summ(145)"
      ],
      "metadata": {
        "colab": {
          "base_uri": "https://localhost:8080/"
        },
        "id": "gcsPUFjOt-GC",
        "outputId": "0f761c8f-2da2-493b-cb69-470daa632dc5"
      },
      "execution_count": null,
      "outputs": [
        {
          "output_type": "execute_result",
          "data": {
            "text/plain": [
              "10"
            ]
          },
          "metadata": {},
          "execution_count": 20
        }
      ]
    },
    {
      "cell_type": "code",
      "source": [
        "# Fibinocci series\n",
        "numbers = int(input('Give a value: '))\n",
        "n1 = 0\n",
        "n2 = 1\n",
        "for i in range(numbers):\n",
        "  print(n1,end=' , ')\n",
        "  summ = n1+n2\n",
        "  n1=n2\n",
        "  n2=summ"
      ],
      "metadata": {
        "id": "638KjVvdv9LW",
        "colab": {
          "base_uri": "https://localhost:8080/"
        },
        "outputId": "3829aec5-c310-42aa-cf10-6a2cf9fefc86"
      },
      "execution_count": null,
      "outputs": [
        {
          "output_type": "stream",
          "name": "stdout",
          "text": [
            "Give a value: 6\n",
            "0 , 1 , 1 , 2 , 3 , 5 , "
          ]
        }
      ]
    },
    {
      "cell_type": "code",
      "source": [
        "def fibinocci(num):\n",
        "  if num == 1:\n",
        "    return 0\n",
        "  elif num== 2:\n",
        "    return 1\n",
        "  else:\n",
        "    return fibinocci(num-1)+fibinocci(num-2)"
      ],
      "metadata": {
        "id": "g0II1fB-c4lq"
      },
      "execution_count": null,
      "outputs": []
    },
    {
      "cell_type": "code",
      "source": [
        "numbers = int(input('Give a value: '))\n",
        "for i in range(1,numbers+1):\n",
        "  print(fibinocci(i), end=',')"
      ],
      "metadata": {
        "colab": {
          "base_uri": "https://localhost:8080/"
        },
        "id": "--WwepFDez-2",
        "outputId": "107abda9-92bd-4ca7-96b8-8d096ffe2b08"
      },
      "execution_count": null,
      "outputs": [
        {
          "output_type": "stream",
          "name": "stdout",
          "text": [
            "Give a value: 10\n",
            "0,1,1,2,3,5,8,13,21,34,"
          ]
        }
      ]
    },
    {
      "cell_type": "code",
      "source": [
        "def fibinocci(num,n1,n2):\n",
        "  if num <= 1:\n",
        "    return n1\n",
        "  else:\n",
        "    print(n1,end=' ')\n",
        "    summ=n1+n2\n",
        "    n1=n2\n",
        "    n2=summ\n",
        "    return fibinocci(num-1,n1,n2)"
      ],
      "metadata": {
        "id": "EfPNKtthvC97"
      },
      "execution_count": null,
      "outputs": []
    },
    {
      "cell_type": "code",
      "source": [
        "def fibinocci(num,n1,n2):\n",
        "  if num <= 1:\n",
        "    return n1\n",
        "  else:\n",
        "    print(n1,end=' ')\n",
        "    summ=n1+n2\n",
        "    return fibinocci(num-1,n2,summ)"
      ],
      "metadata": {
        "id": "D2wDZxYHhzNZ"
      },
      "execution_count": null,
      "outputs": []
    },
    {
      "cell_type": "code",
      "source": [
        "fibinocci(6,0,1)"
      ],
      "metadata": {
        "colab": {
          "base_uri": "https://localhost:8080/"
        },
        "id": "qqv9mQpuggWB",
        "outputId": "c2868fb3-80a3-4b6e-d652-bb22e194e1b5"
      },
      "execution_count": null,
      "outputs": [
        {
          "output_type": "stream",
          "name": "stdout",
          "text": [
            "0 1 1 2 3 "
          ]
        },
        {
          "output_type": "execute_result",
          "data": {
            "text/plain": [
              "5"
            ]
          },
          "metadata": {},
          "execution_count": 28
        }
      ]
    },
    {
      "cell_type": "markdown",
      "source": [
        "Scoping\n",
        "\n",
        "1. local\n",
        "\n",
        "2. global"
      ],
      "metadata": {
        "id": "Assj1ePdiZE4"
      }
    },
    {
      "cell_type": "code",
      "source": [
        "n = 1\n",
        "print(n)"
      ],
      "metadata": {
        "colab": {
          "base_uri": "https://localhost:8080/"
        },
        "id": "7SqYGz4Mint6",
        "outputId": "06eddc8c-5d5d-4ec1-c0b5-6a5dd6be2f56"
      },
      "execution_count": null,
      "outputs": [
        {
          "output_type": "stream",
          "name": "stdout",
          "text": [
            "1\n"
          ]
        }
      ]
    },
    {
      "cell_type": "code",
      "source": [
        "n = 1\n",
        "for i in range(5):\n",
        "  print(n)"
      ],
      "metadata": {
        "id": "pOqcYPP9vCLf",
        "colab": {
          "base_uri": "https://localhost:8080/"
        },
        "outputId": "9422ba78-6491-494b-db00-66360827295f"
      },
      "execution_count": null,
      "outputs": [
        {
          "output_type": "stream",
          "name": "stdout",
          "text": [
            "1\n",
            "1\n",
            "1\n",
            "1\n",
            "1\n"
          ]
        }
      ]
    },
    {
      "cell_type": "code",
      "source": [
        "n = 1\n",
        "def dummy():\n",
        "    return 1\n",
        "\n",
        "dummy()"
      ],
      "metadata": {
        "id": "fuSh-6ButpNq",
        "colab": {
          "base_uri": "https://localhost:8080/"
        },
        "outputId": "63081e3a-aa9a-437a-d728-c23de29f3d7e"
      },
      "execution_count": null,
      "outputs": [
        {
          "output_type": "stream",
          "name": "stdout",
          "text": [
            "1\n"
          ]
        }
      ]
    },
    {
      "cell_type": "code",
      "source": [
        "n = 1\n",
        "def dummy():\n",
        "  return 1\n",
        "\n",
        "a = dummy()\n",
        "print(a)"
      ],
      "metadata": {
        "colab": {
          "base_uri": "https://localhost:8080/"
        },
        "id": "kVJYz-4AjH-i",
        "outputId": "55b6bae7-c877-41a6-e4e2-f6118287020c"
      },
      "execution_count": null,
      "outputs": [
        {
          "output_type": "stream",
          "name": "stdout",
          "text": [
            "1\n"
          ]
        }
      ]
    },
    {
      "cell_type": "code",
      "source": [
        "n = 1\n",
        "def dummy():\n",
        "  print(1)\n",
        "\n",
        "a = dummy()\n",
        "print(a)"
      ],
      "metadata": {
        "colab": {
          "base_uri": "https://localhost:8080/"
        },
        "id": "eAVkhcH1jOdW",
        "outputId": "6ef8ae1c-19cb-4dfb-8a14-700919775f08"
      },
      "execution_count": null,
      "outputs": [
        {
          "output_type": "stream",
          "name": "stdout",
          "text": [
            "1\n",
            "None\n"
          ]
        }
      ]
    },
    {
      "cell_type": "code",
      "source": [
        "n = 1\n",
        "def dummy():\n",
        "  n=2\n",
        "  print(n)\n",
        "\n",
        "dummy()"
      ],
      "metadata": {
        "colab": {
          "base_uri": "https://localhost:8080/"
        },
        "id": "t5prHLdPj8_v",
        "outputId": "f3c8d757-d2eb-462f-f0a1-1687a18d598e"
      },
      "execution_count": null,
      "outputs": [
        {
          "output_type": "stream",
          "name": "stdout",
          "text": [
            "2\n"
          ]
        }
      ]
    },
    {
      "cell_type": "code",
      "source": [
        "n = 1\n",
        "def dummy():\n",
        "  n=2\n",
        "  print(n)\n",
        "print(n)\n",
        "dummy()"
      ],
      "metadata": {
        "colab": {
          "base_uri": "https://localhost:8080/"
        },
        "id": "DIk8qNoZkI9g",
        "outputId": "15265f4f-2334-46a7-aa76-3626a942d570"
      },
      "execution_count": null,
      "outputs": [
        {
          "output_type": "stream",
          "name": "stdout",
          "text": [
            "1\n",
            "2\n"
          ]
        }
      ]
    },
    {
      "cell_type": "code",
      "source": [
        "n = 1\n",
        "def dummy():\n",
        "  n=2\n",
        "  print(n)\n",
        "print(n)\n",
        "dummy()"
      ],
      "metadata": {
        "colab": {
          "base_uri": "https://localhost:8080/"
        },
        "id": "1SZUgngJkpoI",
        "outputId": "a8535daa-2ae4-4125-c2c0-166c32580e9b"
      },
      "execution_count": null,
      "outputs": [
        {
          "output_type": "stream",
          "name": "stdout",
          "text": [
            "1\n",
            "1\n"
          ]
        }
      ]
    },
    {
      "cell_type": "code",
      "source": [
        "n = 1\n",
        "def dummy():\n",
        "  print(n)\n",
        "print(n)\n",
        "dummy()"
      ],
      "metadata": {
        "id": "bcP2zx6Wk0ew"
      },
      "execution_count": null,
      "outputs": []
    },
    {
      "cell_type": "code",
      "source": [
        "n = 1\n",
        "def dummy():\n",
        "  print(n)\n",
        "print(n)\n",
        "dummy()"
      ],
      "metadata": {
        "id": "jfAqOE5Ik110"
      },
      "execution_count": null,
      "outputs": []
    },
    {
      "cell_type": "code",
      "source": [
        "n = 1\n",
        "def dummy():\n",
        "  n+=2\n",
        "  print(n)\n",
        "print(n)\n",
        "dummy()"
      ],
      "metadata": {
        "id": "sTf5ZTtfk7qw"
      },
      "execution_count": null,
      "outputs": []
    },
    {
      "cell_type": "code",
      "source": [
        "p+=2 # p = p+2"
      ],
      "metadata": {
        "id": "C9Jghrb3l80z"
      },
      "execution_count": null,
      "outputs": []
    },
    {
      "cell_type": "code",
      "source": [
        "n = 1\n",
        "def dummy():\n",
        "  n+=2\n",
        "  print(n)\n",
        "\n",
        "dummy()\n",
        "print(n)"
      ],
      "metadata": {
        "id": "yB-Ng_NCmaAm"
      },
      "execution_count": null,
      "outputs": []
    },
    {
      "cell_type": "code",
      "source": [
        "n = 1\n",
        "def dummy():\n",
        "  n = 3\n",
        "  n+=2\n",
        "  print(n)\n",
        "\n",
        "print(n)\n",
        "dummy()\n",
        "print(n)"
      ],
      "metadata": {
        "colab": {
          "base_uri": "https://localhost:8080/"
        },
        "id": "YbJ1pywimlp5",
        "outputId": "fd5855f4-f8d6-4176-b793-cf4660d0e3d4"
      },
      "execution_count": null,
      "outputs": [
        {
          "output_type": "stream",
          "name": "stdout",
          "text": [
            "1\n",
            "5\n",
            "1\n"
          ]
        }
      ]
    },
    {
      "cell_type": "code",
      "source": [
        "n = 1\n",
        "def dummy():\n",
        "  global n\n",
        "  n+=2\n",
        "  print(n)\n",
        "\n",
        "print(n)\n",
        "dummy()\n",
        "print(n)"
      ],
      "metadata": {
        "colab": {
          "base_uri": "https://localhost:8080/"
        },
        "id": "rHo4tWUxnIHR",
        "outputId": "037c155e-75d9-4b03-c4d2-2ea59d15e287"
      },
      "execution_count": null,
      "outputs": [
        {
          "output_type": "stream",
          "name": "stdout",
          "text": [
            "1\n",
            "3\n",
            "3\n"
          ]
        }
      ]
    },
    {
      "cell_type": "code",
      "source": [
        "n = 1\n",
        "def dummy():\n",
        "  global n\n",
        "  n+=2\n",
        "  print(n)\n",
        "\n",
        "print(n)\n",
        "dummy()\n",
        "print(n)"
      ],
      "metadata": {
        "id": "PZ3AP-K7ndra"
      },
      "execution_count": null,
      "outputs": []
    },
    {
      "cell_type": "code",
      "source": [
        "def foo():\n",
        "    x = 20\n",
        "\n",
        "    def bar():\n",
        "        global x\n",
        "        x = 25\n",
        "\n",
        "    print(\"Before calling bar: \", x) #\n",
        "\n",
        "    bar()\n",
        "    print(\"After calling bar: \", x) #\n",
        "\n",
        "foo()\n",
        "print(\"x in main: \", x) #"
      ],
      "metadata": {
        "id": "iHlwTE1YnZtv"
      },
      "execution_count": null,
      "outputs": []
    },
    {
      "cell_type": "code",
      "source": [
        "def dummy1():\n",
        "  print(1)\n",
        "  def dummy2():\n",
        "    print(2)\n",
        "dummy2()\n",
        "dummy1()"
      ],
      "metadata": {
        "colab": {
          "base_uri": "https://localhost:8080/"
        },
        "id": "EX6VbJIMvHEu",
        "outputId": "6e1e88d3-fefe-4843-aeb1-dd1ca3e66a4c"
      },
      "execution_count": null,
      "outputs": [
        {
          "output_type": "stream",
          "name": "stdout",
          "text": [
            "1\n",
            "2\n"
          ]
        }
      ]
    },
    {
      "cell_type": "code",
      "source": [
        "a = 2\n",
        "def d1():\n",
        "  print(a)\n",
        "  global a\n",
        "  a+=2\n",
        "  b = 1\n",
        "  print(a)\n",
        "d1()\n",
        "print(a)\n",
        "print(b)"
      ],
      "metadata": {
        "id": "mz9uSIj-wDc7"
      },
      "execution_count": null,
      "outputs": []
    },
    {
      "cell_type": "code",
      "source": [
        "a = 2\n",
        "def d1():\n",
        "  global a\n",
        "  print(a)\n",
        "  a+=2\n",
        "  b = 1\n",
        "  print(a)\n",
        "d1()\n",
        "print(a)\n",
        "print(b)"
      ],
      "metadata": {
        "colab": {
          "base_uri": "https://localhost:8080/",
          "height": 253
        },
        "id": "DihWwtway4eo",
        "outputId": "2645337b-9eb0-4a0d-f5d5-2344b6ef481c"
      },
      "execution_count": null,
      "outputs": [
        {
          "output_type": "stream",
          "name": "stdout",
          "text": [
            "2\n",
            "4\n",
            "4\n"
          ]
        },
        {
          "output_type": "error",
          "ename": "NameError",
          "evalue": "ignored",
          "traceback": [
            "\u001b[0;31m---------------------------------------------------------------------------\u001b[0m",
            "\u001b[0;31mNameError\u001b[0m                                 Traceback (most recent call last)",
            "\u001b[0;32m<ipython-input-47-27857467aa61>\u001b[0m in \u001b[0;36m<cell line: 10>\u001b[0;34m()\u001b[0m\n\u001b[1;32m      8\u001b[0m \u001b[0md1\u001b[0m\u001b[0;34m(\u001b[0m\u001b[0;34m)\u001b[0m\u001b[0;34m\u001b[0m\u001b[0;34m\u001b[0m\u001b[0m\n\u001b[1;32m      9\u001b[0m \u001b[0mprint\u001b[0m\u001b[0;34m(\u001b[0m\u001b[0ma\u001b[0m\u001b[0;34m)\u001b[0m\u001b[0;34m\u001b[0m\u001b[0;34m\u001b[0m\u001b[0m\n\u001b[0;32m---> 10\u001b[0;31m \u001b[0mprint\u001b[0m\u001b[0;34m(\u001b[0m\u001b[0mb\u001b[0m\u001b[0;34m)\u001b[0m\u001b[0;34m\u001b[0m\u001b[0;34m\u001b[0m\u001b[0m\n\u001b[0m",
            "\u001b[0;31mNameError\u001b[0m: name 'b' is not defined"
          ]
        }
      ]
    },
    {
      "cell_type": "code",
      "source": [
        "a = 2\n",
        "def d1():\n",
        "  global a\n",
        "  print(a)\n",
        "  a+=2\n",
        "  global b\n",
        "  b = 1\n",
        "  print(a)\n",
        "d1()\n",
        "print(a)\n",
        "print(b)"
      ],
      "metadata": {
        "colab": {
          "base_uri": "https://localhost:8080/"
        },
        "id": "zuz-AJO40QJw",
        "outputId": "9ac49a65-c1de-4814-a0fe-20427b8f6f0a"
      },
      "execution_count": null,
      "outputs": [
        {
          "output_type": "stream",
          "name": "stdout",
          "text": [
            "2\n",
            "4\n",
            "4\n",
            "1\n"
          ]
        }
      ]
    },
    {
      "cell_type": "code",
      "source": [
        "a=7\n",
        "def b():\n",
        "  a=2\n",
        "  def c():\n",
        "    global a\n",
        "    a=3\n",
        "    print(a)\n",
        "  print(a)\n",
        "  c()\n",
        "  print(a)\n",
        "b()\n",
        "print(a)"
      ],
      "metadata": {
        "colab": {
          "base_uri": "https://localhost:8080/"
        },
        "id": "gd-LANaa0YfD",
        "outputId": "c8819d49-ae66-4e22-c373-2718f9d66ac4"
      },
      "execution_count": null,
      "outputs": [
        {
          "output_type": "stream",
          "name": "stdout",
          "text": [
            "2\n",
            "3\n",
            "2\n",
            "3\n"
          ]
        }
      ]
    },
    {
      "cell_type": "code",
      "source": [
        "a=7\n",
        "def b():\n",
        "      global a\n",
        "      a=2\n",
        "      def c():\n",
        "            global a\n",
        "            a=3\n",
        "            print(a)\n",
        "      print(a)\n",
        "      c()\n",
        "      print(a)\n",
        "b()\n",
        "print(a)\n"
      ],
      "metadata": {
        "colab": {
          "base_uri": "https://localhost:8080/"
        },
        "id": "laC3XuQS0hST",
        "outputId": "16907346-6bc7-4c7c-bf20-f6b99098d780"
      },
      "execution_count": null,
      "outputs": [
        {
          "output_type": "stream",
          "name": "stdout",
          "text": [
            "2\n",
            "3\n",
            "3\n",
            "3\n"
          ]
        }
      ]
    },
    {
      "cell_type": "markdown",
      "source": [
        "Lambda function"
      ],
      "metadata": {
        "id": "pokRcvxX4zYi"
      }
    },
    {
      "cell_type": "code",
      "source": [
        "def a(n):\n",
        "    return n+2\n",
        "\n",
        "a(3)"
      ],
      "metadata": {
        "colab": {
          "base_uri": "https://localhost:8080/"
        },
        "id": "fLTqwQcO4xXT",
        "outputId": "fc5de9e7-2741-4eda-fc07-92c780a96f60"
      },
      "execution_count": null,
      "outputs": [
        {
          "output_type": "execute_result",
          "data": {
            "text/plain": [
              "5"
            ]
          },
          "metadata": {},
          "execution_count": 51
        }
      ]
    },
    {
      "cell_type": "code",
      "source": [
        "abc = lambda  n :  n+2\n",
        "abc(3)"
      ],
      "metadata": {
        "colab": {
          "base_uri": "https://localhost:8080/"
        },
        "id": "irqv6HEz3XGX",
        "outputId": "d47e1f4c-8bb6-41ca-fd15-8fea15efbc29"
      },
      "execution_count": null,
      "outputs": [
        {
          "output_type": "execute_result",
          "data": {
            "text/plain": [
              "5"
            ]
          },
          "metadata": {},
          "execution_count": 53
        }
      ]
    },
    {
      "cell_type": "code",
      "source": [
        "n = 30\n",
        "print('even') if ((n%2)==0) else print('odd')"
      ],
      "metadata": {
        "colab": {
          "base_uri": "https://localhost:8080/"
        },
        "id": "SVlJKzMG58RW",
        "outputId": "6878c530-de37-45ec-a392-3accc9e33c2a"
      },
      "execution_count": null,
      "outputs": [
        {
          "output_type": "stream",
          "name": "stdout",
          "text": [
            "even\n"
          ]
        }
      ]
    },
    {
      "cell_type": "code",
      "source": [
        "e_o = lambda n : print('even') if ((n%2)==0) else print('odd')\n",
        "e_o(41)"
      ],
      "metadata": {
        "colab": {
          "base_uri": "https://localhost:8080/"
        },
        "id": "Z1BfyYo252WZ",
        "outputId": "7fc711b8-982f-48f6-d440-7523eaf945d1"
      },
      "execution_count": null,
      "outputs": [
        {
          "output_type": "stream",
          "name": "stdout",
          "text": [
            "odd\n"
          ]
        }
      ]
    },
    {
      "cell_type": "code",
      "source": [
        "s = lambda x,y : x * y\n",
        "s(2,3)"
      ],
      "metadata": {
        "colab": {
          "base_uri": "https://localhost:8080/"
        },
        "id": "Vu5970Tp6kHB",
        "outputId": "1824522e-022d-4001-c445-4e489cdae267"
      },
      "execution_count": null,
      "outputs": [
        {
          "output_type": "execute_result",
          "data": {
            "text/plain": [
              "6"
            ]
          },
          "metadata": {},
          "execution_count": 58
        }
      ]
    },
    {
      "cell_type": "code",
      "source": [
        "s = lambda x,y : print(x * y)\n",
        "s(2,3)"
      ],
      "metadata": {
        "id": "ehL6fRJo7oXC"
      },
      "execution_count": null,
      "outputs": []
    },
    {
      "cell_type": "code",
      "source": [],
      "metadata": {
        "id": "vZ5T1L_A79_R"
      },
      "execution_count": null,
      "outputs": []
    },
    {
      "cell_type": "code",
      "source": [],
      "metadata": {
        "id": "kji1oYeb8C2f"
      },
      "execution_count": null,
      "outputs": []
    }
  ]
}
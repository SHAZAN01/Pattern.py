{
  "nbformat": 4,
  "nbformat_minor": 0,
  "metadata": {
    "colab": {
      "provenance": [],
      "include_colab_link": true
    },
    "kernelspec": {
      "name": "python3",
      "display_name": "Python 3"
    },
    "language_info": {
      "name": "python"
    }
  },
  "cells": [
    {
      "cell_type": "markdown",
      "metadata": {
        "id": "view-in-github",
        "colab_type": "text"
      },
      "source": [
        "<a href=\"https://colab.research.google.com/github/SHAZAN01/Python/blob/main/DA_23_Python_3.ipynb\" target=\"_parent\"><img src=\"https://colab.research.google.com/assets/colab-badge.svg\" alt=\"Open In Colab\"/></a>"
      ]
    },
    {
      "cell_type": "markdown",
      "source": [
        "Control Flow Structure -\n",
        "\n",
        "1. Sequential\n",
        "2. Conditional\n",
        "3. Iterational\n",
        "4. functional"
      ],
      "metadata": {
        "id": "QCf855QdpDrZ"
      }
    },
    {
      "cell_type": "markdown",
      "source": [
        "Conditional Operation -\n",
        "1. if condition\n",
        "2. if - else condition\n",
        "3. if - elif - else condition\n",
        "4. Nested combination"
      ],
      "metadata": {
        "id": "T2Mr5FB7pqTb"
      }
    },
    {
      "cell_type": "markdown",
      "source": [
        "If condition"
      ],
      "metadata": {
        "id": "DKQD97_vqARZ"
      }
    },
    {
      "cell_type": "code",
      "execution_count": null,
      "metadata": {
        "id": "y2MnmzQeoAEd"
      },
      "outputs": [],
      "source": [
        "# if (condition to satisfy):\n",
        "  # statement\n",
        "\n",
        "\n",
        "# True - value - 1 - Success\n",
        "# False - empty - 0 - Fail"
      ]
    },
    {
      "cell_type": "code",
      "source": [
        "if 1:\n",
        "  print('its 1')"
      ],
      "metadata": {
        "colab": {
          "base_uri": "https://localhost:8080/"
        },
        "id": "FmGGxfmbp9w-",
        "outputId": "5c10604a-8a72-40b9-e4ff-2811e060ecfb"
      },
      "execution_count": null,
      "outputs": [
        {
          "output_type": "stream",
          "name": "stdout",
          "text": [
            "its 1\n"
          ]
        }
      ]
    },
    {
      "cell_type": "code",
      "source": [
        "if (1):\n",
        "  print('its 1')"
      ],
      "metadata": {
        "colab": {
          "base_uri": "https://localhost:8080/"
        },
        "id": "88aWnAsyrKCo",
        "outputId": "473900cd-b3f4-41e2-e764-274c74e9dc70"
      },
      "execution_count": null,
      "outputs": [
        {
          "output_type": "stream",
          "name": "stdout",
          "text": [
            "its 1\n"
          ]
        }
      ]
    },
    {
      "cell_type": "code",
      "source": [
        "if True:\n",
        "  print('its there')"
      ],
      "metadata": {
        "colab": {
          "base_uri": "https://localhost:8080/"
        },
        "id": "LqNn_bwCrQSm",
        "outputId": "00b914f0-f4fd-4688-da75-7ecb425664dd"
      },
      "execution_count": null,
      "outputs": [
        {
          "output_type": "stream",
          "name": "stdout",
          "text": [
            "its there\n"
          ]
        }
      ]
    },
    {
      "cell_type": "code",
      "source": [
        "if 100:\n",
        "  print('its there')"
      ],
      "metadata": {
        "colab": {
          "base_uri": "https://localhost:8080/"
        },
        "id": "Oyk2zcVlrVUJ",
        "outputId": "fbc7f34d-98fe-485a-931c-5adb340a3a0b"
      },
      "execution_count": null,
      "outputs": [
        {
          "output_type": "stream",
          "name": "stdout",
          "text": [
            "its there\n"
          ]
        }
      ]
    },
    {
      "cell_type": "code",
      "source": [
        "if '0':\n",
        "  print('its there')\n",
        "\n",
        "if 'zero':\n",
        "  print('its there')\n",
        "\n",
        "if 'True':\n",
        "  print('its there')\n"
      ],
      "metadata": {
        "id": "FHGOGSERrpYY"
      },
      "execution_count": null,
      "outputs": []
    },
    {
      "cell_type": "code",
      "source": [
        "if '0':\n",
        "  print('its there')\n",
        "\n",
        "if '':\n",
        "  print('its there')\n",
        "\n",
        "if 'False':\n",
        "  print('its there')\n"
      ],
      "metadata": {
        "id": "l-eylKz-sSTd"
      },
      "execution_count": null,
      "outputs": []
    },
    {
      "cell_type": "code",
      "source": [
        "if 0:\n",
        "  print('its there')\n",
        "\n",
        "if '':\n",
        "  print('its there')\n",
        "\n",
        "if False:\n",
        "  print('its there')\n"
      ],
      "metadata": {
        "id": "WQrwKtNSspyI"
      },
      "execution_count": null,
      "outputs": []
    },
    {
      "cell_type": "code",
      "source": [
        "if (1):\n",
        "  print('Hi')\n",
        "\n",
        "if True :\n",
        "  print('Hi2')\n",
        "\n",
        "if (35):\n",
        "  print('hi 3')"
      ],
      "metadata": {
        "colab": {
          "base_uri": "https://localhost:8080/"
        },
        "id": "AJxolVsKtEZN",
        "outputId": "6c11b8a3-4a5b-4d40-d46e-2f99a07f7992"
      },
      "execution_count": null,
      "outputs": [
        {
          "output_type": "stream",
          "name": "stdout",
          "text": [
            "Hi\n",
            "Hi2\n",
            "hi 3\n"
          ]
        }
      ]
    },
    {
      "cell_type": "code",
      "source": [
        "if (0):\n",
        "  print('hi')\n",
        "\n",
        "if (False):\n",
        "  print('hi2')\n",
        "\n",
        "if ( ):\n",
        "  print('hi3')"
      ],
      "metadata": {
        "id": "c1zFtT5dtI5Z"
      },
      "execution_count": null,
      "outputs": []
    },
    {
      "cell_type": "code",
      "source": [
        "if []:\n",
        "  print('hii')"
      ],
      "metadata": {
        "id": "2tNcGZLEtQ3U"
      },
      "execution_count": null,
      "outputs": []
    },
    {
      "cell_type": "code",
      "source": [
        "if [1,2]:\n",
        "  print('hey3')\n",
        "if 0:\n",
        "  print('hey4')\n",
        "if [0]:\n",
        "  print('hey5')"
      ],
      "metadata": {
        "colab": {
          "base_uri": "https://localhost:8080/"
        },
        "id": "orFRd7iBuJDd",
        "outputId": "c86143ec-ae6a-4d46-8634-1c56d4892400"
      },
      "execution_count": null,
      "outputs": [
        {
          "output_type": "stream",
          "name": "stdout",
          "text": [
            "hey3\n",
            "hey5\n"
          ]
        }
      ]
    },
    {
      "cell_type": "code",
      "source": [
        "if ([1,2]==[1,2]):\n",
        "  print('hey1')\n",
        "if ((1,2) is (1,2)):\n",
        "  print('hey2')"
      ],
      "metadata": {
        "colab": {
          "base_uri": "https://localhost:8080/"
        },
        "id": "mE65QkHguXTG",
        "outputId": "6e2b829e-b244-4ec6-86cc-332bfa3e7d1b"
      },
      "execution_count": null,
      "outputs": [
        {
          "output_type": "stream",
          "name": "stdout",
          "text": [
            "hey1\n",
            "hey2\n"
          ]
        },
        {
          "output_type": "stream",
          "name": "stderr",
          "text": [
            "<>:3: SyntaxWarning: \"is\" with a literal. Did you mean \"==\"?\n",
            "<>:3: SyntaxWarning: \"is\" with a literal. Did you mean \"==\"?\n",
            "<ipython-input-9-52fc5e2dda87>:3: SyntaxWarning: \"is\" with a literal. Did you mean \"==\"?\n",
            "  if ((1,2) is (1,2)):\n"
          ]
        }
      ]
    },
    {
      "cell_type": "code",
      "source": [
        "a = [1,2]\n",
        "print(a == a)\n",
        "print([1,2] == [1,2])\n",
        "\n",
        "a = [1,2]\n",
        "print(a is a)\n",
        "print([1,2] is [1,2])"
      ],
      "metadata": {
        "colab": {
          "base_uri": "https://localhost:8080/"
        },
        "id": "gDzdBP5evyDC",
        "outputId": "0c68a46a-d97d-4c0d-9103-5fce3467a035"
      },
      "execution_count": null,
      "outputs": [
        {
          "output_type": "stream",
          "name": "stdout",
          "text": [
            "True\n",
            "True\n",
            "True\n",
            "False\n"
          ]
        }
      ]
    },
    {
      "cell_type": "code",
      "source": [
        "a = (1,2)\n",
        "print(a == a)\n",
        "print((1,2) == (1,2))\n",
        "\n",
        "a = (1,2)\n",
        "print(a is a)\n",
        "print((1,2) is (1,2))\n"
      ],
      "metadata": {
        "colab": {
          "base_uri": "https://localhost:8080/"
        },
        "id": "QxgoEn_9wLCz",
        "outputId": "c71fe9e7-fb00-40a0-e635-ea494a73053f"
      },
      "execution_count": null,
      "outputs": [
        {
          "output_type": "stream",
          "name": "stdout",
          "text": [
            "True\n",
            "True\n",
            "True\n",
            "True\n"
          ]
        },
        {
          "output_type": "stream",
          "name": "stderr",
          "text": [
            "<>:7: SyntaxWarning: \"is\" with a literal. Did you mean \"==\"?\n",
            "<>:7: SyntaxWarning: \"is\" with a literal. Did you mean \"==\"?\n",
            "<ipython-input-13-23a913d5c2f8>:7: SyntaxWarning: \"is\" with a literal. Did you mean \"==\"?\n",
            "  print((1,2) is (1,2))\n"
          ]
        }
      ]
    },
    {
      "cell_type": "code",
      "source": [
        "a,b = 2,2.0\n",
        "print(a == b)\n",
        "print(2 == 2.0)\n",
        "\n",
        "print(a is a)\n",
        "print(a is b)\n",
        "print(2 is 2.0)\n"
      ],
      "metadata": {
        "colab": {
          "base_uri": "https://localhost:8080/"
        },
        "id": "AlpkpOKbwitR",
        "outputId": "79d73479-74f2-4489-b5b3-ecdb4fa88a96"
      },
      "execution_count": null,
      "outputs": [
        {
          "output_type": "stream",
          "name": "stdout",
          "text": [
            "True\n",
            "True\n",
            "True\n",
            "False\n",
            "False\n"
          ]
        },
        {
          "output_type": "stream",
          "name": "stderr",
          "text": [
            "<>:7: SyntaxWarning: \"is\" with a literal. Did you mean \"==\"?\n",
            "<>:7: SyntaxWarning: \"is\" with a literal. Did you mean \"==\"?\n",
            "<ipython-input-14-c3a5faef356a>:7: SyntaxWarning: \"is\" with a literal. Did you mean \"==\"?\n",
            "  print(2 is 2.0)\n"
          ]
        }
      ]
    },
    {
      "cell_type": "code",
      "source": [
        "a,b = (1,2),(1,2)\n",
        "if (a):\n",
        "  print('hi')\n",
        "if (a is a):\n",
        "  print('hi2')\n",
        "if (a is b):\n",
        "  print('hi3')"
      ],
      "metadata": {
        "colab": {
          "base_uri": "https://localhost:8080/"
        },
        "id": "uOrXIOtCxDEd",
        "outputId": "ee8507fe-748c-4cb5-8095-d9f799a0e273"
      },
      "execution_count": null,
      "outputs": [
        {
          "output_type": "stream",
          "name": "stdout",
          "text": [
            "hi\n",
            "hi2\n",
            "hi3\n"
          ]
        }
      ]
    },
    {
      "cell_type": "code",
      "source": [
        "a,b = (1,2),(1,2)\n",
        "print(id(a),id(b))\n",
        "\n"
      ],
      "metadata": {
        "colab": {
          "base_uri": "https://localhost:8080/"
        },
        "id": "yfHDGMx_yzBj",
        "outputId": "0cbf9814-ccfc-4f1e-d0c2-d9ec3e41992d"
      },
      "execution_count": null,
      "outputs": [
        {
          "output_type": "stream",
          "name": "stdout",
          "text": [
            "140312040751936 140312040751936\n"
          ]
        }
      ]
    },
    {
      "cell_type": "code",
      "source": [
        "a = (1,2)\n",
        "b =(1,2)\n",
        "print(id(a),id(b))"
      ],
      "metadata": {
        "colab": {
          "base_uri": "https://localhost:8080/"
        },
        "id": "xrDveHIDy2n0",
        "outputId": "9c2899bf-349a-47ca-cc47-7b2f64aabb93"
      },
      "execution_count": null,
      "outputs": [
        {
          "output_type": "stream",
          "name": "stdout",
          "text": [
            "140312040750016 140312793518784\n"
          ]
        }
      ]
    },
    {
      "cell_type": "code",
      "source": [
        "a = (1,2)\n",
        "b = (1,2)\n",
        "if (a):\n",
        "  print('hi')\n",
        "if (a is a):\n",
        "  print('hi2')\n",
        "if (a is b):\n",
        "  print('hi3')"
      ],
      "metadata": {
        "colab": {
          "base_uri": "https://localhost:8080/"
        },
        "id": "WZ5YA3SMzfbg",
        "outputId": "610c5021-7034-4509-9d17-69999448cb8f"
      },
      "execution_count": null,
      "outputs": [
        {
          "output_type": "stream",
          "name": "stdout",
          "text": [
            "hi\n",
            "hi2\n"
          ]
        }
      ]
    },
    {
      "cell_type": "code",
      "source": [
        "if ((0) and '[]'):\n",
        "  print('hey1')"
      ],
      "metadata": {
        "id": "1gqw0-qAzmY1"
      },
      "execution_count": null,
      "outputs": []
    },
    {
      "cell_type": "code",
      "source": [
        "if (8&7):\n",
        "  print('hey2')"
      ],
      "metadata": {
        "id": "5WQsYxMk1afQ"
      },
      "execution_count": null,
      "outputs": []
    },
    {
      "cell_type": "code",
      "source": [
        "if ('sachin is Sachin'):\n",
        "  print('I am sachin')\n",
        "\n",
        "\n",
        "if ('sachin' is 'Sachin'):\n",
        "  print('I am s2')"
      ],
      "metadata": {
        "colab": {
          "base_uri": "https://localhost:8080/"
        },
        "id": "ChNgALuJ1aTA",
        "outputId": "d9b58684-0e39-4049-89fc-73b5345cfc1a"
      },
      "execution_count": null,
      "outputs": [
        {
          "output_type": "stream",
          "name": "stdout",
          "text": [
            "I am sachin\n"
          ]
        },
        {
          "output_type": "stream",
          "name": "stderr",
          "text": [
            "<>:5: SyntaxWarning: \"is\" with a literal. Did you mean \"==\"?\n",
            "<>:5: SyntaxWarning: \"is\" with a literal. Did you mean \"==\"?\n",
            "<ipython-input-22-1283aa3d610d>:5: SyntaxWarning: \"is\" with a literal. Did you mean \"==\"?\n",
            "  if ('sachin' is 'Sachin'):\n"
          ]
        }
      ]
    },
    {
      "cell_type": "code",
      "source": [
        "if (('1' is 1)&(0 is [0])):\n",
        "  # (False)&(False))\n",
        "  print('hey1')"
      ],
      "metadata": {
        "id": "xmZcmf4L6ucx"
      },
      "execution_count": null,
      "outputs": []
    },
    {
      "cell_type": "code",
      "source": [
        "# True & True\n",
        "# True & False\n",
        "False & True"
      ],
      "metadata": {
        "colab": {
          "base_uri": "https://localhost:8080/"
        },
        "id": "brV9-F-B7TOr",
        "outputId": "9e9738d4-0873-4683-8f57-149bc3a2124d"
      },
      "execution_count": null,
      "outputs": [
        {
          "output_type": "execute_result",
          "data": {
            "text/plain": [
              "False"
            ]
          },
          "metadata": {},
          "execution_count": 25
        }
      ]
    },
    {
      "cell_type": "code",
      "source": [
        "a,b = 3,4\n",
        "if (a&b | b|a):  # (3&4 | 4|3) => (0|7)  = 7\n",
        "# case-1 :\n",
        "#   3 = 011\n",
        "#   4 = 110\n",
        "# 3&4 = 000\n",
        "\n",
        "#   0 = 000\n",
        "#   4 = 100\n",
        "# 0|4 = 100\n",
        "\n",
        "#   4 = 100\n",
        "#   3 = 011\n",
        "# 4|3 = 111\n",
        "\n",
        "  print('hey2')"
      ],
      "metadata": {
        "id": "Ut2xp8to7t_5"
      },
      "execution_count": null,
      "outputs": []
    },
    {
      "cell_type": "code",
      "source": [
        "a,b = 3,9\n",
        "(a&b & b|a)\n",
        "#   3  = 0011\n",
        "#   9  = 1001\n",
        "# 3&9 =  0001 = 1\n",
        "\n",
        "# (3&9 & 9|3)\n",
        "# (1 & 9|3)\n",
        "\n",
        "#  1  = 0001\n",
        "#  9  = 1001\n",
        "# 1&9 = 0001\n",
        "\n",
        "# (1|3)\n",
        "#  1 = 0001\n",
        "#  3 = 0011\n",
        "# 1|3 =0011 = 11\n",
        "\n",
        "# (1&11)\n",
        "#   1 = 0001\n",
        "#   11= 1011\n",
        "# 1&11 =0001 = 1\n"
      ],
      "metadata": {
        "colab": {
          "base_uri": "https://localhost:8080/"
        },
        "id": "NoAphmyH-OBY",
        "outputId": "e0a44f10-688f-40a4-b790-3f5dda469b78"
      },
      "execution_count": null,
      "outputs": [
        {
          "output_type": "execute_result",
          "data": {
            "text/plain": [
              "3"
            ]
          },
          "metadata": {},
          "execution_count": 28
        }
      ]
    },
    {
      "cell_type": "code",
      "source": [
        "a,b,c = 2,3,4\n",
        "if ((a|b) & (c&a)) :\n",
        "  print('hey1')\n",
        "print((a|b) & (c&a))\n",
        "\n",
        "if (a|b & c&a) :\n",
        "  print('hey2')\n",
        "print(a|b & c&a)\n"
      ],
      "metadata": {
        "colab": {
          "base_uri": "https://localhost:8080/"
        },
        "id": "Bdxu--bGAymI",
        "outputId": "ae84581c-290d-416a-cd86-24a0f37bf586"
      },
      "execution_count": null,
      "outputs": [
        {
          "output_type": "stream",
          "name": "stdout",
          "text": [
            "0\n",
            "hey2\n",
            "2\n"
          ]
        }
      ]
    },
    {
      "cell_type": "code",
      "source": [
        "if ((4^2)<<(6|7)):\n",
        "  print('hey')"
      ],
      "metadata": {
        "colab": {
          "base_uri": "https://localhost:8080/"
        },
        "id": "DCKB7XcdGxFw",
        "outputId": "7e2229c6-fb8c-4ee3-d900-fae3e67f3894"
      },
      "execution_count": null,
      "outputs": [
        {
          "output_type": "stream",
          "name": "stdout",
          "text": [
            "hey\n"
          ]
        }
      ]
    },
    {
      "cell_type": "code",
      "source": [
        "# print('hi')\n",
        "a = int(input(\"Please enter a number: \"))\n",
        "if a:\n",
        "  print(a)"
      ],
      "metadata": {
        "colab": {
          "base_uri": "https://localhost:8080/"
        },
        "id": "htmeWnSaIZso",
        "outputId": "b157756b-07d3-4c27-bf18-b4d5e5707194"
      },
      "execution_count": null,
      "outputs": [
        {
          "output_type": "stream",
          "name": "stdout",
          "text": [
            "Please enter a number: 123\n",
            "123\n"
          ]
        }
      ]
    },
    {
      "cell_type": "code",
      "source": [
        "a = input()\n",
        "print(a, type(a))"
      ],
      "metadata": {
        "colab": {
          "base_uri": "https://localhost:8080/"
        },
        "id": "dlisrh6KJ4JC",
        "outputId": "6eff440a-f20b-4220-c03a-8c701dfd5ca3"
      },
      "execution_count": null,
      "outputs": [
        {
          "output_type": "stream",
          "name": "stdout",
          "text": [
            "23\n",
            "23 <class 'str'>\n"
          ]
        }
      ]
    },
    {
      "cell_type": "code",
      "source": [
        "a = int(input())\n",
        "print(a, type(a))"
      ],
      "metadata": {
        "colab": {
          "base_uri": "https://localhost:8080/"
        },
        "id": "6WK3KDX8J383",
        "outputId": "67fd7348-8318-462d-a75e-ec6a2e3b3ebb"
      },
      "execution_count": null,
      "outputs": [
        {
          "output_type": "stream",
          "name": "stdout",
          "text": [
            "5\n",
            "5 <class 'int'>\n"
          ]
        }
      ]
    },
    {
      "cell_type": "code",
      "source": [
        "a = int(input('Please enter operand 1 : '))\n",
        "b = int(input('Please enter operand 2 : '))\n",
        "print(f'The answer is {a+b}')"
      ],
      "metadata": {
        "colab": {
          "base_uri": "https://localhost:8080/"
        },
        "id": "TDguMomk0LU0",
        "outputId": "b4e2345d-47db-4e18-fa35-8304360e1c63"
      },
      "execution_count": null,
      "outputs": [
        {
          "output_type": "stream",
          "name": "stdout",
          "text": [
            "Please enter operand 1 : 5\n",
            "Please enter operand 2 : 5\n",
            "The answer is 10\n"
          ]
        }
      ]
    },
    {
      "cell_type": "code",
      "source": [
        "# Even number or not\n",
        "# Even or Odd\n",
        "\n",
        "a = int(input('Please enter a number : '))\n",
        "\n",
        "if ((a%2)==0) :\n",
        "  print('Even number it is')\n",
        "\n",
        "\n",
        "if ((a%2)!=0) :\n",
        "  print('Odd number it is')"
      ],
      "metadata": {
        "colab": {
          "base_uri": "https://localhost:8080/"
        },
        "id": "rU5WIgXj00Ow",
        "outputId": "4ef12a3b-ce44-4621-fe33-59822642cc5a"
      },
      "execution_count": null,
      "outputs": [
        {
          "output_type": "stream",
          "name": "stdout",
          "text": [
            "Please enter operand 1 : 8\n",
            "Even number it is\n"
          ]
        }
      ]
    },
    {
      "cell_type": "code",
      "source": [
        "# Positive or negative\n",
        "a = int(input('Please enter a number : '))\n",
        "if (a>0):\n",
        "  print('Positive number')\n",
        "\n",
        "if (a<0):\n",
        "  print('Negative number')\n"
      ],
      "metadata": {
        "colab": {
          "base_uri": "https://localhost:8080/"
        },
        "id": "tft1jTfR2BNb",
        "outputId": "cb761802-4270-404f-b4e7-b82d45cef17c"
      },
      "execution_count": null,
      "outputs": [
        {
          "output_type": "stream",
          "name": "stdout",
          "text": [
            "Please enter a number : 3\n",
            "Positive number\n"
          ]
        }
      ]
    },
    {
      "cell_type": "code",
      "source": [
        "a = int(input('Please enter a number : '))\n",
        "\n",
        "if ((a%2)==0) :\n",
        "  print('Even number it is')\n",
        "\n",
        "if ((a%2)!=0) :\n",
        "  print('Odd number it is')\n",
        "\n",
        "if (a>0):\n",
        "  print('Positive number')\n",
        "\n",
        "if (a<0):\n",
        "  print('Negative number')\n"
      ],
      "metadata": {
        "colab": {
          "base_uri": "https://localhost:8080/"
        },
        "id": "lO0txXSg3ow3",
        "outputId": "58da1ed3-9d6f-4cde-ae48-781db3e5b2cc"
      },
      "execution_count": null,
      "outputs": [
        {
          "output_type": "stream",
          "name": "stdout",
          "text": [
            "Please enter a number : -6\n",
            "Even number it is\n",
            "Negative number\n"
          ]
        }
      ]
    },
    {
      "cell_type": "code",
      "source": [
        "a = int(input('Please enter a number : '))\n",
        "\n",
        "if (((a%2)==0 ) and (a>0) )   :\n",
        "  print('positive Even number it is')\n",
        "\n",
        "else:\n",
        "  print('something else')"
      ],
      "metadata": {
        "colab": {
          "base_uri": "https://localhost:8080/"
        },
        "id": "LVXWE-D64qGi",
        "outputId": "1604958a-17b2-47f6-e546-6eda68aa9825"
      },
      "execution_count": null,
      "outputs": [
        {
          "output_type": "stream",
          "name": "stdout",
          "text": [
            "Please enter a number : -3\n",
            "something else\n"
          ]
        }
      ]
    },
    {
      "cell_type": "code",
      "source": [
        "# positive even\n",
        "# positive odd\n",
        "a = int(input('Please enter a number : '))\n",
        "\n",
        "if (((a%2)==0 ) and (a>0) )   :\n",
        "  print('positive Even number it is')\n",
        "\n",
        "elif (((a%2)!=0 ) and (a>0) )   :\n",
        "  print('positive Odd number it is')\n",
        "\n",
        "else:\n",
        "  print('something else')"
      ],
      "metadata": {
        "id": "0_I9WaVE6Y2x"
      },
      "execution_count": null,
      "outputs": []
    },
    {
      "cell_type": "code",
      "source": [
        "# +ve, -ve, zero\n",
        "a = int(input('Please enter a number : '))\n",
        "if (a>0):\n",
        "  print('positive')\n",
        "\n",
        "if (a<0):\n",
        "  print('negative')\n",
        "\n",
        "if (a==0):\n",
        "  print('zero')"
      ],
      "metadata": {
        "colab": {
          "base_uri": "https://localhost:8080/"
        },
        "id": "J9bDDwWY8T8M",
        "outputId": "5e83fa59-1a2d-4aea-c0aa-78fd7f878ed9"
      },
      "execution_count": null,
      "outputs": [
        {
          "output_type": "stream",
          "name": "stdout",
          "text": [
            "Please enter a number : 0\n",
            "zero\n"
          ]
        }
      ]
    },
    {
      "cell_type": "code",
      "source": [
        "a = int(input('Please enter a number : '))\n",
        "if (a>0):\n",
        "  print('positive')\n",
        "\n",
        "# if (a<0):\n",
        "#   print('negative')\n",
        "\n",
        "# if (a==0):\n",
        "else:\n",
        "  print('zero or negative')"
      ],
      "metadata": {
        "id": "n11Kqwnh9s5q"
      },
      "execution_count": null,
      "outputs": []
    },
    {
      "cell_type": "code",
      "source": [
        "a = int(input('Please enter a number : '))\n",
        "if (a>0):\n",
        "  print('positive')\n",
        "\n",
        "elif (a<0):\n",
        "  print('negative')\n",
        "\n",
        "elif (a==0):\n",
        "  print('zero')"
      ],
      "metadata": {
        "id": "EJUeTfYb92Lk"
      },
      "execution_count": null,
      "outputs": []
    },
    {
      "cell_type": "code",
      "source": [
        "a = int(input('Please enter a number : '))\n",
        "if (a>0):\n",
        "  print('positive')\n",
        "\n",
        "elif (a<0):\n",
        "  print('negative')\n",
        "\n",
        "else:\n",
        "  print('zero')"
      ],
      "metadata": {
        "id": "8ensjfLA-Kcw"
      },
      "execution_count": null,
      "outputs": []
    },
    {
      "cell_type": "code",
      "source": [
        "a = int(input('Please enter a number : '))\n",
        "if (a>0):\n",
        "  print('positive')\n",
        "\n",
        "if (a<0):\n",
        "  print('negative')\n",
        "\n",
        "else:\n",
        "  print('zero')"
      ],
      "metadata": {
        "id": "pj8l1ZzO-ZN_"
      },
      "execution_count": null,
      "outputs": []
    },
    {
      "cell_type": "code",
      "source": [
        "if 0:\n",
        "  print('Hi1')\n",
        "if 0:\n",
        "  print('Hi2')\n",
        "else:\n",
        "  print('Hi3')"
      ],
      "metadata": {
        "colab": {
          "base_uri": "https://localhost:8080/"
        },
        "id": "koV1fZP0_Kzm",
        "outputId": "8893c234-34a8-4477-df80-5002516cd9a5"
      },
      "execution_count": null,
      "outputs": [
        {
          "output_type": "stream",
          "name": "stdout",
          "text": [
            "Hi3\n"
          ]
        }
      ]
    },
    {
      "cell_type": "code",
      "source": [
        "# Find where the given number lies ?\n",
        "# 0-10, 10-20, 20-30, more than 30\n"
      ],
      "metadata": {
        "id": "lr2lPViMClRY"
      },
      "execution_count": null,
      "outputs": []
    },
    {
      "cell_type": "code",
      "source": [
        "# if a number is multiple of 3  but not 5, print \"fizz\"\n",
        "# if a number is multiple of 5  but not 3, print \"buzz\"\n",
        "# if a number is multiple of both print \"fizz buzz\"\n",
        "\n",
        "a = int(input('Please enter a number : '))\n",
        "if ((a%3)==0):\n",
        "  print('multiple of 3')"
      ],
      "metadata": {
        "id": "GizmAllPLE5n"
      },
      "execution_count": null,
      "outputs": []
    },
    {
      "cell_type": "code",
      "source": [
        "# Roots  of the Quadratic equation?\n",
        "# Nature of the roots?"
      ],
      "metadata": {
        "id": "Z-uurScQNvWU"
      },
      "execution_count": null,
      "outputs": []
    },
    {
      "cell_type": "code",
      "source": [
        "# sqrt\n",
        "import math\n",
        "math.sqrt(4)\n",
        "\n"
      ],
      "metadata": {
        "colab": {
          "base_uri": "https://localhost:8080/"
        },
        "id": "A-2S4r2hd2eE",
        "outputId": "c198288c-04c2-494b-a4ea-082e14f54a01"
      },
      "execution_count": null,
      "outputs": [
        {
          "output_type": "execute_result",
          "data": {
            "text/plain": [
              "2.0"
            ]
          },
          "metadata": {},
          "execution_count": 2
        }
      ]
    },
    {
      "cell_type": "code",
      "source": [
        "# WAP to calculate the area of triangle, square, circle?"
      ],
      "metadata": {
        "id": "5JMlTfT6jpz-"
      },
      "execution_count": null,
      "outputs": []
    },
    {
      "cell_type": "code",
      "source": [
        "# Price = your_value\n",
        "# quantity  = your_value\n",
        "# amount = price * quantity\n",
        "\n",
        "# amount =  ( 0 - 500 ) is low quality\n",
        "# amount =  ( 501 - 1000 )is High quality\n",
        "# amount =  ( 100 - 200 ) is cheaper cost\n",
        "# amount =  ( 201 - 400 ) is good cost\n",
        "# amount =  ( 401 - 800 ) is moderate cost\n",
        "# amount =  ( 801 - 1000 )is costly"
      ],
      "metadata": {
        "id": "RQi4jt1Vjvkt"
      },
      "execution_count": null,
      "outputs": []
    },
    {
      "cell_type": "code",
      "source": [
        "# Any product costs 100 each in shopping mall\n",
        "# There is a discount of 10% on the bill if customer shops more than 1000 rupees\n",
        "# Hint- Ask user, how many products he purchased as input to your code.\n",
        "# Tell the customer the final bill.\n",
        "\n",
        "items = int(input('Enter number of items? '))\n",
        "cost = items * 100\n",
        "if (cost >= 1000):\n",
        "  print(f'The actual bill is {cost}')\n",
        "  print(f'There is a 10% discount for you. \\n The final bill is {cost* 0.9}')\n",
        "else:\n",
        "  print(f'The total bill is: {cost}')"
      ],
      "metadata": {
        "id": "2_zYAFkEjwYs",
        "colab": {
          "base_uri": "https://localhost:8080/"
        },
        "outputId": "be6ef2d5-ad22-4a8b-f3c5-33fd78516688"
      },
      "execution_count": null,
      "outputs": [
        {
          "output_type": "stream",
          "name": "stdout",
          "text": [
            "Enter number of items? 11\n",
            "The actual bill is 1100\n",
            "There is a 10% discount for you. \n",
            " The final bill is 990.0\n"
          ]
        }
      ]
    },
    {
      "cell_type": "code",
      "source": [
        "# Check whether a triangle is a scalene/isosceles/equilateral triangle?"
      ],
      "metadata": {
        "id": "8Ih_1keQjzC2"
      },
      "execution_count": null,
      "outputs": []
    },
    {
      "cell_type": "code",
      "source": [
        "# students above 75% attendance should be allowed for exam\n",
        "# students with permission are allowed though less than 75%"
      ],
      "metadata": {
        "id": "5f00n5JWj6PT"
      },
      "execution_count": null,
      "outputs": []
    },
    {
      "cell_type": "code",
      "source": [
        "# Build Mini calculator having functionalities - *, /, +, - , %, squareroot, exponentiation, floor, ceil"
      ],
      "metadata": {
        "id": "NtKWU2M-HnUb"
      },
      "execution_count": null,
      "outputs": []
    },
    {
      "cell_type": "code",
      "source": [
        "# Voter eligibility criteria\n",
        "# 1. What is your name? (Greet user with his/her name)\n",
        "# 2. Where are you from? (indian/others, only Indians are allowed to vote)\n",
        "# 3. Have you ever experienced voting before? (Yes/No)\n",
        "# 4. Would you like to Vote? (Yes/No)\n",
        "# 5. Which Year-Month-Day were you born? (DAY/MONTH/YEAR ,Calculate age)\n",
        "# 6. Did you like our project? (Yes/No)\n",
        "# 7. Please give us rating out of 5? => less than 5 ratings give 'we will try better' else 'thanks'"
      ],
      "metadata": {
        "id": "Hwf-JUDQNoVI"
      },
      "execution_count": null,
      "outputs": []
    },
    {
      "cell_type": "code",
      "source": [
        "# Find greatest number among three numbers?\n",
        "# ex: a,b,c are numbers\n",
        "# i) a is greater\n",
        "# ii) b is greater\n",
        "# iii) c is greater\n",
        "# iv) a, b are greater\n",
        "# v) a,c are greater\n",
        "# vi) b,c are greater\n",
        "# vii) all are equal"
      ],
      "metadata": {
        "id": "wgpkPJOBXgQz"
      },
      "execution_count": null,
      "outputs": []
    },
    {
      "cell_type": "code",
      "source": [
        "import time\n",
        "a = input('what is your name?')\n",
        "print(f'hi {a}')\n",
        "time.sleep(2)\n",
        "b = input('what is your fathers name?')\n",
        "print(f'say hi to {b}')"
      ],
      "metadata": {
        "colab": {
          "base_uri": "https://localhost:8080/"
        },
        "id": "RorLTWSqn38T",
        "outputId": "5a25dd5d-9ab8-45d2-a045-d94de8b8c6c8"
      },
      "execution_count": null,
      "outputs": [
        {
          "output_type": "stream",
          "name": "stdout",
          "text": [
            "what is your name?A\n",
            "hi A\n",
            "what is your fathers name?H\n",
            "say hi to H\n"
          ]
        }
      ]
    },
    {
      "cell_type": "code",
      "source": [
        "# dd/mm/yyyy\n",
        "# dd/mm/yy\n",
        "a = input('give the dob: ')\n",
        "# a[6:]\n",
        "b = a.split('/')\n",
        "b[2]"
      ],
      "metadata": {
        "colab": {
          "base_uri": "https://localhost:8080/",
          "height": 53
        },
        "id": "hglfftuJok2J",
        "outputId": "d7a3e502-98ea-424f-b763-bfbf44d9ceec"
      },
      "execution_count": null,
      "outputs": [
        {
          "name": "stdout",
          "output_type": "stream",
          "text": [
            "give the dob: 12/12/1212\n"
          ]
        },
        {
          "output_type": "execute_result",
          "data": {
            "text/plain": [
              "'1212'"
            ],
            "application/vnd.google.colaboratory.intrinsic+json": {
              "type": "string"
            }
          },
          "metadata": {},
          "execution_count": 8
        }
      ]
    },
    {
      "cell_type": "code",
      "source": [
        "import date"
      ],
      "metadata": {
        "id": "DWZVvxKQqXFd"
      },
      "execution_count": null,
      "outputs": []
    },
    {
      "cell_type": "markdown",
      "source": [
        "Shorthand notations of conditions"
      ],
      "metadata": {
        "id": "IJ-vxZL8nYM7"
      }
    },
    {
      "cell_type": "code",
      "source": [
        "# regular if condition\n",
        "if 1:\n",
        "  print('Hi')\n",
        "\n",
        "# shorthand if\n",
        "if 1: print('hi')"
      ],
      "metadata": {
        "colab": {
          "base_uri": "https://localhost:8080/"
        },
        "id": "PS0O2JtYna7U",
        "outputId": "fa7b14c1-3eda-47b1-e4dc-36ac9170737b"
      },
      "execution_count": null,
      "outputs": [
        {
          "output_type": "stream",
          "name": "stdout",
          "text": [
            "Hi\n",
            "hi\n"
          ]
        }
      ]
    },
    {
      "cell_type": "code",
      "source": [
        "# regular if - else condition\n",
        "if 1:\n",
        "  print('Hi')\n",
        "else:\n",
        "  print('hello')\n",
        "\n",
        "# shorthand if\n",
        "# (if statement) (if condition) (else) (else statement)\n",
        "print('hi') if 0 else print('hello')"
      ],
      "metadata": {
        "id": "OclI4E8LqXCq",
        "colab": {
          "base_uri": "https://localhost:8080/"
        },
        "outputId": "1f14ce73-5aec-4a2f-c905-e8c47d210d96"
      },
      "execution_count": null,
      "outputs": [
        {
          "output_type": "stream",
          "name": "stdout",
          "text": [
            "Hi\n",
            "hello\n"
          ]
        }
      ]
    },
    {
      "cell_type": "code",
      "source": [
        "# regular if - elif - else condition\n",
        "if 1:\n",
        "  print('Hi')\n",
        "elif (1):\n",
        "  print('hi2')\n",
        "else:\n",
        "  print('hello')\n",
        "\n",
        "# shorthand if\n",
        "# (if statement) (if condition) (else) (elif statement) (if) (else) (else statement)\n",
        "print('hi') if 1 else print('hi2') if 1  else print('hello')"
      ],
      "metadata": {
        "colab": {
          "base_uri": "https://localhost:8080/"
        },
        "id": "eCGAp3X8oYui",
        "outputId": "9cf6adf1-a351-416b-963e-d0e9038ca116"
      },
      "execution_count": null,
      "outputs": [
        {
          "output_type": "stream",
          "name": "stdout",
          "text": [
            "hello\n",
            "hello\n"
          ]
        }
      ]
    },
    {
      "cell_type": "code",
      "source": [
        "# ternary operator"
      ],
      "metadata": {
        "id": "3UdAA5IPqagi"
      },
      "execution_count": null,
      "outputs": []
    }
  ]
}
{
  "nbformat": 4,
  "nbformat_minor": 0,
  "metadata": {
    "colab": {
      "provenance": [],
      "include_colab_link": true
    },
    "kernelspec": {
      "name": "python3",
      "display_name": "Python 3"
    },
    "language_info": {
      "name": "python"
    }
  },
  "cells": [
    {
      "cell_type": "markdown",
      "metadata": {
        "id": "view-in-github",
        "colab_type": "text"
      },
      "source": [
        "<a href=\"https://colab.research.google.com/github/SHAZAN01/Python/blob/main/DA_23_Python_4.ipynb\" target=\"_parent\"><img src=\"https://colab.research.google.com/assets/colab-badge.svg\" alt=\"Open In Colab\"/></a>"
      ]
    },
    {
      "cell_type": "markdown",
      "source": [
        "Iterational operation\n",
        "1. for loop\n",
        "2. while loop"
      ],
      "metadata": {
        "id": "zqOfFrWHrCi2"
      }
    },
    {
      "cell_type": "code",
      "execution_count": null,
      "metadata": {
        "id": "gpysNcRuq7Ja"
      },
      "outputs": [],
      "source": [
        "# while loop\n",
        "# initialization\n",
        "# while (condition for termination) :\n",
        "  # incrementation/decrementation (or)\n",
        "  # statement\n",
        "  # incrementation/decrementation"
      ]
    },
    {
      "cell_type": "code",
      "source": [
        "print(1)\n",
        "print(1)\n",
        "print(1)\n",
        "print(1)\n",
        "print(1)"
      ],
      "metadata": {
        "colab": {
          "base_uri": "https://localhost:8080/"
        },
        "id": "YnvILRnFscsP",
        "outputId": "7dcc7fd5-f2e5-4692-d62c-9c2d16e7cdb2"
      },
      "execution_count": null,
      "outputs": [
        {
          "output_type": "stream",
          "name": "stdout",
          "text": [
            "1\n",
            "1\n",
            "1\n",
            "1\n",
            "1\n"
          ]
        }
      ]
    },
    {
      "cell_type": "code",
      "source": [
        "a = 1\n",
        "while (a<=5):\n",
        "  print(1)\n",
        "  a+=1 #a=a+1\n"
      ],
      "metadata": {
        "colab": {
          "base_uri": "https://localhost:8080/"
        },
        "id": "fQgFcSQzspfX",
        "outputId": "886c26ff-c59b-4173-a5f0-66b09ae0f1da"
      },
      "execution_count": null,
      "outputs": [
        {
          "output_type": "stream",
          "name": "stdout",
          "text": [
            "1\n",
            "1\n",
            "1\n",
            "1\n",
            "1\n"
          ]
        }
      ]
    },
    {
      "cell_type": "code",
      "source": [
        "num = int(input('insert a number to terminate: '))\n",
        "a = 1\n",
        "while (a<=num):\n",
        "  print(a)\n",
        "  a+=1 #a=a+1\n"
      ],
      "metadata": {
        "id": "-je1ibSZuez-"
      },
      "execution_count": null,
      "outputs": []
    },
    {
      "cell_type": "code",
      "source": [
        "num = int(input('insert a number to terminate: '))\n",
        "a = 0\n",
        "while (a in range(num+1)):\n",
        "  print(a)\n",
        "  a+=1 #a=a+1"
      ],
      "metadata": {
        "colab": {
          "base_uri": "https://localhost:8080/"
        },
        "id": "GY4-pHRMu3fb",
        "outputId": "a4b028af-aae1-4988-fdad-f10a395cb9a7"
      },
      "execution_count": null,
      "outputs": [
        {
          "output_type": "stream",
          "name": "stdout",
          "text": [
            "insert a number to terminate: 5\n",
            "0\n",
            "1\n",
            "2\n",
            "3\n",
            "4\n",
            "5\n"
          ]
        }
      ]
    },
    {
      "cell_type": "code",
      "source": [
        "# range(start,end,step)\n",
        "# range(10)\n",
        "# range(2,10)\n",
        "# range(2,10,2)"
      ],
      "metadata": {
        "id": "Af9lyrZSvpfj"
      },
      "execution_count": null,
      "outputs": []
    },
    {
      "cell_type": "code",
      "source": [
        "# all even numbers between 20-50\n",
        "a = 20\n",
        "while (a<51):\n",
        "  if ((a%2)==0):\n",
        "    print(a)\n",
        "  a = a+1"
      ],
      "metadata": {
        "id": "0ITmyJEOwY8u"
      },
      "execution_count": null,
      "outputs": []
    },
    {
      "cell_type": "code",
      "source": [
        "a = 20\n",
        "while (a<51):\n",
        "  print(a)\n",
        "  a = a+2"
      ],
      "metadata": {
        "id": "m7fYnWD51TW7"
      },
      "execution_count": null,
      "outputs": []
    },
    {
      "cell_type": "code",
      "source": [
        "a = 20\n",
        "while (a in range(51)):\n",
        "  print(a)\n",
        "  a = a+2"
      ],
      "metadata": {
        "id": "kjP6LW_u1cD3"
      },
      "execution_count": null,
      "outputs": []
    },
    {
      "cell_type": "code",
      "source": [
        "a = 20\n",
        "while (a in range(20,51,2)):\n",
        "  print(a)\n",
        "  a = a+2"
      ],
      "metadata": {
        "id": "AZjASmXZ1mne"
      },
      "execution_count": null,
      "outputs": []
    },
    {
      "cell_type": "code",
      "source": [
        "  list(range(20,51,2))"
      ],
      "metadata": {
        "colab": {
          "base_uri": "https://localhost:8080/"
        },
        "id": "CNzVzba71wgK",
        "outputId": "d2004ceb-676e-450d-a74f-d486a6f86537"
      },
      "execution_count": null,
      "outputs": [
        {
          "output_type": "execute_result",
          "data": {
            "text/plain": [
              "[20, 22, 24, 26, 28, 30, 32, 34, 36, 38, 40, 42, 44, 46, 48, 50]"
            ]
          },
          "metadata": {},
          "execution_count": 19
        }
      ]
    },
    {
      "cell_type": "code",
      "source": [
        "# all even numbers between 100-50\n",
        "a = 100\n",
        "while (a>49):\n",
        "  print(a)\n",
        "  a-=2"
      ],
      "metadata": {
        "id": "Jn2v8HM7zUkf"
      },
      "execution_count": null,
      "outputs": []
    },
    {
      "cell_type": "code",
      "source": [
        "a = 100\n",
        "while (a>49):\n",
        "  if ((a%2)==0):\n",
        "    print(a)\n",
        "  a-=1"
      ],
      "metadata": {
        "id": "4CqASTGJ20H2"
      },
      "execution_count": null,
      "outputs": []
    },
    {
      "cell_type": "code",
      "source": [
        "a = 100\n",
        "while (a in range(100,49,-1)):\n",
        "  if ((a%2)==0):\n",
        "    print(a)\n",
        "  a-=1"
      ],
      "metadata": {
        "id": "nYsEI6JA3Z-8"
      },
      "execution_count": null,
      "outputs": []
    },
    {
      "cell_type": "code",
      "source": [
        "a = 100\n",
        "while (a in range(100,49,-2)):\n",
        "  print(a)\n",
        "  a-=2"
      ],
      "metadata": {
        "id": "DMvCOAGh3m6A"
      },
      "execution_count": null,
      "outputs": []
    },
    {
      "cell_type": "markdown",
      "source": [
        "While loop on datatypes"
      ],
      "metadata": {
        "id": "R_nMhRa54C2o"
      }
    },
    {
      "cell_type": "code",
      "source": [
        "# numeric -int,float, complex\n",
        "# cannot be iterated"
      ],
      "metadata": {
        "id": "EREYvQdB4I4H"
      },
      "execution_count": null,
      "outputs": []
    },
    {
      "cell_type": "code",
      "source": [
        "# String\n",
        "a = 'python'\n",
        "# print(len(a))\n",
        "i=0\n",
        "while (i < len(a)):\n",
        "  print(a[i],end='\\n') #\\n , ' ', ''\n",
        "  i+=1"
      ],
      "metadata": {
        "id": "eUyfoFm33wNK"
      },
      "execution_count": null,
      "outputs": []
    },
    {
      "cell_type": "code",
      "source": [
        "a = 'python'\n",
        "# print(len(a))\n",
        "i=0\n",
        "while (i in  range(len(a))):\n",
        "  print(a[i])\n",
        "  i+=1"
      ],
      "metadata": {
        "colab": {
          "base_uri": "https://localhost:8080/"
        },
        "id": "FMxF0P1l8Trg",
        "outputId": "1221d937-d233-4b3a-90c5-2d1bdccdf2e2"
      },
      "execution_count": null,
      "outputs": [
        {
          "output_type": "stream",
          "name": "stdout",
          "text": [
            "p\n",
            "y\n",
            "t\n",
            "h\n",
            "o\n",
            "n\n"
          ]
        }
      ]
    },
    {
      "cell_type": "code",
      "source": [
        "# list\n",
        "a = ['p','y','t','h']\n",
        "i = 0\n",
        "while (i<len(a)):\n",
        "  print(a[i])\n",
        "  i+=1\n",
        "\n",
        "# list\n",
        "a = ['p','y','t','h']\n",
        "i = 0\n",
        "while (i in range(len(a))):\n",
        "  print(a[i])\n",
        "  i+=1"
      ],
      "metadata": {
        "colab": {
          "base_uri": "https://localhost:8080/"
        },
        "id": "Z7l4UCHy8-ph",
        "outputId": "2bdc6351-1523-4d25-ca52-849afb7b56cb"
      },
      "execution_count": null,
      "outputs": [
        {
          "output_type": "stream",
          "name": "stdout",
          "text": [
            "p\n",
            "y\n",
            "t\n",
            "h\n",
            "p\n",
            "y\n",
            "t\n",
            "h\n"
          ]
        }
      ]
    },
    {
      "cell_type": "code",
      "source": [
        "# tuple\n",
        "a = ('p','y','t','h')\n",
        "i = 0\n",
        "while (i<len(a)):\n",
        "  print(a[i])\n",
        "  i+=1\n",
        "\n",
        "\n",
        "# tuple\n",
        "a = ('p','y','t','h')\n",
        "i = 0\n",
        "while (i in range(len(a))):\n",
        "  print(a[i])\n",
        "  i+=1"
      ],
      "metadata": {
        "colab": {
          "base_uri": "https://localhost:8080/"
        },
        "id": "2nuW0yICBlLg",
        "outputId": "de3250f8-4e15-440b-8e64-6f021425a086"
      },
      "execution_count": null,
      "outputs": [
        {
          "output_type": "stream",
          "name": "stdout",
          "text": [
            "p\n",
            "y\n",
            "t\n",
            "h\n",
            "p\n",
            "y\n",
            "t\n",
            "h\n"
          ]
        }
      ]
    },
    {
      "cell_type": "code",
      "source": [
        "# set\n",
        "a = {'p','y','t','h'}\n",
        "# Type convert set to other and then iterate"
      ],
      "metadata": {
        "id": "ehb2Nn0oBo5G"
      },
      "execution_count": null,
      "outputs": []
    },
    {
      "cell_type": "code",
      "source": [
        "# dict\n",
        "a = {11:'p',2:'y',3:'t',4:'h'}\n",
        "b = list(a.items())\n",
        "i=0\n",
        "while i < len(b) :\n",
        "  print(b[i])\n",
        "  #  print(b[i][0],':',b[i][1])\n",
        "  i+=1\n"
      ],
      "metadata": {
        "colab": {
          "base_uri": "https://localhost:8080/"
        },
        "id": "i9DUD6QiCBqm",
        "outputId": "80a63b61-8a4a-4898-d7d8-a8e48915b9c1"
      },
      "execution_count": null,
      "outputs": [
        {
          "output_type": "stream",
          "name": "stdout",
          "text": [
            "(11, 'p')\n",
            "(2, 'y')\n",
            "(3, 't')\n",
            "(4, 'h')\n"
          ]
        }
      ]
    },
    {
      "cell_type": "code",
      "source": [
        "# dict\n",
        "a = {11:'p',2:'y',3:'t',4:'h'}\n",
        "b = list(a.keys())\n",
        "i = 0\n",
        "while (i<len(b)) :\n",
        "  # print(a[b[i]])\n",
        "  # print(b[i],' : ', a[b[i]])\n",
        "  print(f'{b[i]} : {a[b[i]]}')\n",
        "  i+=1\n"
      ],
      "metadata": {
        "colab": {
          "base_uri": "https://localhost:8080/"
        },
        "id": "Zg6aIb7VDZeA",
        "outputId": "b4a759f9-af9b-4184-86f3-c57bab9c04bc"
      },
      "execution_count": null,
      "outputs": [
        {
          "output_type": "stream",
          "name": "stdout",
          "text": [
            "11 : p\n",
            "2 : y\n",
            "3 : t\n",
            "4 : h\n"
          ]
        }
      ]
    },
    {
      "cell_type": "code",
      "source": [
        "# dict\n",
        "a = {11:'p',2:'y',3:'t',4:'h'}\n",
        "b = list(a.keys())\n",
        "c = list(a.values())\n",
        "i = 0\n",
        "while (i<len(b)) :\n",
        "  print(f'{b[i]} : {c[i]}')\n",
        "  i+=1\n"
      ],
      "metadata": {
        "colab": {
          "base_uri": "https://localhost:8080/"
        },
        "id": "es0ybmTGFXlj",
        "outputId": "8dc5d610-c620-40ed-d392-59c3f110ab04"
      },
      "execution_count": null,
      "outputs": [
        {
          "output_type": "stream",
          "name": "stdout",
          "text": [
            "11 : p\n",
            "2 : y\n",
            "3 : t\n",
            "4 : h\n"
          ]
        }
      ]
    },
    {
      "cell_type": "code",
      "source": [
        "a = {11:'p',2:'y',3:'t',4:'h'}\n",
        "# list(enumerate(a))"
      ],
      "metadata": {
        "colab": {
          "base_uri": "https://localhost:8080/"
        },
        "id": "gTc0i0ZjFri8",
        "outputId": "dfaae1d8-1d1d-4e27-cd91-1e3c6ab6193c"
      },
      "execution_count": null,
      "outputs": [
        {
          "output_type": "execute_result",
          "data": {
            "text/plain": [
              "[(0, 11), (1, 2), (2, 3), (3, 4)]"
            ]
          },
          "metadata": {},
          "execution_count": 59
        }
      ]
    },
    {
      "cell_type": "code",
      "source": [
        "# 2 x 1 = 2\n",
        "# 2 x 2 = 4\n",
        "# 2 x 3 = 6\n",
        "# ........\n",
        "# 2 x 10 = 20"
      ],
      "metadata": {
        "id": "4wivXtk_F5xR"
      },
      "execution_count": null,
      "outputs": []
    },
    {
      "cell_type": "markdown",
      "source": [
        "for loop"
      ],
      "metadata": {
        "id": "l0wwwwXK0PE-"
      }
    },
    {
      "cell_type": "code",
      "source": [
        "# for (temporary iterative variable)  in (sequence):\n",
        "      # statement"
      ],
      "metadata": {
        "id": "I8Zy3wVQ0P_Q"
      },
      "execution_count": null,
      "outputs": []
    },
    {
      "cell_type": "code",
      "source": [
        "for i in range(5):\n",
        "  print(2)"
      ],
      "metadata": {
        "colab": {
          "base_uri": "https://localhost:8080/"
        },
        "id": "zY_ZulrW0OQh",
        "outputId": "e4ee9aa9-dd2c-47bf-e12c-f146e3d7debb"
      },
      "execution_count": null,
      "outputs": [
        {
          "output_type": "stream",
          "name": "stdout",
          "text": [
            "2\n",
            "2\n",
            "2\n",
            "2\n",
            "2\n"
          ]
        }
      ]
    },
    {
      "cell_type": "code",
      "source": [
        "for i in range(1,6):\n",
        "  print(i)"
      ],
      "metadata": {
        "colab": {
          "base_uri": "https://localhost:8080/"
        },
        "id": "Y-9TRP4e0_gF",
        "outputId": "e5f9fcdd-e310-423f-edaa-21ebe4de1c92"
      },
      "execution_count": null,
      "outputs": [
        {
          "output_type": "stream",
          "name": "stdout",
          "text": [
            "1\n",
            "2\n",
            "3\n",
            "4\n",
            "5\n"
          ]
        }
      ]
    },
    {
      "cell_type": "code",
      "source": [
        "for i in range(2,51,2):\n",
        "  print(i)"
      ],
      "metadata": {
        "id": "IF3hH-WP1I13"
      },
      "execution_count": null,
      "outputs": []
    },
    {
      "cell_type": "code",
      "source": [
        "# 100 - 50 odd numbers\n",
        "for i in range(99,49,-2):\n",
        "  print(i)"
      ],
      "metadata": {
        "id": "8GGd13Jt1SfK"
      },
      "execution_count": null,
      "outputs": []
    },
    {
      "cell_type": "code",
      "source": [
        "for i in range(100,49,-1):\n",
        "  if ((i%2)!=0):\n",
        "    print(i)\n"
      ],
      "metadata": {
        "id": "rRcpgu7X4Jr1"
      },
      "execution_count": null,
      "outputs": []
    },
    {
      "cell_type": "code",
      "source": [
        "for i in 'python':\n",
        "  print(i,end='  ')"
      ],
      "metadata": {
        "colab": {
          "base_uri": "https://localhost:8080/"
        },
        "id": "lkLwRMNr5I8C",
        "outputId": "4cfeeea6-9dd2-42e8-a9a2-24d9993495e7"
      },
      "execution_count": null,
      "outputs": [
        {
          "output_type": "stream",
          "name": "stdout",
          "text": [
            "p  y  t  h  o  n  "
          ]
        }
      ]
    },
    {
      "cell_type": "code",
      "source": [
        "a = 'python'\n",
        "for i in a:\n",
        "  print(i,end='  ')"
      ],
      "metadata": {
        "colab": {
          "base_uri": "https://localhost:8080/"
        },
        "id": "jeZGGPSx50H8",
        "outputId": "f408a96b-7b38-4f6e-fd4c-f500df312227"
      },
      "execution_count": null,
      "outputs": [
        {
          "output_type": "stream",
          "name": "stdout",
          "text": [
            "p  y  t  h  o  n  "
          ]
        }
      ]
    },
    {
      "cell_type": "code",
      "source": [
        "a = 'python'\n",
        "for i in range(len(a)):\n",
        "  print(a[i])"
      ],
      "metadata": {
        "colab": {
          "base_uri": "https://localhost:8080/"
        },
        "id": "JcRlizYV5365",
        "outputId": "efb105a4-ac94-4bbe-98d4-49ebf204ec91"
      },
      "execution_count": null,
      "outputs": [
        {
          "output_type": "stream",
          "name": "stdout",
          "text": [
            "p\n",
            "y\n",
            "t\n",
            "h\n",
            "o\n",
            "n\n"
          ]
        }
      ]
    },
    {
      "cell_type": "code",
      "source": [
        "# reversal of the string\n",
        "a = 'python'\n",
        "# a[::-1]\n",
        "# for loop\n",
        "# while loop"
      ],
      "metadata": {
        "colab": {
          "base_uri": "https://localhost:8080/",
          "height": 35
        },
        "id": "xM0zebA57-vW",
        "outputId": "3221123f-deff-470c-b828-eb4d2e1f0f88"
      },
      "execution_count": null,
      "outputs": [
        {
          "output_type": "execute_result",
          "data": {
            "text/plain": [
              "'nohtyp'"
            ],
            "application/vnd.google.colaboratory.intrinsic+json": {
              "type": "string"
            }
          },
          "metadata": {},
          "execution_count": 16
        }
      ]
    },
    {
      "cell_type": "code",
      "source": [
        "# while loop\n",
        "a = 'python'\n",
        "i = len(a)-1\n",
        "while (i>=0):\n",
        "  print(a[i],end='')\n",
        "  i-=1"
      ],
      "metadata": {
        "colab": {
          "base_uri": "https://localhost:8080/"
        },
        "id": "K6DD6wBw7FG0",
        "outputId": "e058a417-8795-4ee4-c4b6-10514d97d82c"
      },
      "execution_count": null,
      "outputs": [
        {
          "output_type": "stream",
          "name": "stdout",
          "text": [
            "nohtyp"
          ]
        }
      ]
    },
    {
      "cell_type": "code",
      "source": [
        "# while loop\n",
        "a = 'python'\n",
        "i = len(a)-1\n",
        "while (i in range(len(a)-1,-1,-1)):\n",
        "  print(a[i],end='')\n",
        "  i-=1"
      ],
      "metadata": {
        "colab": {
          "base_uri": "https://localhost:8080/"
        },
        "id": "9Fr5eOZnBRp4",
        "outputId": "0c7d9ff5-6c30-4d92-fb60-bbf22193c66d"
      },
      "execution_count": null,
      "outputs": [
        {
          "output_type": "stream",
          "name": "stdout",
          "text": [
            "nohtyp"
          ]
        }
      ]
    },
    {
      "cell_type": "code",
      "source": [
        "a =  'python'\n",
        "for i in a[::-1]:\n",
        "  print(i)"
      ],
      "metadata": {
        "colab": {
          "base_uri": "https://localhost:8080/"
        },
        "id": "be1lKZ_oCSQ8",
        "outputId": "2ef8b184-d9d0-428d-e7b4-2a0ff5341c4f"
      },
      "execution_count": null,
      "outputs": [
        {
          "output_type": "stream",
          "name": "stdout",
          "text": [
            "n\n",
            "o\n",
            "h\n",
            "t\n",
            "y\n",
            "p\n"
          ]
        }
      ]
    },
    {
      "cell_type": "code",
      "source": [
        "a =  'python'\n",
        "for i in range(len(a)-1,-1,-1):\n",
        "  print(a[i],end='')"
      ],
      "metadata": {
        "colab": {
          "base_uri": "https://localhost:8080/"
        },
        "id": "E3em7XbcCyGw",
        "outputId": "fea81228-4876-4bff-882f-8509c6d3f524"
      },
      "execution_count": null,
      "outputs": [
        {
          "output_type": "stream",
          "name": "stdout",
          "text": [
            "nohtyp"
          ]
        }
      ]
    },
    {
      "cell_type": "code",
      "source": [
        "# Loop over all the items in list, tuple, set, dictionary?\n",
        "# with range & without range"
      ],
      "metadata": {
        "id": "amRJnBV3DJjL"
      },
      "execution_count": null,
      "outputs": []
    },
    {
      "cell_type": "code",
      "source": [
        "a = ['p','y','t','h','o','n']\n",
        "for i in a:\n",
        "  print(i)"
      ],
      "metadata": {
        "colab": {
          "base_uri": "https://localhost:8080/"
        },
        "id": "avAmNKK9DKrq",
        "outputId": "0840910e-4cc8-4a5c-ddae-7887415c547a"
      },
      "execution_count": null,
      "outputs": [
        {
          "output_type": "stream",
          "name": "stdout",
          "text": [
            "p\n",
            "y\n",
            "t\n",
            "h\n",
            "o\n",
            "n\n"
          ]
        }
      ]
    },
    {
      "cell_type": "code",
      "source": [
        "a = ['p','y','t','h','o','n']\n",
        "for i in range(len(a)):\n",
        "  print(a[i])"
      ],
      "metadata": {
        "colab": {
          "base_uri": "https://localhost:8080/"
        },
        "id": "rX-VgVP_DKo2",
        "outputId": "a6bff8ee-46f3-4f24-a176-bbcdc8ff59d3"
      },
      "execution_count": null,
      "outputs": [
        {
          "output_type": "stream",
          "name": "stdout",
          "text": [
            "p\n",
            "y\n",
            "t\n",
            "h\n",
            "o\n",
            "n\n"
          ]
        }
      ]
    },
    {
      "cell_type": "code",
      "source": [
        "a = ['p','y','t','h','o','n']\n",
        "for i in a[::-1]:\n",
        "  print(i)"
      ],
      "metadata": {
        "colab": {
          "base_uri": "https://localhost:8080/"
        },
        "id": "thaB1trkDKm4",
        "outputId": "5659c868-ac44-4d30-cf78-c85361469ba3"
      },
      "execution_count": null,
      "outputs": [
        {
          "output_type": "stream",
          "name": "stdout",
          "text": [
            "n\n",
            "o\n",
            "h\n",
            "t\n",
            "y\n",
            "p\n"
          ]
        }
      ]
    },
    {
      "cell_type": "code",
      "source": [
        "a = ['p','y','t','h','o','n']\n",
        "for i in range(len(a)-1,-1,-1):\n",
        "  print(a[i])"
      ],
      "metadata": {
        "colab": {
          "base_uri": "https://localhost:8080/"
        },
        "id": "Az9YmDHqIiPh",
        "outputId": "b8f481eb-4618-4ec4-9b4b-73b2ce43e479"
      },
      "execution_count": null,
      "outputs": [
        {
          "output_type": "stream",
          "name": "stdout",
          "text": [
            "n\n",
            "o\n",
            "h\n",
            "t\n",
            "y\n",
            "p\n"
          ]
        }
      ]
    },
    {
      "cell_type": "code",
      "source": [
        "a = {'p','y','t','h','o','n'}\n",
        "print(len(a))\n",
        "for i in a:\n",
        "  print(i)"
      ],
      "metadata": {
        "colab": {
          "base_uri": "https://localhost:8080/"
        },
        "id": "lr521yr-Ir_1",
        "outputId": "d189755b-07bb-424d-fa77-cd28bfbb144c"
      },
      "execution_count": null,
      "outputs": [
        {
          "output_type": "stream",
          "name": "stdout",
          "text": [
            "6\n",
            "p\n",
            "h\n",
            "t\n",
            "y\n",
            "o\n",
            "n\n"
          ]
        }
      ]
    },
    {
      "cell_type": "code",
      "source": [
        "a = {'p':'y','t':'h','o':'n'}\n",
        "for i in a:\n",
        "  print(i)"
      ],
      "metadata": {
        "colab": {
          "base_uri": "https://localhost:8080/"
        },
        "id": "dpO6p9K8JD3f",
        "outputId": "e8e52851-93d1-493a-e0b1-848458fe26d9"
      },
      "execution_count": null,
      "outputs": [
        {
          "output_type": "stream",
          "name": "stdout",
          "text": [
            "p\n",
            "t\n",
            "o\n"
          ]
        }
      ]
    },
    {
      "cell_type": "code",
      "source": [
        "for i in a.keys():\n",
        "  print(i)"
      ],
      "metadata": {
        "colab": {
          "base_uri": "https://localhost:8080/"
        },
        "id": "XPQ864U0JqKU",
        "outputId": "b8c835c0-102e-47f3-a46f-6087f38f6de8"
      },
      "execution_count": null,
      "outputs": [
        {
          "output_type": "stream",
          "name": "stdout",
          "text": [
            "p\n",
            "t\n",
            "o\n"
          ]
        }
      ]
    },
    {
      "cell_type": "code",
      "source": [
        "for i in a.values():\n",
        "  print(i)"
      ],
      "metadata": {
        "colab": {
          "base_uri": "https://localhost:8080/"
        },
        "id": "VvbYCR4WJx9d",
        "outputId": "a14bda6a-cb3e-45ab-925d-3bd16153c12c"
      },
      "execution_count": null,
      "outputs": [
        {
          "output_type": "stream",
          "name": "stdout",
          "text": [
            "y\n",
            "h\n",
            "n\n"
          ]
        }
      ]
    },
    {
      "cell_type": "code",
      "source": [
        "for i in a.items():\n",
        "  print(i)"
      ],
      "metadata": {
        "colab": {
          "base_uri": "https://localhost:8080/"
        },
        "id": "J5X6hBMOJ4SS",
        "outputId": "8c0be5bd-7aee-4d5a-d9d8-be788a96bf24"
      },
      "execution_count": null,
      "outputs": [
        {
          "output_type": "stream",
          "name": "stdout",
          "text": [
            "('p', 'y')\n",
            "('t', 'h')\n",
            "('o', 'n')\n"
          ]
        }
      ]
    },
    {
      "cell_type": "code",
      "source": [
        "a = {'p':'y','t':'h','o':'n'}\n",
        "for i in a:\n",
        "  print(i , ':', a[i])"
      ],
      "metadata": {
        "colab": {
          "base_uri": "https://localhost:8080/"
        },
        "id": "w2zU9UlDJ9Ou",
        "outputId": "dc22972f-ffd0-4d25-e1cc-6d19d5642523"
      },
      "execution_count": null,
      "outputs": [
        {
          "output_type": "stream",
          "name": "stdout",
          "text": [
            "p : y\n",
            "t : h\n",
            "o : n\n"
          ]
        }
      ]
    },
    {
      "cell_type": "code",
      "source": [
        "# Sum of the first 10 natural numbers?\n",
        "sum = 0\n",
        "for i in range(1,11):\n",
        "  sum = sum+i\n",
        "print(sum)"
      ],
      "metadata": {
        "colab": {
          "base_uri": "https://localhost:8080/"
        },
        "id": "d_INGd2hKmE3",
        "outputId": "40250e26-814a-46b6-9878-54c25311a09b"
      },
      "execution_count": null,
      "outputs": [
        {
          "output_type": "stream",
          "name": "stdout",
          "text": [
            "55\n"
          ]
        }
      ]
    },
    {
      "cell_type": "code",
      "source": [
        "i = 1\n",
        "sum = 0\n",
        "while (i<11):\n",
        "  # sum=sum+i\n",
        "  sum+=i\n",
        "  i+=1\n",
        "print(sum)"
      ],
      "metadata": {
        "colab": {
          "base_uri": "https://localhost:8080/"
        },
        "id": "nTjahnK6RBvW",
        "outputId": "b4c65aef-591a-476f-c4d7-cd2c06a52790"
      },
      "execution_count": null,
      "outputs": [
        {
          "output_type": "stream",
          "name": "stdout",
          "text": [
            "55\n"
          ]
        }
      ]
    },
    {
      "cell_type": "code",
      "source": [
        "# Sum of the first 'n' natural numbers?\n",
        "sum = 0\n",
        "n = int(input('Enter a number: '))\n",
        "for i in range(n+1):\n",
        "  sum = sum+i\n",
        "print(sum)"
      ],
      "metadata": {
        "colab": {
          "base_uri": "https://localhost:8080/"
        },
        "id": "Qtx7nT4yR2MU",
        "outputId": "e7dd66a7-8e4b-4e25-cd6e-61a6250ee260"
      },
      "execution_count": null,
      "outputs": [
        {
          "output_type": "stream",
          "name": "stdout",
          "text": [
            "Enter a number: 15\n",
            "120\n"
          ]
        }
      ]
    },
    {
      "cell_type": "code",
      "source": [
        "# Sum of the natural numbers in a given range?\n",
        "sum = 0\n",
        "n1 = int(input('Enter a number: '))\n",
        "n2 = int(input('Enter a number: '))\n",
        "for i in range(n1,n2+1):\n",
        "  sum = sum+i\n",
        "print(sum)"
      ],
      "metadata": {
        "id": "b0fvdLu0R3op"
      },
      "execution_count": null,
      "outputs": []
    },
    {
      "cell_type": "code",
      "source": [
        "# 2 x 1 = 2\n",
        "# 2 x 2 = 4\n",
        "# 2 x 3 = 6\n",
        "# ........\n",
        "# 2 x 10 = 20\n",
        "\n",
        "# 3 x 1 = 3\n",
        "# 3 x 2 = 6\n",
        "# 3 x 3 = 9\n",
        "# ........\n",
        "# 3 x 10 = 30\n",
        "\n",
        "# 4 x 1 = 4\n",
        "# 4 x 2 = 8\n",
        "# 4 x 3 = 12\n",
        "# ........\n",
        "# 4 x 10 = 40"
      ],
      "metadata": {
        "id": "C5HHC2KnSfQ4"
      },
      "execution_count": null,
      "outputs": []
    },
    {
      "cell_type": "code",
      "source": [
        "for i in range(2,5):\n",
        "  print(f'\\n{i} table')\n",
        "  for j in range(1,11):\n",
        "    print(f'{i} x {j} = {i*j}')\n",
        ""
      ],
      "metadata": {
        "id": "0LjF0pEpTsgY"
      },
      "execution_count": null,
      "outputs": []
    },
    {
      "cell_type": "code",
      "source": [
        "n1 = int(input('Enter a number to start the table: '))\n",
        "n2 = int(input('Enter a number to end the table: '))\n",
        "for i in range(n1,n2+1):\n",
        "  print(f'\\n{i} table')\n",
        "  for j in range(1,11):\n",
        "    print(f'{i} x {j} = {i*j}')\n",
        ""
      ],
      "metadata": {
        "id": "qtFg0vjvY5d0"
      },
      "execution_count": null,
      "outputs": []
    },
    {
      "cell_type": "markdown",
      "source": [
        "### Patterns\n",
        "\n",
        "Print the below patterns"
      ],
      "metadata": {
        "id": "ru7ofSgIBxaT"
      }
    },
    {
      "cell_type": "code",
      "source": [
        "# *\n",
        "# **\n",
        "# ***\n",
        "# ****\n",
        "# *****\n",
        "a = '* '\n",
        "for i in range(5):\n",
        "  print(a)\n",
        "  a+='* '"
      ],
      "metadata": {
        "colab": {
          "base_uri": "https://localhost:8080/"
        },
        "id": "cVE0GyJ7B1Kh",
        "outputId": "1a639a5d-e37b-4580-85f9-5e7ce72e0812"
      },
      "execution_count": null,
      "outputs": [
        {
          "output_type": "stream",
          "name": "stdout",
          "text": [
            "* \n",
            "* * \n",
            "* * * \n",
            "* * * * \n",
            "* * * * * \n"
          ]
        }
      ]
    },
    {
      "cell_type": "code",
      "source": [
        "for i in range(1,6):\n",
        "  print('* '*i)"
      ],
      "metadata": {
        "colab": {
          "base_uri": "https://localhost:8080/"
        },
        "id": "e4PrWcLkFny2",
        "outputId": "225b2834-83c6-45a3-f69c-033b626826e8"
      },
      "execution_count": null,
      "outputs": [
        {
          "output_type": "stream",
          "name": "stdout",
          "text": [
            "* \n",
            "* * \n",
            "* * * \n",
            "* * * * \n",
            "* * * * * \n"
          ]
        }
      ]
    },
    {
      "cell_type": "code",
      "source": [
        "' * '*4"
      ],
      "metadata": {
        "colab": {
          "base_uri": "https://localhost:8080/",
          "height": 35
        },
        "id": "-dh_-vEOHPKc",
        "outputId": "6197b785-54d3-4a4e-ee21-d17fa795d644"
      },
      "execution_count": null,
      "outputs": [
        {
          "output_type": "execute_result",
          "data": {
            "text/plain": [
              "' *  *  *  * '"
            ],
            "application/vnd.google.colaboratory.intrinsic+json": {
              "type": "string"
            }
          },
          "metadata": {},
          "execution_count": 6
        }
      ]
    },
    {
      "cell_type": "code",
      "source": [
        "i = 1\n",
        "while (i<=5):\n",
        "  print(\"* \"*i)\n",
        "  i+=1"
      ],
      "metadata": {
        "colab": {
          "base_uri": "https://localhost:8080/"
        },
        "id": "QAoDCPHMHX-S",
        "outputId": "bbde0126-558d-4e43-d144-067717de2968"
      },
      "execution_count": null,
      "outputs": [
        {
          "output_type": "stream",
          "name": "stdout",
          "text": [
            "* \n",
            "* * \n",
            "* * * \n",
            "* * * * \n",
            "* * * * * \n"
          ]
        }
      ]
    },
    {
      "cell_type": "code",
      "source": [
        "a,i = '*',1\n",
        "while (i<=5):\n",
        "  print(a)\n",
        "  a+='*'\n",
        "  i+=1"
      ],
      "metadata": {
        "id": "wXA_nmHIHioI"
      },
      "execution_count": null,
      "outputs": []
    },
    {
      "cell_type": "code",
      "source": [
        "# *****\n",
        "# ****\n",
        "# ***\n",
        "# **\n",
        "# *\n",
        "for i in range(5,0,-1):\n",
        "  print(i*'*')"
      ],
      "metadata": {
        "colab": {
          "base_uri": "https://localhost:8080/"
        },
        "id": "afZUAu93IOIC",
        "outputId": "433d444a-fab1-46aa-d18b-ccde605f3a01"
      },
      "execution_count": null,
      "outputs": [
        {
          "output_type": "stream",
          "name": "stdout",
          "text": [
            "*****\n",
            "****\n",
            "***\n",
            "**\n",
            "*\n"
          ]
        }
      ]
    },
    {
      "cell_type": "code",
      "source": [
        "i = 5\n",
        "while (i>=1):\n",
        "  print(i*'* ')\n",
        "  i-=1"
      ],
      "metadata": {
        "colab": {
          "base_uri": "https://localhost:8080/"
        },
        "id": "M52UiC59Id-s",
        "outputId": "d47ad48c-a54e-4bd2-91c0-6fd10988df1e"
      },
      "execution_count": null,
      "outputs": [
        {
          "output_type": "stream",
          "name": "stdout",
          "text": [
            "* * * * * \n",
            "* * * * \n",
            "* * * \n",
            "* * \n",
            "* \n"
          ]
        }
      ]
    },
    {
      "cell_type": "code",
      "source": [
        "# 1\n",
        "# 11\n",
        "# 111\n",
        "# 1111\n",
        "# 11111\n",
        "a = '1'\n",
        "for i in range(5):\n",
        "  print(a)\n",
        "  a+='1'"
      ],
      "metadata": {
        "colab": {
          "base_uri": "https://localhost:8080/"
        },
        "id": "9JE0eCeAJBE8",
        "outputId": "8b081883-60d2-4874-8519-96da9c4ddcb0"
      },
      "execution_count": null,
      "outputs": [
        {
          "output_type": "stream",
          "name": "stdout",
          "text": [
            "1\n",
            "11\n",
            "111\n",
            "1111\n",
            "11111\n"
          ]
        }
      ]
    },
    {
      "cell_type": "code",
      "source": [
        "a = 1\n",
        "for i in range(1,6):\n",
        "  print(a)\n",
        "  a+=(10**i)"
      ],
      "metadata": {
        "colab": {
          "base_uri": "https://localhost:8080/"
        },
        "id": "h5bhxrmsThmD",
        "outputId": "d6b35aac-b45e-4ae1-f100-dfa7a2f8c5c9"
      },
      "execution_count": null,
      "outputs": [
        {
          "output_type": "stream",
          "name": "stdout",
          "text": [
            "1\n",
            "11\n",
            "111\n",
            "1111\n",
            "11111\n"
          ]
        }
      ]
    },
    {
      "cell_type": "code",
      "source": [],
      "metadata": {
        "id": "z3Q9NQQFTxy6"
      },
      "execution_count": null,
      "outputs": []
    },
    {
      "cell_type": "code",
      "source": [
        "# 1\n",
        "# 12\n",
        "# 123\n",
        "# 1234\n",
        "# 12345"
      ],
      "metadata": {
        "id": "Z9R0qfIeMAMC"
      },
      "execution_count": null,
      "outputs": []
    },
    {
      "cell_type": "code",
      "source": [
        "a = ''\n",
        "for i in range(1,6):\n",
        "  a+=str(i)\n",
        "  print(a)\n",
        "\n"
      ],
      "metadata": {
        "colab": {
          "base_uri": "https://localhost:8080/"
        },
        "id": "OHCqaH3wThC1",
        "outputId": "48b489cf-af70-4395-b359-7e18d977af77"
      },
      "execution_count": null,
      "outputs": [
        {
          "output_type": "stream",
          "name": "stdout",
          "text": [
            "1\n",
            "12\n",
            "123\n",
            "1234\n",
            "12345\n"
          ]
        }
      ]
    },
    {
      "cell_type": "code",
      "source": [
        "#     *\n",
        "#    ***\n",
        "#   *****\n",
        "#  *******\n",
        "# *********\n",
        "s = 4\n",
        "for i in range(1,10,2):\n",
        "  print(s*' ' + i*'*')\n",
        "  s-=1"
      ],
      "metadata": {
        "colab": {
          "base_uri": "https://localhost:8080/"
        },
        "id": "Z04fbnBCWRnS",
        "outputId": "2e62feab-0b4f-4679-8d98-2041f31644f6"
      },
      "execution_count": null,
      "outputs": [
        {
          "output_type": "stream",
          "name": "stdout",
          "text": [
            "    *\n",
            "   ***\n",
            "  *****\n",
            " *******\n",
            "*********\n"
          ]
        }
      ]
    },
    {
      "cell_type": "markdown",
      "source": [
        "pass\n",
        "\n",
        "continue\n",
        "\n",
        "break\n"
      ],
      "metadata": {
        "id": "82Obn962dNKJ"
      }
    },
    {
      "cell_type": "code",
      "source": [
        "if 1:\n",
        "  pass"
      ],
      "metadata": {
        "id": "WzzOacNCc7UQ"
      },
      "execution_count": null,
      "outputs": []
    },
    {
      "cell_type": "code",
      "source": [
        "for i in range(1) :\n",
        "  pass"
      ],
      "metadata": {
        "id": "UIZTAT6idndP"
      },
      "execution_count": null,
      "outputs": []
    },
    {
      "cell_type": "markdown",
      "source": [
        "continue"
      ],
      "metadata": {
        "id": "s_bM9rm2dtOq"
      }
    },
    {
      "cell_type": "code",
      "source": [
        "#1,2,3,4,6,7,8\n",
        "for i in range(1,9):\n",
        "  if (i==5):\n",
        "    continue\n",
        "  print(i)"
      ],
      "metadata": {
        "colab": {
          "base_uri": "https://localhost:8080/"
        },
        "id": "rTJJ6xhQdup1",
        "outputId": "2d14eee3-9f80-4a8a-9764-47358d268c40"
      },
      "execution_count": null,
      "outputs": [
        {
          "output_type": "stream",
          "name": "stdout",
          "text": [
            "1\n",
            "2\n",
            "3\n",
            "4\n",
            "6\n",
            "7\n",
            "8\n"
          ]
        }
      ]
    },
    {
      "cell_type": "code",
      "source": [
        "# WAP to print odd numbers between 1-50 except multiples of 3 and 5?\n",
        "for i in range(1,51,2):\n",
        "  if (((i%3)==0) and ((i%5)==0)):\n",
        "    continue\n",
        "  else:\n",
        "    print(i)"
      ],
      "metadata": {
        "id": "vSbPzwIyfT-r"
      },
      "execution_count": null,
      "outputs": []
    },
    {
      "cell_type": "code",
      "source": [
        "a = 'pineapple'\n",
        "# except p\n",
        "for i in a:\n",
        "  if i=='p':\n",
        "    continue\n",
        "  print(i)"
      ],
      "metadata": {
        "colab": {
          "base_uri": "https://localhost:8080/"
        },
        "id": "mXRG8P-xhJgq",
        "outputId": "2c0b6b35-8aba-4d51-9749-54432ce6e759"
      },
      "execution_count": null,
      "outputs": [
        {
          "output_type": "stream",
          "name": "stdout",
          "text": [
            "i\n",
            "n\n",
            "e\n",
            "a\n",
            "l\n",
            "e\n"
          ]
        }
      ]
    },
    {
      "cell_type": "code",
      "source": [
        "# do not print odd position 'p' in pineapple\n",
        "a = 'pineapple'\n",
        "for i in range(len(a)):\n",
        "  if ((i%2)==0):\n",
        "    if (a[i]=='p'):\n",
        "      continue\n",
        "  print(a[i])"
      ],
      "metadata": {
        "colab": {
          "base_uri": "https://localhost:8080/"
        },
        "id": "4uCiyvYEh-7v",
        "outputId": "cdfdef22-12a8-4c30-8ae0-9e4bb8b7fb42"
      },
      "execution_count": null,
      "outputs": [
        {
          "output_type": "stream",
          "name": "stdout",
          "text": [
            "i\n",
            "n\n",
            "e\n",
            "a\n",
            "p\n",
            "l\n",
            "e\n"
          ]
        }
      ]
    },
    {
      "cell_type": "code",
      "source": [
        "a = 'pineapple'\n",
        "for i in range(len(a)):\n",
        "  if (((i%2)==0) and (a[i]=='p')):\n",
        "      continue\n",
        "  print(a[i])"
      ],
      "metadata": {
        "colab": {
          "base_uri": "https://localhost:8080/"
        },
        "id": "rWcLC_xckj19",
        "outputId": "94941e6b-a07d-44c2-f043-fc6aa8dd2e1f"
      },
      "execution_count": null,
      "outputs": [
        {
          "output_type": "stream",
          "name": "stdout",
          "text": [
            "i\n",
            "n\n",
            "e\n",
            "a\n",
            "p\n",
            "l\n",
            "e\n"
          ]
        }
      ]
    },
    {
      "cell_type": "code",
      "source": [
        "#1,2,3,4,6,7,8\n",
        "i=1\n",
        "while i in range(1,9):\n",
        "  if (i==5):\n",
        "    i+=1\n",
        "    continue\n",
        "  print(i)\n",
        "  i+=1"
      ],
      "metadata": {
        "colab": {
          "base_uri": "https://localhost:8080/"
        },
        "id": "y97qitIOnIIY",
        "outputId": "e124ebcf-934f-45b3-acf9-f7f5b9edb648"
      },
      "execution_count": null,
      "outputs": [
        {
          "output_type": "stream",
          "name": "stdout",
          "text": [
            "1\n",
            "2\n",
            "3\n",
            "4\n",
            "6\n",
            "7\n",
            "8\n"
          ]
        }
      ]
    },
    {
      "cell_type": "code",
      "source": [
        "! ls -a"
      ],
      "metadata": {
        "colab": {
          "base_uri": "https://localhost:8080/"
        },
        "id": "5a4N7J5blSU4",
        "outputId": "33c8611c-f58b-4526-9aa0-ea4c203f626c"
      },
      "execution_count": null,
      "outputs": [
        {
          "output_type": "stream",
          "name": "stdout",
          "text": [
            ".  ..  .config\tsample_data\n"
          ]
        }
      ]
    },
    {
      "cell_type": "code",
      "source": [
        "for i in range(5):\n",
        "  print(i)\n",
        "else:\n",
        "  print('hi')"
      ],
      "metadata": {
        "colab": {
          "base_uri": "https://localhost:8080/"
        },
        "id": "L6LtDi1hl3Hi",
        "outputId": "a25bfdeb-ed50-422a-b9c7-c8d0016f9a2e"
      },
      "execution_count": null,
      "outputs": [
        {
          "output_type": "stream",
          "name": "stdout",
          "text": [
            "hi\n"
          ]
        }
      ]
    },
    {
      "cell_type": "code",
      "source": [
        "for i in range(6):\n",
        "  if i<=3:\n",
        "    continue\n",
        "else:\n",
        "  print('hi')"
      ],
      "metadata": {
        "id": "AvRjGz-7N1PK"
      },
      "execution_count": null,
      "outputs": []
    },
    {
      "cell_type": "code",
      "source": [
        "for i in range(6):\n",
        "  if i<=3:\n",
        "    continue\n",
        "  print(i)\n",
        "else:\n",
        "  print('hi')"
      ],
      "metadata": {
        "colab": {
          "base_uri": "https://localhost:8080/"
        },
        "id": "s1UyRCI5OX3E",
        "outputId": "25a2cf12-76fe-4f8e-8444-7374a22b74c8"
      },
      "execution_count": null,
      "outputs": [
        {
          "output_type": "stream",
          "name": "stdout",
          "text": [
            "4\n",
            "5\n",
            "hi\n"
          ]
        }
      ]
    },
    {
      "cell_type": "code",
      "source": [
        "for i in range(6):\n",
        "  if i<=3:\n",
        "    break\n",
        "  print(i)\n",
        "else:\n",
        "  print('hi')"
      ],
      "metadata": {
        "id": "YP_Fn7CiPRBz"
      },
      "execution_count": null,
      "outputs": []
    },
    {
      "cell_type": "code",
      "source": [
        "for i in range(6):\n",
        "  if i>3:\n",
        "    break\n",
        "  print(i)\n",
        "else:\n",
        "  print('hi')"
      ],
      "metadata": {
        "colab": {
          "base_uri": "https://localhost:8080/"
        },
        "id": "RS_sXvw3Pr1K",
        "outputId": "3fa8307e-33b3-4e4e-abb0-f9c116dbf7fa"
      },
      "execution_count": null,
      "outputs": [
        {
          "output_type": "stream",
          "name": "stdout",
          "text": [
            "0\n",
            "1\n",
            "2\n",
            "3\n"
          ]
        }
      ]
    },
    {
      "cell_type": "code",
      "source": [
        "num=1\n",
        "count=2\n",
        "row=5\n",
        "s=13\n",
        "for i in range(row):\n",
        "  for j in range(1,count):\n",
        "    print(num,end = ' ')\n",
        "    num+=1\n",
        "  print()\n",
        "  # print(\" \"*s)\n",
        "  count+=1\n",
        "  s-=2"
      ],
      "metadata": {
        "colab": {
          "base_uri": "https://localhost:8080/"
        },
        "id": "hBpY3MjgFHjQ",
        "outputId": "41015682-a2d3-4b82-8cc5-c9f5896b14a8"
      },
      "execution_count": null,
      "outputs": [
        {
          "output_type": "stream",
          "name": "stdout",
          "text": [
            "1 \n",
            "2 3 \n",
            "4 5 6 \n",
            "7 8 9 10 \n",
            "11 12 13 14 15 \n"
          ]
        }
      ]
    }
  ]
}
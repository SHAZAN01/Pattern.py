{
  "nbformat": 4,
  "nbformat_minor": 0,
  "metadata": {
    "colab": {
      "provenance": [],
      "include_colab_link": true
    },
    "kernelspec": {
      "name": "python3",
      "display_name": "Python 3"
    },
    "language_info": {
      "name": "python"
    }
  },
  "cells": [
    {
      "cell_type": "markdown",
      "metadata": {
        "id": "view-in-github",
        "colab_type": "text"
      },
      "source": [
        "<a href=\"https://colab.research.google.com/github/SHAZAN01/Python/blob/main/DA_23_Python_1.ipynb\" target=\"_parent\"><img src=\"https://colab.research.google.com/assets/colab-badge.svg\" alt=\"Open In Colab\"/></a>"
      ]
    },
    {
      "cell_type": "markdown",
      "source": [
        "Operators"
      ],
      "metadata": {
        "id": "T2ILVPPZz_E9"
      }
    },
    {
      "cell_type": "code",
      "source": [
        "# Arithmetic Operators: +,  -,  *,  /,  //,  %,  **\n",
        "# Assignment Operator: +=, -=, *=, /=, //=, %=, **=, <<=, >>=, &=, |=, ^=,\n",
        "# bitwise operator: <<, >>, &, |, ~, ^\n",
        "# comparision operator: < , >, ==, >=, <=, !=\n",
        "# logical operator: and, or, not\n",
        "# identity operator: is, is not\n",
        "# membership operator: in, not in\n",
        "# ternary/conditional operator:\n",
        "\n"
      ],
      "metadata": {
        "id": "VgRCZ8Ggz_fS"
      },
      "execution_count": null,
      "outputs": []
    },
    {
      "cell_type": "code",
      "source": [
        "# a,b=19,3\n",
        "# a,b = 3,19\n",
        "# a + b\n",
        "# a-b\n",
        "# a*b\n",
        "# print(a/b)\n",
        "# print(a//b)\n",
        "# print(a%b)\n",
        "\n",
        "a ,b ,c= 2,6,3\n",
        "# print(a**b)\n",
        "print(a**c**c) #3**2 = 9**2 , #8**3, 2**27\n",
        "# print(b**(a**a)) #\n",
        "# print((b**a)**a) #\n",
        "print(2**27)\n",
        "# print(a**b**c) #\n",
        "print(a**(c**c)) #\n",
        "print((a**c)**c) #"
      ],
      "metadata": {
        "colab": {
          "base_uri": "https://localhost:8080/"
        },
        "id": "Zgal8xsZzirT",
        "outputId": "61f04eb8-b060-44b2-89f9-a6401bf7148e"
      },
      "execution_count": null,
      "outputs": [
        {
          "output_type": "stream",
          "name": "stdout",
          "text": [
            "134217728\n",
            "134217728\n",
            "134217728\n",
            "512\n"
          ]
        }
      ]
    },
    {
      "cell_type": "markdown",
      "source": [
        "Assignment operator"
      ],
      "metadata": {
        "id": "6V0n3Hx47Kid"
      }
    },
    {
      "cell_type": "code",
      "execution_count": null,
      "metadata": {
        "colab": {
          "base_uri": "https://localhost:8080/"
        },
        "id": "KZ3GWqGrzeSe",
        "outputId": "2f3279e6-363e-4801-d030-dc8c4c8ac1d6"
      },
      "outputs": [
        {
          "output_type": "stream",
          "name": "stdout",
          "text": [
            "5 3\n"
          ]
        }
      ],
      "source": [
        "a,b = 2,3\n",
        "# a+a\n",
        "\n",
        "# a = a+a\n",
        "# a += a\n",
        "\n",
        "# a = a+b\n",
        "a += b\n",
        "print(a,b)"
      ]
    },
    {
      "cell_type": "code",
      "source": [
        "a,c,b = 1,2,3\n",
        "a+=b  # a=1,b=3 ; a = a + b ; a = 1+3=4;  a=4,b=3\n",
        "b+=c # b=3,c=2  ; b = b+c ; b = 3+2;  b=5,c=2\n",
        "c+=a # c=2,a=4  ; c = c+a ; 2+4 ; c=6,a=4\n",
        "print(c,a,b)"
      ],
      "metadata": {
        "colab": {
          "base_uri": "https://localhost:8080/"
        },
        "id": "aBanWEQ47_KM",
        "outputId": "6bb7a0bf-91c3-4df6-ec3a-4079a1b9e1b9"
      },
      "execution_count": null,
      "outputs": [
        {
          "output_type": "stream",
          "name": "stdout",
          "text": [
            "6 4 5\n"
          ]
        }
      ]
    },
    {
      "cell_type": "code",
      "source": [
        "b,c,a = 4,2,3\n",
        "b+=a  # b=4,a=3  ; b = b+a = 4+3 = 7;  b=7,a=3\n",
        "c-=b # c=2,b=7  ; c = c-b = 2-7 = -5 ;  c = -5,b=7\n",
        "a*=b # a=3,b=7  ;  a = a*b = 3*7=21;  a = 21,b=7\n",
        "print(b,a,c)"
      ],
      "metadata": {
        "colab": {
          "base_uri": "https://localhost:8080/"
        },
        "id": "NhI3dzLe9Mk4",
        "outputId": "7fc79284-07cc-4a00-ffa1-25495e2a4bb5"
      },
      "execution_count": null,
      "outputs": [
        {
          "output_type": "stream",
          "name": "stdout",
          "text": [
            "7 21 -5\n"
          ]
        }
      ]
    },
    {
      "cell_type": "code",
      "source": [
        "b,c,a = 4,2,3\n",
        "c+=a-b # a=3,b=4,c=2 ;  c=c + (a-b) = 2+3-4=1;  a=3,b=4,c=1\n",
        "c-=b*a #a=3,b=4,c=1 ;  c=c-(b*a)=1-12=-11 ; a=3,b=4,c=-11\n",
        "a*=b+c #a=3,b=4,c=-11 ; a=a*b+c ; 3*(4-11) = 3*-7 ; a=-21,b=4,c=-11\n",
        "print(c,b,a)"
      ],
      "metadata": {
        "colab": {
          "base_uri": "https://localhost:8080/"
        },
        "id": "ILUkTQ9EAOeC",
        "outputId": "a829b071-3f2a-4dcf-f89f-b07365290af7"
      },
      "execution_count": null,
      "outputs": [
        {
          "output_type": "stream",
          "name": "stdout",
          "text": [
            "-11 4 -21\n"
          ]
        }
      ]
    },
    {
      "cell_type": "markdown",
      "source": [
        "bitwise operator"
      ],
      "metadata": {
        "id": "AZIOfadzFMjn"
      }
    },
    {
      "cell_type": "code",
      "source": [
        "# bitwise operator: <<, >>, &, |, ~, ^\n",
        "a,b = 15,13\n",
        "# &\n",
        "# a  b  a&b\n",
        "# 0  0  0\n",
        "# 0  1  0\n",
        "# 1  0  0\n",
        "# 1  1  1\n",
        "\n",
        "print(a&b)"
      ],
      "metadata": {
        "colab": {
          "base_uri": "https://localhost:8080/"
        },
        "id": "Ds1vVoHrEss_",
        "outputId": "f514fc39-ef69-4152-956d-7a1650ea773b"
      },
      "execution_count": null,
      "outputs": [
        {
          "output_type": "stream",
          "name": "stdout",
          "text": [
            "13\n"
          ]
        }
      ]
    },
    {
      "cell_type": "code",
      "source": [
        "a,b = 21,17\n",
        "# |\n",
        "# a  b  a|b\n",
        "# 0  0  0\n",
        "# 0  1  1\n",
        "# 1  0  1\n",
        "# 1  1  1\n",
        "\n",
        "print(a|b)"
      ],
      "metadata": {
        "colab": {
          "base_uri": "https://localhost:8080/"
        },
        "id": "rk0X_kIsGrz7",
        "outputId": "e51f3d32-d9c6-49d5-87bd-515d03e67133"
      },
      "execution_count": null,
      "outputs": [
        {
          "output_type": "stream",
          "name": "stdout",
          "text": [
            "21\n"
          ]
        }
      ]
    },
    {
      "cell_type": "code",
      "source": [
        "a,b = 19,31\n",
        "# ^\n",
        "# a  b  a^b\n",
        "# 0  0  0\n",
        "# 0  1  1\n",
        "# 1  0  1\n",
        "# 1  1  0\n",
        "\n",
        "print(a^b)"
      ],
      "metadata": {
        "colab": {
          "base_uri": "https://localhost:8080/"
        },
        "id": "2kZlnRWWHslL",
        "outputId": "50e84bb9-417c-4534-95a4-d612f79ce41d"
      },
      "execution_count": null,
      "outputs": [
        {
          "output_type": "stream",
          "name": "stdout",
          "text": [
            "12\n"
          ]
        }
      ]
    },
    {
      "cell_type": "code",
      "source": [
        "# left shift\n",
        "print(5<<3)\n",
        "\n",
        "# right shift\n",
        "print(5>>2)"
      ],
      "metadata": {
        "colab": {
          "base_uri": "https://localhost:8080/"
        },
        "id": "C-a2IfJuInxj",
        "outputId": "9d2c58c5-41d6-4ec0-f135-2ef7b937533b"
      },
      "execution_count": null,
      "outputs": [
        {
          "output_type": "stream",
          "name": "stdout",
          "text": [
            "40\n",
            "1\n"
          ]
        }
      ]
    },
    {
      "cell_type": "code",
      "source": [
        "~21"
      ],
      "metadata": {
        "colab": {
          "base_uri": "https://localhost:8080/"
        },
        "id": "CSceOO0gI_Li",
        "outputId": "d6ebfeb3-872d-4cd2-cfcb-042270899662"
      },
      "execution_count": null,
      "outputs": [
        {
          "output_type": "execute_result",
          "data": {
            "text/plain": [
              "-22"
            ]
          },
          "metadata": {},
          "execution_count": 53
        }
      ]
    },
    {
      "cell_type": "code",
      "source": [
        "# comparision operator: < , >, ==, >=, <=, !=\n",
        "# print(5 < 6)\n",
        "# print(7 > 8)\n",
        "# print(9<=9)\n",
        "# print(11>=11)\n",
        "# print(2 != 3)\n",
        "# print(2==2)"
      ],
      "metadata": {
        "colab": {
          "base_uri": "https://localhost:8080/"
        },
        "id": "HpTRE0SH0cXM",
        "outputId": "52d096f2-8c53-4db2-fdea-1504f37c5119"
      },
      "execution_count": null,
      "outputs": [
        {
          "output_type": "stream",
          "name": "stdout",
          "text": [
            "True\n"
          ]
        }
      ]
    },
    {
      "cell_type": "code",
      "source": [
        "# print([1,2] == [1,2])\n",
        "# print([1,2] == [2,1])\n",
        "# print((1,2) == (1,2))\n",
        "# print({2,1} == {1,2,3})\n",
        "# print([1,2] == [1,2])\n",
        "\n",
        "# print(2 == 2.0)\n",
        "# print((4%2) > (2%4))"
      ],
      "metadata": {
        "colab": {
          "base_uri": "https://localhost:8080/"
        },
        "id": "sjKjZx7i3nOS",
        "outputId": "cf6ad793-474e-44c0-ebd9-7cae0f8c0f23"
      },
      "execution_count": null,
      "outputs": [
        {
          "output_type": "stream",
          "name": "stdout",
          "text": [
            "False\n"
          ]
        }
      ]
    },
    {
      "cell_type": "markdown",
      "source": [
        "logical operator"
      ],
      "metadata": {
        "id": "SbsYOyVz9s9P"
      }
    },
    {
      "cell_type": "code",
      "source": [
        "# True , 1 , value ,  success\n",
        "# False , 0, empty , fail"
      ],
      "metadata": {
        "id": "iy4u5pZ_-hmU"
      },
      "execution_count": null,
      "outputs": []
    },
    {
      "cell_type": "code",
      "source": [
        "# logical operator: and, or, not\n",
        "\n",
        "# and\n",
        "# Find First False\n",
        "# a  b  a and b\n",
        "# F  F  F\n",
        "# F  T  F\n",
        "# T  F  F\n",
        "# T1  T2  T2\n",
        "\n",
        "# print(2 & 3)\n",
        "# print(2 and 3)\n",
        "# print(30 and 45)\n",
        "# print(True and True )\n",
        "# print([3,4] and [1,2])\n",
        "# print('0' and '00')\n",
        "# print('zero' and '0.0')\n",
        "# print(0.0 and 0)"
      ],
      "metadata": {
        "colab": {
          "base_uri": "https://localhost:8080/"
        },
        "id": "SPZRSV3s9YMf",
        "outputId": "99a40aad-9706-4b08-b228-7982ec7ce635"
      },
      "execution_count": null,
      "outputs": [
        {
          "output_type": "stream",
          "name": "stdout",
          "text": [
            "0.0\n"
          ]
        }
      ]
    },
    {
      "cell_type": "code",
      "source": [
        "# print( '0.0' and [0] and 0)\n",
        "# print([] and {} and 0.0 and '')\n",
        "\n",
        "print('1.0' and 0.0 and False and {} and [False] and 'False' and (0))"
      ],
      "metadata": {
        "colab": {
          "base_uri": "https://localhost:8080/"
        },
        "id": "5DafM-GsAGFq",
        "outputId": "422b26d0-e344-49b3-899d-1c87b81371bd"
      },
      "execution_count": null,
      "outputs": [
        {
          "output_type": "stream",
          "name": "stdout",
          "text": [
            "0.0\n"
          ]
        }
      ]
    },
    {
      "cell_type": "code",
      "source": [
        "# print( ' ' and ' ')\n",
        "# print('2' and '')\n",
        "# print(3 and 9 and 7 and [] and () and '' )"
      ],
      "metadata": {
        "colab": {
          "base_uri": "https://localhost:8080/"
        },
        "id": "iiPSD48sBbMo",
        "outputId": "4eb7a4b7-1b0f-473b-d955-bde3869a0e01"
      },
      "execution_count": null,
      "outputs": [
        {
          "output_type": "stream",
          "name": "stdout",
          "text": [
            "[]\n"
          ]
        }
      ]
    },
    {
      "cell_type": "code",
      "source": [
        "# or\n",
        "# Find First True\n",
        "# a  b  a or b\n",
        "# F1  F2  F2\n",
        "# F  T  T\n",
        "# T  F  T\n",
        "# T1  T2  T1\n",
        "\n",
        "# print(2 | 3 )\n",
        "# print(2 or 3)\n",
        "print(30 or 45) # 30\n",
        "print(True or True ) # True\n",
        "print([3,4] or [1,2]) # [3,4]\n",
        "print('0' or '00') # '0'\n",
        "print('zero' or '0.0') # 'zero'\n",
        "print(0.0 or 0) # 0"
      ],
      "metadata": {
        "colab": {
          "base_uri": "https://localhost:8080/"
        },
        "id": "cYNGlRobEA74",
        "outputId": "73765ae5-72e5-4177-8a5b-80a965f55c57"
      },
      "execution_count": null,
      "outputs": [
        {
          "output_type": "stream",
          "name": "stdout",
          "text": [
            "30\n",
            "True\n",
            "[3, 4]\n",
            "0\n",
            "zero\n",
            "0\n"
          ]
        }
      ]
    },
    {
      "cell_type": "code",
      "source": [
        "print( ' ' or ' ')\n",
        "print('2' or '')\n",
        "print(3 or 9 or 7 or [] or () or '' )"
      ],
      "metadata": {
        "colab": {
          "base_uri": "https://localhost:8080/"
        },
        "id": "UkKMY_JpFNy1",
        "outputId": "b661abb3-a4f0-427d-818d-b810851657d0"
      },
      "execution_count": null,
      "outputs": [
        {
          "output_type": "stream",
          "name": "stdout",
          "text": [
            " \n",
            "2\n",
            "3\n"
          ]
        }
      ]
    },
    {
      "cell_type": "code",
      "source": [
        "print(3 or 5 or 7 and 15 and 67 and 56 or 'hey')\n",
        "\n",
        "print(3 and 9 or 7 and [] or () and '' )"
      ],
      "metadata": {
        "colab": {
          "base_uri": "https://localhost:8080/"
        },
        "id": "cMgj-ckWFRjx",
        "outputId": "b220e429-0976-4715-baae-cfc319ab24ea"
      },
      "execution_count": null,
      "outputs": [
        {
          "output_type": "stream",
          "name": "stdout",
          "text": [
            "3\n",
            "9\n"
          ]
        }
      ]
    },
    {
      "cell_type": "code",
      "source": [
        "print('1.0' or 0.0 or {} or 'False' and (0))"
      ],
      "metadata": {
        "colab": {
          "base_uri": "https://localhost:8080/"
        },
        "id": "Taum_Dn0Fvrs",
        "outputId": "c3600ce7-ce02-4678-e51d-053fe215e45f"
      },
      "execution_count": null,
      "outputs": [
        {
          "output_type": "stream",
          "name": "stdout",
          "text": [
            "1.0\n"
          ]
        }
      ]
    },
    {
      "cell_type": "code",
      "source": [],
      "metadata": {
        "id": "6pyFL8uxI57s"
      },
      "execution_count": null,
      "outputs": []
    },
    {
      "cell_type": "code",
      "source": [
        "a = (0)\n",
        "type(a)"
      ],
      "metadata": {
        "colab": {
          "base_uri": "https://localhost:8080/"
        },
        "id": "DIZ1zay_Hbeb",
        "outputId": "9a3f9e45-ac6d-4874-ea16-759f37168967"
      },
      "execution_count": null,
      "outputs": [
        {
          "output_type": "execute_result",
          "data": {
            "text/plain": [
              "int"
            ]
          },
          "metadata": {},
          "execution_count": 37
        }
      ]
    },
    {
      "cell_type": "code",
      "source": [
        "# a = 9\n",
        "# a = int(9)\n",
        "# a = int(9.0)\n",
        "type(a)"
      ],
      "metadata": {
        "colab": {
          "base_uri": "https://localhost:8080/"
        },
        "id": "5N0tBDjQJB6b",
        "outputId": "793c4db6-7b7e-4f63-a410-fd6f9ca076f5"
      },
      "execution_count": null,
      "outputs": [
        {
          "output_type": "execute_result",
          "data": {
            "text/plain": [
              "int"
            ]
          },
          "metadata": {},
          "execution_count": 41
        }
      ]
    },
    {
      "cell_type": "code",
      "source": [
        "a = 8\n",
        "a = str(a)\n",
        "type(a)\n",
        "a"
      ],
      "metadata": {
        "colab": {
          "base_uri": "https://localhost:8080/",
          "height": 35
        },
        "id": "kaJ5mMwMJXFf",
        "outputId": "71e296dc-5dcf-440e-d561-fd818f7d84ad"
      },
      "execution_count": null,
      "outputs": [
        {
          "output_type": "execute_result",
          "data": {
            "text/plain": [
              "'8'"
            ],
            "application/vnd.google.colaboratory.intrinsic+json": {
              "type": "string"
            }
          },
          "metadata": {},
          "execution_count": 43
        }
      ]
    },
    {
      "cell_type": "code",
      "source": [
        "# a = ()\n",
        "# a = (0)\n",
        "# a = (0,1)\n",
        "# a = (((((9.8)))))\n",
        "a = 3+5-(((((6*4)))))\n",
        "type(a)"
      ],
      "metadata": {
        "colab": {
          "base_uri": "https://localhost:8080/"
        },
        "id": "gcOH5qgOJgWF",
        "outputId": "f86d0805-232b-479b-aab9-6ca9de8de34a"
      },
      "execution_count": null,
      "outputs": [
        {
          "output_type": "execute_result",
          "data": {
            "text/plain": [
              "float"
            ]
          },
          "metadata": {},
          "execution_count": 48
        }
      ]
    },
    {
      "cell_type": "code",
      "source": [
        "a = '3'\n",
        "a = tuple((a))\n",
        "print(type(a),a)"
      ],
      "metadata": {
        "colab": {
          "base_uri": "https://localhost:8080/"
        },
        "id": "U5XKgUy3KOj9",
        "outputId": "919325e7-571b-406b-c088-2137b538b501"
      },
      "execution_count": null,
      "outputs": [
        {
          "output_type": "stream",
          "name": "stdout",
          "text": [
            "<class 'tuple'> ('3',)\n"
          ]
        }
      ]
    },
    {
      "cell_type": "code",
      "source": [
        "# ( ' ')\n",
        "# print('' or not 0.0 and not False or {} and [False] or not 'False' and (0))\n",
        "\n",
        "# not 1\n",
        "not '    0.0    '"
      ],
      "metadata": {
        "colab": {
          "base_uri": "https://localhost:8080/"
        },
        "id": "Yy36UDQCKv3B",
        "outputId": "ae074312-de20-4481-ddf6-6e694efb5550"
      },
      "execution_count": null,
      "outputs": [
        {
          "output_type": "execute_result",
          "data": {
            "text/plain": [
              "False"
            ]
          },
          "metadata": {},
          "execution_count": 61
        }
      ]
    },
    {
      "cell_type": "code",
      "source": [
        "# a = {}\n",
        "a = set()\n",
        "a\n",
        "# type(a)"
      ],
      "metadata": {
        "colab": {
          "base_uri": "https://localhost:8080/"
        },
        "id": "ifg5UNRrNbSi",
        "outputId": "b51e43fa-045f-421d-9531-c6e93ff5c7a1"
      },
      "execution_count": null,
      "outputs": [
        {
          "output_type": "execute_result",
          "data": {
            "text/plain": [
              "set()"
            ]
          },
          "metadata": {},
          "execution_count": 57
        }
      ]
    },
    {
      "cell_type": "code",
      "source": [
        "# identity operator: is, is not\n",
        "\n",
        "print( 2 is 2)\n",
        "\n",
        "# print([1,2] is [1,2])\n",
        "# print([1,2] is [2,1])\n",
        "# print((1,2) is (1,2))\n",
        "# print({2,1} is {1,2,3})\n",
        "# print([1,2] is [1,2])\n",
        "# print(2 is 2.0)\n"
      ],
      "metadata": {
        "colab": {
          "base_uri": "https://localhost:8080/"
        },
        "id": "7kYzypLuO4V-",
        "outputId": "126d601a-6292-41bb-dfb5-bce9afb00dd7"
      },
      "execution_count": null,
      "outputs": [
        {
          "output_type": "stream",
          "name": "stdout",
          "text": [
            "True\n"
          ]
        },
        {
          "output_type": "stream",
          "name": "stderr",
          "text": [
            "<>:3: SyntaxWarning: \"is\" with a literal. Did you mean \"==\"?\n",
            "<>:3: SyntaxWarning: \"is\" with a literal. Did you mean \"==\"?\n",
            "<ipython-input-66-7b2148e4bc5a>:3: SyntaxWarning: \"is\" with a literal. Did you mean \"==\"?\n",
            "  print( 2 is 2)\n"
          ]
        }
      ]
    },
    {
      "cell_type": "code",
      "source": [
        "a = [1,2]\n",
        "print(id(a))\n",
        "print(a is a)\n",
        "print([1,2] is [1,2])"
      ],
      "metadata": {
        "colab": {
          "base_uri": "https://localhost:8080/"
        },
        "id": "xgXXFmDRP7y8",
        "outputId": "af296d33-9aeb-465a-f038-075e1cb59261"
      },
      "execution_count": null,
      "outputs": [
        {
          "output_type": "stream",
          "name": "stdout",
          "text": [
            "139886273883392\n",
            "True\n",
            "False\n"
          ]
        }
      ]
    },
    {
      "cell_type": "code",
      "source": [
        "a = [1,2]\n",
        "b = [1,2]\n",
        "print(id(a))\n",
        "print(id(b))\n"
      ],
      "metadata": {
        "colab": {
          "base_uri": "https://localhost:8080/"
        },
        "id": "f_BKVRU5QZZZ",
        "outputId": "3ec36cbe-148e-4bab-bc62-b64b87d0010f"
      },
      "execution_count": null,
      "outputs": [
        {
          "output_type": "stream",
          "name": "stdout",
          "text": [
            "139886752139136\n",
            "139886752141248\n"
          ]
        }
      ]
    },
    {
      "cell_type": "code",
      "source": [
        "# 0.1 + 0.2"
      ],
      "metadata": {
        "colab": {
          "base_uri": "https://localhost:8080/"
        },
        "id": "ZA9veqmNRRyi",
        "outputId": "cee6f182-c26e-4862-96b3-8761cdc3c117"
      },
      "execution_count": null,
      "outputs": [
        {
          "output_type": "execute_result",
          "data": {
            "text/plain": [
              "0.30000000000000004"
            ]
          },
          "metadata": {},
          "execution_count": 69
        }
      ]
    },
    {
      "cell_type": "markdown",
      "source": [
        "membership operator"
      ],
      "metadata": {
        "id": "U3Yjg4ZSSg4z"
      }
    },
    {
      "cell_type": "code",
      "source": [
        "# in, not in\n",
        "# print(2 in [2,3])\n",
        "\n"
      ],
      "metadata": {
        "colab": {
          "base_uri": "https://localhost:8080/"
        },
        "id": "zD829b02SY2B",
        "outputId": "7cc135b7-468f-4b66-a4cb-cbdb355895ac"
      },
      "execution_count": null,
      "outputs": [
        {
          "output_type": "stream",
          "name": "stdout",
          "text": [
            "True\n"
          ]
        }
      ]
    },
    {
      "cell_type": "code",
      "source": [],
      "metadata": {
        "id": "tmE3lT92Wo6M"
      },
      "execution_count": null,
      "outputs": []
    }
  ]
}